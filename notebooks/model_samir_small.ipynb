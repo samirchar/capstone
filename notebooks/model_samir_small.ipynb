{
 "cells": [
  {
   "cell_type": "code",
   "execution_count": 1,
   "id": "bb250e84",
   "metadata": {},
   "outputs": [],
   "source": [
    "import pandas as pd\n",
    "import numpy as np\n",
    "import seaborn as sns\n",
    "from sklearn.model_selection import cross_val_score, cross_validate, KFold, GridSearchCV\n",
    "from sklearn.linear_model import PoissonRegressor, LinearRegression,GammaRegressor\n",
    "from sklearn.pipeline import Pipeline\n",
    "from sklearn.preprocessing import StandardScaler,MinMaxScaler\n",
    "import matplotlib.pyplot as plt\n",
    "from sklearn.ensemble import RandomForestRegressor\n",
    "from sklearn.metrics import mean_absolute_error,mean_absolute_percentage_error,mean_poisson_deviance\n",
    "import statsmodels.api as sm\n",
    "from statsmodels.stats.outliers_influence import variance_inflation_factor\n",
    "\n"
   ]
  },
  {
   "cell_type": "code",
   "execution_count": 144,
   "id": "86005a07",
   "metadata": {},
   "outputs": [],
   "source": [
    "def prepare_data(file_path,cols = None,idx = 'FIPS',target = 'EVICTIONS'):\n",
    "\n",
    "    df = pd.read_csv(file_path)\n",
    "    df = df.sample(frac=1,random_state = 12)\n",
    "\n",
    "    df['socio_economic'] = ((df['EP_UNEMP'] + df['EP_NOHSDP'])/2)/df['EP_PCI']\n",
    "    df['vulnerable_age'] = (df['EP_AGE17']+df['EP_AGE65'])/2\n",
    "    df['minrty_lang'] = (df['EP_MINRTY'] + df['EP_LIMENG'])/2\n",
    "    df['pop_density'] = df['POPULATION']/df['AREA']\n",
    "    \n",
    "    df['FRI'] = df['CFLD_EALT'] + df['RFLD_EALT']\n",
    "    df['EAL_VALT'].fillna(0,inplace=True)\n",
    "    \n",
    "    df['DENIED'].fillna(0,inplace=True)\n",
    "    df['DENIED'] = df['DENIED']*100/df['POPULATION']\n",
    "\n",
    "    df[['AFAM','HISPANIC','WHITE','NUM_LOANS']] = (df[['AFAM','HISPANIC','WHITE','NUM_LOANS']]\\\n",
    "                                          .div(df['POPULATION'],axis=0))*100\n",
    "\n",
    "    df.dropna(inplace=True)#Inpute missing is better\n",
    "    \n",
    "    if cols is not None:\n",
    "        df = df[cols+[idx,target]]\n",
    "        \n",
    "    X,y = df.drop([idx,target],axis=1),df['EVICTIONS']\n",
    "\n",
    "    return X,y"
   ]
  },
  {
   "cell_type": "code",
   "execution_count": 145,
   "id": "20cb32b4",
   "metadata": {},
   "outputs": [],
   "source": [
    "cols = [\n",
    "        'pop_density',\n",
    "        'minrty_lang',\n",
    "        'vulnerable_age',\n",
    "        'socio_economic',\n",
    "        'EAL_VALT',\n",
    "        'MEAN_LOAN_AMOUNT',\n",
    "        'AFAM',\n",
    "        'WHITE',\n",
    "        'POPULATION'\n",
    "       ]\n",
    "\n",
    "#cols = None\n",
    "\n",
    "X_train, y_train = prepare_data(\"../data/processed/sepher_model_data/train.csv\",cols = cols)\n",
    "m,n = X_train.shape\n",
    "\n",
    "X_test, y_test = prepare_data(\"../data/processed/sepher_model_data/test.csv\",cols = cols)"
   ]
  },
  {
   "cell_type": "code",
   "execution_count": 158,
   "id": "1793c422",
   "metadata": {},
   "outputs": [
    {
     "data": {
      "text/html": [
       "<div>\n",
       "<style scoped>\n",
       "    .dataframe tbody tr th:only-of-type {\n",
       "        vertical-align: middle;\n",
       "    }\n",
       "\n",
       "    .dataframe tbody tr th {\n",
       "        vertical-align: top;\n",
       "    }\n",
       "\n",
       "    .dataframe thead th {\n",
       "        text-align: right;\n",
       "    }\n",
       "</style>\n",
       "<table border=\"1\" class=\"dataframe\">\n",
       "  <thead>\n",
       "    <tr style=\"text-align: right;\">\n",
       "      <th></th>\n",
       "      <th>pop_density</th>\n",
       "      <th>minrty_lang</th>\n",
       "      <th>vulnerable_age</th>\n",
       "      <th>socio_economic</th>\n",
       "      <th>EAL_VALT</th>\n",
       "      <th>MEAN_LOAN_AMOUNT</th>\n",
       "      <th>AFAM</th>\n",
       "      <th>WHITE</th>\n",
       "      <th>POPULATION</th>\n",
       "    </tr>\n",
       "  </thead>\n",
       "  <tbody>\n",
       "    <tr>\n",
       "      <th>pop_density</th>\n",
       "      <td>1.000000</td>\n",
       "      <td>0.444636</td>\n",
       "      <td>-0.150557</td>\n",
       "      <td>0.276778</td>\n",
       "      <td>-0.111321</td>\n",
       "      <td>0.266749</td>\n",
       "      <td>-0.033458</td>\n",
       "      <td>-0.258912</td>\n",
       "      <td>0.008424</td>\n",
       "    </tr>\n",
       "    <tr>\n",
       "      <th>minrty_lang</th>\n",
       "      <td>0.444636</td>\n",
       "      <td>1.000000</td>\n",
       "      <td>-0.159840</td>\n",
       "      <td>0.584626</td>\n",
       "      <td>-0.099029</td>\n",
       "      <td>0.077187</td>\n",
       "      <td>0.422734</td>\n",
       "      <td>-0.537583</td>\n",
       "      <td>0.033913</td>\n",
       "    </tr>\n",
       "    <tr>\n",
       "      <th>vulnerable_age</th>\n",
       "      <td>-0.150557</td>\n",
       "      <td>-0.159840</td>\n",
       "      <td>1.000000</td>\n",
       "      <td>-0.019780</td>\n",
       "      <td>0.060760</td>\n",
       "      <td>-0.071181</td>\n",
       "      <td>-0.043382</td>\n",
       "      <td>0.150717</td>\n",
       "      <td>-0.026178</td>\n",
       "    </tr>\n",
       "    <tr>\n",
       "      <th>socio_economic</th>\n",
       "      <td>0.276778</td>\n",
       "      <td>0.584626</td>\n",
       "      <td>-0.019780</td>\n",
       "      <td>1.000000</td>\n",
       "      <td>-0.076817</td>\n",
       "      <td>-0.007438</td>\n",
       "      <td>0.044456</td>\n",
       "      <td>-0.533265</td>\n",
       "      <td>-0.137259</td>\n",
       "    </tr>\n",
       "    <tr>\n",
       "      <th>EAL_VALT</th>\n",
       "      <td>-0.111321</td>\n",
       "      <td>-0.099029</td>\n",
       "      <td>0.060760</td>\n",
       "      <td>-0.076817</td>\n",
       "      <td>1.000000</td>\n",
       "      <td>-0.023810</td>\n",
       "      <td>-0.038203</td>\n",
       "      <td>0.102816</td>\n",
       "      <td>0.282823</td>\n",
       "    </tr>\n",
       "    <tr>\n",
       "      <th>MEAN_LOAN_AMOUNT</th>\n",
       "      <td>0.266749</td>\n",
       "      <td>0.077187</td>\n",
       "      <td>-0.071181</td>\n",
       "      <td>-0.007438</td>\n",
       "      <td>-0.023810</td>\n",
       "      <td>1.000000</td>\n",
       "      <td>-0.033343</td>\n",
       "      <td>-0.002499</td>\n",
       "      <td>0.018381</td>\n",
       "    </tr>\n",
       "    <tr>\n",
       "      <th>AFAM</th>\n",
       "      <td>-0.033458</td>\n",
       "      <td>0.422734</td>\n",
       "      <td>-0.043382</td>\n",
       "      <td>0.044456</td>\n",
       "      <td>-0.038203</td>\n",
       "      <td>-0.033343</td>\n",
       "      <td>1.000000</td>\n",
       "      <td>-0.080101</td>\n",
       "      <td>0.125469</td>\n",
       "    </tr>\n",
       "    <tr>\n",
       "      <th>WHITE</th>\n",
       "      <td>-0.258912</td>\n",
       "      <td>-0.537583</td>\n",
       "      <td>0.150717</td>\n",
       "      <td>-0.533265</td>\n",
       "      <td>0.102816</td>\n",
       "      <td>-0.002499</td>\n",
       "      <td>-0.080101</td>\n",
       "      <td>1.000000</td>\n",
       "      <td>0.122221</td>\n",
       "    </tr>\n",
       "    <tr>\n",
       "      <th>POPULATION</th>\n",
       "      <td>0.008424</td>\n",
       "      <td>0.033913</td>\n",
       "      <td>-0.026178</td>\n",
       "      <td>-0.137259</td>\n",
       "      <td>0.282823</td>\n",
       "      <td>0.018381</td>\n",
       "      <td>0.125469</td>\n",
       "      <td>0.122221</td>\n",
       "      <td>1.000000</td>\n",
       "    </tr>\n",
       "  </tbody>\n",
       "</table>\n",
       "</div>"
      ],
      "text/plain": [
       "                  pop_density  minrty_lang  vulnerable_age  socio_economic  \\\n",
       "pop_density          1.000000     0.444636       -0.150557        0.276778   \n",
       "minrty_lang          0.444636     1.000000       -0.159840        0.584626   \n",
       "vulnerable_age      -0.150557    -0.159840        1.000000       -0.019780   \n",
       "socio_economic       0.276778     0.584626       -0.019780        1.000000   \n",
       "EAL_VALT            -0.111321    -0.099029        0.060760       -0.076817   \n",
       "MEAN_LOAN_AMOUNT     0.266749     0.077187       -0.071181       -0.007438   \n",
       "AFAM                -0.033458     0.422734       -0.043382        0.044456   \n",
       "WHITE               -0.258912    -0.537583        0.150717       -0.533265   \n",
       "POPULATION           0.008424     0.033913       -0.026178       -0.137259   \n",
       "\n",
       "                  EAL_VALT  MEAN_LOAN_AMOUNT      AFAM     WHITE  POPULATION  \n",
       "pop_density      -0.111321          0.266749 -0.033458 -0.258912    0.008424  \n",
       "minrty_lang      -0.099029          0.077187  0.422734 -0.537583    0.033913  \n",
       "vulnerable_age    0.060760         -0.071181 -0.043382  0.150717   -0.026178  \n",
       "socio_economic   -0.076817         -0.007438  0.044456 -0.533265   -0.137259  \n",
       "EAL_VALT          1.000000         -0.023810 -0.038203  0.102816    0.282823  \n",
       "MEAN_LOAN_AMOUNT -0.023810          1.000000 -0.033343 -0.002499    0.018381  \n",
       "AFAM             -0.038203         -0.033343  1.000000 -0.080101    0.125469  \n",
       "WHITE             0.102816         -0.002499 -0.080101  1.000000    0.122221  \n",
       "POPULATION        0.282823          0.018381  0.125469  0.122221    1.000000  "
      ]
     },
     "execution_count": 158,
     "metadata": {},
     "output_type": "execute_result"
    }
   ],
   "source": [
    "X_train.corr()"
   ]
  },
  {
   "cell_type": "code",
   "execution_count": 146,
   "id": "5bf991c7",
   "metadata": {},
   "outputs": [
    {
     "data": {
      "text/plain": [
       "pop_density         39.958057\n",
       "vulnerable_age       2.812597\n",
       "EAL_VALT             1.859074\n",
       "POPULATION           1.629138\n",
       "WHITE                1.457430\n",
       "minrty_lang          1.456010\n",
       "MEAN_LOAN_AMOUNT     1.114528\n",
       "AFAM                 1.088328\n",
       "socio_economic       1.061170\n",
       "dtype: float64"
      ]
     },
     "execution_count": 146,
     "metadata": {},
     "output_type": "execute_result"
    }
   ],
   "source": [
    "\n",
    "temp = X_train.copy()\n",
    "vifs = pd.Series([variance_inflation_factor(sm.add_constant(temp).values, i) \n",
    "               for i in range(temp.shape[1])], \n",
    "              index=temp.columns).sort_values(ascending=False)\n",
    "vifs"
   ]
  },
  {
   "cell_type": "code",
   "execution_count": 147,
   "id": "64e12c82",
   "metadata": {},
   "outputs": [
    {
     "data": {
      "image/png": "[encoded data removed]",
      "text/plain": [
       "<Figure size 432x288 with 1 Axes>"
      ]
     },
     "metadata": {
      "needs_background": "light"
     },
     "output_type": "display_data"
    }
   ],
   "source": [
    "plt.hexbin(X_train['minrty_lang'],\n",
    "           X_train['pop_density'], \n",
    "           C=y_train,\n",
    "           gridsize=20,\n",
    "           cmap=\"copper\")\n",
    "plt.show()"
   ]
  },
  {
   "cell_type": "code",
   "execution_count": 148,
   "id": "e0f8a710",
   "metadata": {},
   "outputs": [
    {
     "data": {
      "text/html": [
       "<div>\n",
       "<style scoped>\n",
       "    .dataframe tbody tr th:only-of-type {\n",
       "        vertical-align: middle;\n",
       "    }\n",
       "\n",
       "    .dataframe tbody tr th {\n",
       "        vertical-align: top;\n",
       "    }\n",
       "\n",
       "    .dataframe thead th {\n",
       "        text-align: right;\n",
       "    }\n",
       "</style>\n",
       "<table border=\"1\" class=\"dataframe\">\n",
       "  <thead>\n",
       "    <tr style=\"text-align: right;\">\n",
       "      <th></th>\n",
       "      <th>pop_density</th>\n",
       "      <th>minrty_lang</th>\n",
       "      <th>vulnerable_age</th>\n",
       "      <th>socio_economic</th>\n",
       "      <th>EAL_VALT</th>\n",
       "      <th>MEAN_LOAN_AMOUNT</th>\n",
       "      <th>AFAM</th>\n",
       "      <th>WHITE</th>\n",
       "      <th>POPULATION</th>\n",
       "    </tr>\n",
       "  </thead>\n",
       "  <tbody>\n",
       "    <tr>\n",
       "      <th>pop_density</th>\n",
       "      <td>1.000000</td>\n",
       "      <td>0.444636</td>\n",
       "      <td>-0.150557</td>\n",
       "      <td>0.276778</td>\n",
       "      <td>-0.111321</td>\n",
       "      <td>0.266749</td>\n",
       "      <td>-0.033458</td>\n",
       "      <td>-0.258912</td>\n",
       "      <td>0.008424</td>\n",
       "    </tr>\n",
       "    <tr>\n",
       "      <th>minrty_lang</th>\n",
       "      <td>0.444636</td>\n",
       "      <td>1.000000</td>\n",
       "      <td>-0.159840</td>\n",
       "      <td>0.584626</td>\n",
       "      <td>-0.099029</td>\n",
       "      <td>0.077187</td>\n",
       "      <td>0.422734</td>\n",
       "      <td>-0.537583</td>\n",
       "      <td>0.033913</td>\n",
       "    </tr>\n",
       "    <tr>\n",
       "      <th>vulnerable_age</th>\n",
       "      <td>-0.150557</td>\n",
       "      <td>-0.159840</td>\n",
       "      <td>1.000000</td>\n",
       "      <td>-0.019780</td>\n",
       "      <td>0.060760</td>\n",
       "      <td>-0.071181</td>\n",
       "      <td>-0.043382</td>\n",
       "      <td>0.150717</td>\n",
       "      <td>-0.026178</td>\n",
       "    </tr>\n",
       "    <tr>\n",
       "      <th>socio_economic</th>\n",
       "      <td>0.276778</td>\n",
       "      <td>0.584626</td>\n",
       "      <td>-0.019780</td>\n",
       "      <td>1.000000</td>\n",
       "      <td>-0.076817</td>\n",
       "      <td>-0.007438</td>\n",
       "      <td>0.044456</td>\n",
       "      <td>-0.533265</td>\n",
       "      <td>-0.137259</td>\n",
       "    </tr>\n",
       "    <tr>\n",
       "      <th>EAL_VALT</th>\n",
       "      <td>-0.111321</td>\n",
       "      <td>-0.099029</td>\n",
       "      <td>0.060760</td>\n",
       "      <td>-0.076817</td>\n",
       "      <td>1.000000</td>\n",
       "      <td>-0.023810</td>\n",
       "      <td>-0.038203</td>\n",
       "      <td>0.102816</td>\n",
       "      <td>0.282823</td>\n",
       "    </tr>\n",
       "    <tr>\n",
       "      <th>MEAN_LOAN_AMOUNT</th>\n",
       "      <td>0.266749</td>\n",
       "      <td>0.077187</td>\n",
       "      <td>-0.071181</td>\n",
       "      <td>-0.007438</td>\n",
       "      <td>-0.023810</td>\n",
       "      <td>1.000000</td>\n",
       "      <td>-0.033343</td>\n",
       "      <td>-0.002499</td>\n",
       "      <td>0.018381</td>\n",
       "    </tr>\n",
       "    <tr>\n",
       "      <th>AFAM</th>\n",
       "      <td>-0.033458</td>\n",
       "      <td>0.422734</td>\n",
       "      <td>-0.043382</td>\n",
       "      <td>0.044456</td>\n",
       "      <td>-0.038203</td>\n",
       "      <td>-0.033343</td>\n",
       "      <td>1.000000</td>\n",
       "      <td>-0.080101</td>\n",
       "      <td>0.125469</td>\n",
       "    </tr>\n",
       "    <tr>\n",
       "      <th>WHITE</th>\n",
       "      <td>-0.258912</td>\n",
       "      <td>-0.537583</td>\n",
       "      <td>0.150717</td>\n",
       "      <td>-0.533265</td>\n",
       "      <td>0.102816</td>\n",
       "      <td>-0.002499</td>\n",
       "      <td>-0.080101</td>\n",
       "      <td>1.000000</td>\n",
       "      <td>0.122221</td>\n",
       "    </tr>\n",
       "    <tr>\n",
       "      <th>POPULATION</th>\n",
       "      <td>0.008424</td>\n",
       "      <td>0.033913</td>\n",
       "      <td>-0.026178</td>\n",
       "      <td>-0.137259</td>\n",
       "      <td>0.282823</td>\n",
       "      <td>0.018381</td>\n",
       "      <td>0.125469</td>\n",
       "      <td>0.122221</td>\n",
       "      <td>1.000000</td>\n",
       "    </tr>\n",
       "  </tbody>\n",
       "</table>\n",
       "</div>"
      ],
      "text/plain": [
       "                  pop_density  minrty_lang  vulnerable_age  socio_economic  \\\n",
       "pop_density          1.000000     0.444636       -0.150557        0.276778   \n",
       "minrty_lang          0.444636     1.000000       -0.159840        0.584626   \n",
       "vulnerable_age      -0.150557    -0.159840        1.000000       -0.019780   \n",
       "socio_economic       0.276778     0.584626       -0.019780        1.000000   \n",
       "EAL_VALT            -0.111321    -0.099029        0.060760       -0.076817   \n",
       "MEAN_LOAN_AMOUNT     0.266749     0.077187       -0.071181       -0.007438   \n",
       "AFAM                -0.033458     0.422734       -0.043382        0.044456   \n",
       "WHITE               -0.258912    -0.537583        0.150717       -0.533265   \n",
       "POPULATION           0.008424     0.033913       -0.026178       -0.137259   \n",
       "\n",
       "                  EAL_VALT  MEAN_LOAN_AMOUNT      AFAM     WHITE  POPULATION  \n",
       "pop_density      -0.111321          0.266749 -0.033458 -0.258912    0.008424  \n",
       "minrty_lang      -0.099029          0.077187  0.422734 -0.537583    0.033913  \n",
       "vulnerable_age    0.060760         -0.071181 -0.043382  0.150717   -0.026178  \n",
       "socio_economic   -0.076817         -0.007438  0.044456 -0.533265   -0.137259  \n",
       "EAL_VALT          1.000000         -0.023810 -0.038203  0.102816    0.282823  \n",
       "MEAN_LOAN_AMOUNT -0.023810          1.000000 -0.033343 -0.002499    0.018381  \n",
       "AFAM             -0.038203         -0.033343  1.000000 -0.080101    0.125469  \n",
       "WHITE             0.102816         -0.002499 -0.080101  1.000000    0.122221  \n",
       "POPULATION        0.282823          0.018381  0.125469  0.122221    1.000000  "
      ]
     },
     "execution_count": 148,
     "metadata": {},
     "output_type": "execute_result"
    }
   ],
   "source": [
    "X_train.corr()"
   ]
  },
  {
   "cell_type": "markdown",
   "id": "841d6444",
   "metadata": {},
   "source": [
    "# Poisson Regression"
   ]
  },
  {
   "cell_type": "code",
   "execution_count": 149,
   "id": "54a95327",
   "metadata": {},
   "outputs": [],
   "source": [
    "pipe_pr = Pipeline([('scaler', StandardScaler()), ('pr', PoissonRegressor(max_iter=10000))])"
   ]
  },
  {
   "cell_type": "code",
   "execution_count": 150,
   "id": "715a47f4",
   "metadata": {},
   "outputs": [],
   "source": [
    "parameters = {'pr__alpha':np.arange(0,3.1,.1)}\n",
    "gcv = GridSearchCV(pipe_pr,parameters,cv=10,scoring='neg_mean_absolute_error',n_jobs=-1)\n",
    "gcv.fit(X_train,y_train)\n",
    "best_pipe = gcv.best_estimator_\n",
    "best_pipe.fit(X_train,y_train)\n",
    "best_pr = best_pipe['pr']"
   ]
  },
  {
   "cell_type": "code",
   "execution_count": 151,
   "id": "0f42c137",
   "metadata": {},
   "outputs": [
    {
     "data": {
      "text/plain": [
       "(-14.903876536303594, 0.0)"
      ]
     },
     "execution_count": 151,
     "metadata": {},
     "output_type": "execute_result"
    }
   ],
   "source": [
    "gcv.best_score_,best_pr.alpha"
   ]
  },
  {
   "cell_type": "code",
   "execution_count": 152,
   "id": "eb7dfcc9",
   "metadata": {},
   "outputs": [],
   "source": [
    "y_pred = best_pipe.predict(X_test)"
   ]
  },
  {
   "cell_type": "code",
   "execution_count": 153,
   "id": "df59f3b1",
   "metadata": {},
   "outputs": [
    {
     "data": {
      "text/plain": [
       "1104.484362499489"
      ]
     },
     "execution_count": 153,
     "metadata": {},
     "output_type": "execute_result"
    }
   ],
   "source": [
    "id_outlier = np.where(y_pred==y_pred.max())[0][0]\n",
    "\n",
    "y_test_l = list(y_test)\n",
    "y_pred_l = list(y_pred)\n",
    "\n",
    "y_test_l.pop(id_outlier)\n",
    "y_pred_l.pop(id_outlier)"
   ]
  },
  {
   "cell_type": "code",
   "execution_count": 154,
   "id": "f893a0d8",
   "metadata": {},
   "outputs": [
    {
     "data": {
      "text/plain": [
       "14.862304209645712"
      ]
     },
     "execution_count": 154,
     "metadata": {},
     "output_type": "execute_result"
    }
   ],
   "source": [
    "mean_absolute_error(y_test_l,y_pred_l)"
   ]
  },
  {
   "cell_type": "code",
   "execution_count": 155,
   "id": "f1cd1fc5",
   "metadata": {},
   "outputs": [
    {
     "name": "stderr",
     "output_type": "stream",
     "text": [
      "/opt/anaconda3/lib/python3.7/site-packages/seaborn/distributions.py:2551: FutureWarning: `distplot` is a deprecated function and will be removed in a future version. Please adapt your code to use either `displot` (a figure-level function with similar flexibility) or `histplot` (an axes-level function for histograms).\n",
      "  warnings.warn(msg, FutureWarning)\n",
      "/opt/anaconda3/lib/python3.7/site-packages/seaborn/distributions.py:2551: FutureWarning: `distplot` is a deprecated function and will be removed in a future version. Please adapt your code to use either `displot` (a figure-level function with similar flexibility) or `histplot` (an axes-level function for histograms).\n",
      "  warnings.warn(msg, FutureWarning)\n"
     ]
    },
    {
     "data": {
      "image/png": "[encoded data removed]",
      "text/plain": [
       "<Figure size 720x720 with 1 Axes>"
      ]
     },
     "metadata": {
      "needs_background": "light"
     },
     "output_type": "display_data"
    }
   ],
   "source": [
    "ax = plt.figure(figsize = (10,10))\n",
    "sns.distplot(x = y_test_l,bins = 30,label = 'y_test')\n",
    "sns.distplot(x = y_pred_l,bins = 30,label = 'y_pred')\n",
    "plt.legend()\n",
    "plt.show()"
   ]
  },
  {
   "cell_type": "code",
   "execution_count": 156,
   "id": "00c0c9c3",
   "metadata": {},
   "outputs": [],
   "source": [
    "best_pr_coeffs = pd.DataFrame({'coefs':best_pr.coef_},index = X_train.columns)\n",
    "best_pr_coeffs['coefs_abs'] = best_pr_coeffs['coefs'].abs()\n",
    "best_pr_coeffs = best_pr_coeffs\\\n",
    "    .sort_values(by ='coefs_abs',\n",
    "                 ascending=False)"
   ]
  },
  {
   "cell_type": "code",
   "execution_count": 157,
   "id": "cd77281b",
   "metadata": {},
   "outputs": [
    {
     "data": {
      "text/html": [
       "<div>\n",
       "<style scoped>\n",
       "    .dataframe tbody tr th:only-of-type {\n",
       "        vertical-align: middle;\n",
       "    }\n",
       "\n",
       "    .dataframe tbody tr th {\n",
       "        vertical-align: top;\n",
       "    }\n",
       "\n",
       "    .dataframe thead th {\n",
       "        text-align: right;\n",
       "    }\n",
       "</style>\n",
       "<table border=\"1\" class=\"dataframe\">\n",
       "  <thead>\n",
       "    <tr style=\"text-align: right;\">\n",
       "      <th></th>\n",
       "      <th>coefs</th>\n",
       "      <th>coefs_abs</th>\n",
       "    </tr>\n",
       "  </thead>\n",
       "  <tbody>\n",
       "    <tr>\n",
       "      <th>WHITE</th>\n",
       "      <td>-0.446515</td>\n",
       "      <td>0.446515</td>\n",
       "    </tr>\n",
       "    <tr>\n",
       "      <th>POPULATION</th>\n",
       "      <td>0.278915</td>\n",
       "      <td>0.278915</td>\n",
       "    </tr>\n",
       "    <tr>\n",
       "      <th>minrty_lang</th>\n",
       "      <td>0.264467</td>\n",
       "      <td>0.264467</td>\n",
       "    </tr>\n",
       "    <tr>\n",
       "      <th>EAL_VALT</th>\n",
       "      <td>-0.174406</td>\n",
       "      <td>0.174406</td>\n",
       "    </tr>\n",
       "    <tr>\n",
       "      <th>AFAM</th>\n",
       "      <td>0.092020</td>\n",
       "      <td>0.092020</td>\n",
       "    </tr>\n",
       "    <tr>\n",
       "      <th>vulnerable_age</th>\n",
       "      <td>-0.087966</td>\n",
       "      <td>0.087966</td>\n",
       "    </tr>\n",
       "    <tr>\n",
       "      <th>socio_economic</th>\n",
       "      <td>0.051564</td>\n",
       "      <td>0.051564</td>\n",
       "    </tr>\n",
       "    <tr>\n",
       "      <th>pop_density</th>\n",
       "      <td>0.019700</td>\n",
       "      <td>0.019700</td>\n",
       "    </tr>\n",
       "    <tr>\n",
       "      <th>MEAN_LOAN_AMOUNT</th>\n",
       "      <td>0.001394</td>\n",
       "      <td>0.001394</td>\n",
       "    </tr>\n",
       "  </tbody>\n",
       "</table>\n",
       "</div>"
      ],
      "text/plain": [
       "                     coefs  coefs_abs\n",
       "WHITE            -0.446515   0.446515\n",
       "POPULATION        0.278915   0.278915\n",
       "minrty_lang       0.264467   0.264467\n",
       "EAL_VALT         -0.174406   0.174406\n",
       "AFAM              0.092020   0.092020\n",
       "vulnerable_age   -0.087966   0.087966\n",
       "socio_economic    0.051564   0.051564\n",
       "pop_density       0.019700   0.019700\n",
       "MEAN_LOAN_AMOUNT  0.001394   0.001394"
      ]
     },
     "execution_count": 157,
     "metadata": {},
     "output_type": "execute_result"
    }
   ],
   "source": [
    "best_pr_coeffs"
   ]
  },
  {
   "cell_type": "code",
   "execution_count": 33,
   "id": "fff88e7b",
   "metadata": {},
   "outputs": [
    {
     "data": {
      "text/plain": [
       "<matplotlib.collections.PathCollection at 0x7fb4413ed450>"
      ]
     },
     "execution_count": 33,
     "metadata": {},
     "output_type": "execute_result"
    },
    {
     "data": {
      "image/png": "[encoded data removed]",
      "text/plain": [
       "<Figure size 432x288 with 1 Axes>"
      ]
     },
     "metadata": {
      "needs_background": "light"
     },
     "output_type": "display_data"
    }
   ],
   "source": [
    "plt.scatter(X_train['WHITE'],np.log1p(y_train))\n",
    "#plt.xlim(-1,20)"
   ]
  },
  {
   "cell_type": "code",
   "execution_count": 34,
   "id": "698afe3b",
   "metadata": {},
   "outputs": [
    {
     "data": {
      "text/plain": [
       "<matplotlib.collections.PathCollection at 0x7fb441490d90>"
      ]
     },
     "execution_count": 34,
     "metadata": {},
     "output_type": "execute_result"
    },
    {
     "data": {
      "image/png": "[encoded data removed]",
      "text/plain": [
       "<Figure size 432x288 with 1 Axes>"
      ]
     },
     "metadata": {
      "needs_background": "light"
     },
     "output_type": "display_data"
    }
   ],
   "source": [
    "plt.scatter(X_train['AFAM'],np.log1p(y_train))\n",
    "#plt.xlim(-1,20)"
   ]
  },
  {
   "cell_type": "code",
   "execution_count": 44,
   "id": "72d8c26c",
   "metadata": {},
   "outputs": [
    {
     "data": {
      "text/html": [
       "<table class=\"simpletable\">\n",
       "<caption>Generalized Linear Model Regression Results</caption>\n",
       "<tr>\n",
       "  <th>Dep. Variable:</th>           <td>y</td>        <th>  No. Observations:  </th>   <td> 10200</td>   \n",
       "</tr>\n",
       "<tr>\n",
       "  <th>Model:</th>                  <td>GLM</td>       <th>  Df Residuals:      </th>   <td> 10190</td>   \n",
       "</tr>\n",
       "<tr>\n",
       "  <th>Model Family:</th>         <td>Poisson</td>     <th>  Df Model:          </th>   <td>     9</td>   \n",
       "</tr>\n",
       "<tr>\n",
       "  <th>Link Function:</th>          <td>log</td>       <th>  Scale:             </th>  <td>  1.0000</td>  \n",
       "</tr>\n",
       "<tr>\n",
       "  <th>Method:</th>                <td>IRLS</td>       <th>  Log-Likelihood:    </th> <td>-1.0320e+05</td>\n",
       "</tr>\n",
       "<tr>\n",
       "  <th>Date:</th>            <td>Thu, 25 Nov 2021</td> <th>  Deviance:          </th> <td>1.6470e+05</td> \n",
       "</tr>\n",
       "<tr>\n",
       "  <th>Time:</th>                <td>12:28:05</td>     <th>  Pearson chi2:      </th>  <td>2.69e+05</td>  \n",
       "</tr>\n",
       "<tr>\n",
       "  <th>No. Iterations:</th>          <td>7</td>        <th>                     </th>      <td> </td>     \n",
       "</tr>\n",
       "<tr>\n",
       "  <th>Covariance Type:</th>     <td>nonrobust</td>    <th>                     </th>      <td> </td>     \n",
       "</tr>\n",
       "</table>\n",
       "<table class=\"simpletable\">\n",
       "<tr>\n",
       "          <td></td>            <th>coef</th>     <th>std err</th>      <th>z</th>      <th>P>|z|</th>  <th>[0.025</th>    <th>0.975]</th>  \n",
       "</tr>\n",
       "<tr>\n",
       "  <th>const</th>            <td>    3.0896</td> <td>    0.013</td> <td>  245.097</td> <td> 0.000</td> <td>    3.065</td> <td>    3.114</td>\n",
       "</tr>\n",
       "<tr>\n",
       "  <th>pop_density</th>      <td> 1.533e-06</td> <td> 1.19e-07</td> <td>   12.932</td> <td> 0.000</td> <td>  1.3e-06</td> <td> 1.76e-06</td>\n",
       "</tr>\n",
       "<tr>\n",
       "  <th>minrty_lang</th>      <td>    0.0178</td> <td>    0.000</td> <td>   89.441</td> <td> 0.000</td> <td>    0.017</td> <td>    0.018</td>\n",
       "</tr>\n",
       "<tr>\n",
       "  <th>vulnerable_age</th>   <td>   -0.0120</td> <td>    0.000</td> <td>  -43.257</td> <td> 0.000</td> <td>   -0.013</td> <td>   -0.011</td>\n",
       "</tr>\n",
       "<tr>\n",
       "  <th>socio_economic</th>   <td> 2.993e-07</td> <td> 2.58e-08</td> <td>   11.612</td> <td> 0.000</td> <td> 2.49e-07</td> <td>  3.5e-07</td>\n",
       "</tr>\n",
       "<tr>\n",
       "  <th>EAL_VALT</th>         <td>-2.677e-07</td> <td> 4.13e-09</td> <td>  -64.825</td> <td> 0.000</td> <td>-2.76e-07</td> <td> -2.6e-07</td>\n",
       "</tr>\n",
       "<tr>\n",
       "  <th>MEAN_LOAN_AMOUNT</th> <td> 1.172e-06</td> <td> 1.97e-06</td> <td>    0.595</td> <td> 0.552</td> <td>-2.69e-06</td> <td> 5.03e-06</td>\n",
       "</tr>\n",
       "<tr>\n",
       "  <th>AFAM</th>             <td>    0.1392</td> <td>    0.003</td> <td>   45.717</td> <td> 0.000</td> <td>    0.133</td> <td>    0.145</td>\n",
       "</tr>\n",
       "<tr>\n",
       "  <th>WHITE</th>            <td>   -0.2225</td> <td>    0.002</td> <td> -124.166</td> <td> 0.000</td> <td>   -0.226</td> <td>   -0.219</td>\n",
       "</tr>\n",
       "<tr>\n",
       "  <th>POPULATION</th>       <td>    0.0001</td> <td>  8.3e-07</td> <td>  154.013</td> <td> 0.000</td> <td>    0.000</td> <td>    0.000</td>\n",
       "</tr>\n",
       "</table>"
      ],
      "text/plain": [
       "<class 'statsmodels.iolib.summary.Summary'>\n",
       "\"\"\"\n",
       "                 Generalized Linear Model Regression Results                  \n",
       "==============================================================================\n",
       "Dep. Variable:                      y   No. Observations:                10200\n",
       "Model:                            GLM   Df Residuals:                    10190\n",
       "Model Family:                 Poisson   Df Model:                            9\n",
       "Link Function:                    log   Scale:                          1.0000\n",
       "Method:                          IRLS   Log-Likelihood:            -1.0320e+05\n",
       "Date:                Thu, 25 Nov 2021   Deviance:                   1.6470e+05\n",
       "Time:                        12:28:05   Pearson chi2:                 2.69e+05\n",
       "No. Iterations:                     7                                         \n",
       "Covariance Type:            nonrobust                                         \n",
       "====================================================================================\n",
       "                       coef    std err          z      P>|z|      [0.025      0.975]\n",
       "------------------------------------------------------------------------------------\n",
       "const                3.0896      0.013    245.097      0.000       3.065       3.114\n",
       "pop_density       1.533e-06   1.19e-07     12.932      0.000     1.3e-06    1.76e-06\n",
       "minrty_lang          0.0178      0.000     89.441      0.000       0.017       0.018\n",
       "vulnerable_age      -0.0120      0.000    -43.257      0.000      -0.013      -0.011\n",
       "socio_economic    2.993e-07   2.58e-08     11.612      0.000    2.49e-07     3.5e-07\n",
       "EAL_VALT         -2.677e-07   4.13e-09    -64.825      0.000   -2.76e-07    -2.6e-07\n",
       "MEAN_LOAN_AMOUNT  1.172e-06   1.97e-06      0.595      0.552   -2.69e-06    5.03e-06\n",
       "AFAM                 0.1392      0.003     45.717      0.000       0.133       0.145\n",
       "WHITE               -0.2225      0.002   -124.166      0.000      -0.226      -0.219\n",
       "POPULATION           0.0001    8.3e-07    154.013      0.000       0.000       0.000\n",
       "====================================================================================\n",
       "\"\"\""
      ]
     },
     "execution_count": 44,
     "metadata": {},
     "output_type": "execute_result"
    }
   ],
   "source": [
    "glm_model = sm.GLM(y_train.values,sm.add_constant(X_train),family=sm.families.Poisson())\n",
    "glm_results = glm_model.fit()\n",
    "glm_results.summary()"
   ]
  },
  {
   "cell_type": "markdown",
   "id": "6e7500ba",
   "metadata": {},
   "source": [
    "# Gamma regression"
   ]
  },
  {
   "cell_type": "code",
   "execution_count": 45,
   "id": "6b129e57",
   "metadata": {},
   "outputs": [],
   "source": [
    "pipe_gr = Pipeline([('scaler', StandardScaler()), ('gr', GammaRegressor(max_iter=10000))])"
   ]
  },
  {
   "cell_type": "code",
   "execution_count": 46,
   "id": "4f11c45a",
   "metadata": {},
   "outputs": [],
   "source": [
    "aux_bias = 0.0001\n",
    "parameters = {'gr__alpha':np.arange(0,6,0.1)}\n",
    "gcv = GridSearchCV(pipe_gr,parameters,cv=10,scoring='neg_mean_absolute_error',n_jobs=-1)\n",
    "gcv.fit(X_train,y_train+aux_bias) # add .1 to avoid out of distribution error\n",
    "best_pipe = gcv.best_estimator_\n",
    "best_pipe.fit(X_train,y_train+aux_bias)\n",
    "best_gr = best_pipe['gr']"
   ]
  },
  {
   "cell_type": "code",
   "execution_count": 47,
   "id": "0f93cc6b",
   "metadata": {},
   "outputs": [
    {
     "data": {
      "text/plain": [
       "-15.079676965592904"
      ]
     },
     "execution_count": 47,
     "metadata": {},
     "output_type": "execute_result"
    }
   ],
   "source": [
    "gcv.best_score_"
   ]
  },
  {
   "cell_type": "code",
   "execution_count": 48,
   "id": "7975bbfc",
   "metadata": {},
   "outputs": [
    {
     "data": {
      "text/plain": [
       "0.6000000000000001"
      ]
     },
     "execution_count": 48,
     "metadata": {},
     "output_type": "execute_result"
    }
   ],
   "source": [
    "gcv.best_estimator_['gr'].alpha"
   ]
  },
  {
   "cell_type": "code",
   "execution_count": 49,
   "id": "3e99e667",
   "metadata": {},
   "outputs": [],
   "source": [
    "y_pred = best_pipe.predict(X_test)-aux_bias\n",
    "\n"
   ]
  },
  {
   "cell_type": "code",
   "execution_count": 50,
   "id": "db31a7ab",
   "metadata": {},
   "outputs": [
    {
     "name": "stderr",
     "output_type": "stream",
     "text": [
      "/opt/anaconda3/lib/python3.7/site-packages/seaborn/distributions.py:2551: FutureWarning: `distplot` is a deprecated function and will be removed in a future version. Please adapt your code to use either `displot` (a figure-level function with similar flexibility) or `histplot` (an axes-level function for histograms).\n",
      "  warnings.warn(msg, FutureWarning)\n",
      "/opt/anaconda3/lib/python3.7/site-packages/seaborn/distributions.py:2551: FutureWarning: `distplot` is a deprecated function and will be removed in a future version. Please adapt your code to use either `displot` (a figure-level function with similar flexibility) or `histplot` (an axes-level function for histograms).\n",
      "  warnings.warn(msg, FutureWarning)\n"
     ]
    },
    {
     "data": {
      "image/png": "[encoded data removed]",
      "text/plain": [
       "<Figure size 720x720 with 1 Axes>"
      ]
     },
     "metadata": {
      "needs_background": "light"
     },
     "output_type": "display_data"
    }
   ],
   "source": [
    "ax = plt.figure(figsize = (10,10))\n",
    "sns.distplot(x = y_test,bins = 30,label = 'y_test')\n",
    "sns.distplot(x = y_pred,bins = 30,label = 'y_pred')\n",
    "plt.legend()\n",
    "plt.show()"
   ]
  },
  {
   "cell_type": "code",
   "execution_count": 51,
   "id": "76e2eb3f",
   "metadata": {},
   "outputs": [
    {
     "data": {
      "text/plain": [
       "15.15965584372183"
      ]
     },
     "execution_count": 51,
     "metadata": {},
     "output_type": "execute_result"
    }
   ],
   "source": [
    "mean_absolute_error(y_test,y_pred)"
   ]
  },
  {
   "cell_type": "markdown",
   "id": "403c1369",
   "metadata": {},
   "source": [
    "# Random Forrest"
   ]
  },
  {
   "cell_type": "markdown",
   "id": "483c37c7",
   "metadata": {},
   "source": [
    "## Loss = MSE"
   ]
  },
  {
   "cell_type": "code",
   "execution_count": 52,
   "id": "5397f5c5",
   "metadata": {},
   "outputs": [],
   "source": [
    "pipe_rf = Pipeline([('rf', RandomForestRegressor(n_estimators=200,\n",
    "                                                n_jobs=-1,\n",
    "                                                random_state = 12,\n",
    "                                                criterion = 'squared_error'\n",
    "                                             )\n",
    "                 )\n",
    "                ])"
   ]
  },
  {
   "cell_type": "code",
   "execution_count": 53,
   "id": "e98d07c7",
   "metadata": {},
   "outputs": [
    {
     "name": "stdout",
     "output_type": "stream",
     "text": [
      "Fitting 10 folds for each of 25 candidates, totalling 250 fits\n",
      "[CV] END .........rf__max_features=2, rf__min_samples_leaf=1; total time=   1.4s\n",
      "[CV] END .........rf__max_features=2, rf__min_samples_leaf=1; total time=   1.3s\n",
      "[CV] END .........rf__max_features=2, rf__min_samples_leaf=1; total time=   1.1s\n",
      "[CV] END .........rf__max_features=2, rf__min_samples_leaf=1; total time=   1.4s\n",
      "[CV] END .........rf__max_features=2, rf__min_samples_leaf=1; total time=   1.2s\n",
      "[CV] END .........rf__max_features=2, rf__min_samples_leaf=1; total time=   1.1s\n",
      "[CV] END .........rf__max_features=2, rf__min_samples_leaf=1; total time=   1.3s\n",
      "[CV] END .........rf__max_features=2, rf__min_samples_leaf=1; total time=   1.3s\n",
      "[CV] END .........rf__max_features=2, rf__min_samples_leaf=1; total time=   1.1s\n",
      "[CV] END .........rf__max_features=2, rf__min_samples_leaf=1; total time=   1.6s\n",
      "[CV] END .........rf__max_features=2, rf__min_samples_leaf=2; total time=   0.9s\n",
      "[CV] END .........rf__max_features=2, rf__min_samples_leaf=2; total time=   1.0s\n",
      "[CV] END .........rf__max_features=2, rf__min_samples_leaf=2; total time=   0.9s\n",
      "[CV] END .........rf__max_features=2, rf__min_samples_leaf=2; total time=   0.9s\n",
      "[CV] END .........rf__max_features=2, rf__min_samples_leaf=2; total time=   1.0s\n",
      "[CV] END .........rf__max_features=2, rf__min_samples_leaf=2; total time=   1.1s\n",
      "[CV] END .........rf__max_features=2, rf__min_samples_leaf=2; total time=   0.9s\n",
      "[CV] END .........rf__max_features=2, rf__min_samples_leaf=2; total time=   0.9s\n",
      "[CV] END .........rf__max_features=2, rf__min_samples_leaf=2; total time=   1.4s\n",
      "[CV] END .........rf__max_features=2, rf__min_samples_leaf=2; total time=   0.9s\n",
      "[CV] END .........rf__max_features=2, rf__min_samples_leaf=4; total time=   1.1s\n",
      "[CV] END .........rf__max_features=2, rf__min_samples_leaf=4; total time=   0.9s\n",
      "[CV] END .........rf__max_features=2, rf__min_samples_leaf=4; total time=   0.8s\n",
      "[CV] END .........rf__max_features=2, rf__min_samples_leaf=4; total time=   0.8s\n",
      "[CV] END .........rf__max_features=2, rf__min_samples_leaf=4; total time=   0.9s\n",
      "[CV] END .........rf__max_features=2, rf__min_samples_leaf=4; total time=   0.8s\n",
      "[CV] END .........rf__max_features=2, rf__min_samples_leaf=4; total time=   1.0s\n",
      "[CV] END .........rf__max_features=2, rf__min_samples_leaf=4; total time=   0.9s\n",
      "[CV] END .........rf__max_features=2, rf__min_samples_leaf=4; total time=   1.0s\n",
      "[CV] END .........rf__max_features=2, rf__min_samples_leaf=4; total time=   1.0s\n",
      "[CV] END .........rf__max_features=2, rf__min_samples_leaf=8; total time=   0.8s\n",
      "[CV] END .........rf__max_features=2, rf__min_samples_leaf=8; total time=   0.7s\n",
      "[CV] END .........rf__max_features=2, rf__min_samples_leaf=8; total time=   0.8s\n",
      "[CV] END .........rf__max_features=2, rf__min_samples_leaf=8; total time=   0.8s\n",
      "[CV] END .........rf__max_features=2, rf__min_samples_leaf=8; total time=   1.0s\n",
      "[CV] END .........rf__max_features=2, rf__min_samples_leaf=8; total time=   1.1s\n",
      "[CV] END .........rf__max_features=2, rf__min_samples_leaf=8; total time=   0.8s\n",
      "[CV] END .........rf__max_features=2, rf__min_samples_leaf=8; total time=   0.9s\n",
      "[CV] END .........rf__max_features=2, rf__min_samples_leaf=8; total time=   0.7s\n",
      "[CV] END .........rf__max_features=2, rf__min_samples_leaf=8; total time=   0.7s\n",
      "[CV] END ........rf__max_features=2, rf__min_samples_leaf=16; total time=   0.7s\n",
      "[CV] END ........rf__max_features=2, rf__min_samples_leaf=16; total time=   0.7s\n",
      "[CV] END ........rf__max_features=2, rf__min_samples_leaf=16; total time=   0.7s\n",
      "[CV] END ........rf__max_features=2, rf__min_samples_leaf=16; total time=   0.7s\n",
      "[CV] END ........rf__max_features=2, rf__min_samples_leaf=16; total time=   0.7s\n",
      "[CV] END ........rf__max_features=2, rf__min_samples_leaf=16; total time=   0.7s\n",
      "[CV] END ........rf__max_features=2, rf__min_samples_leaf=16; total time=   0.7s\n",
      "[CV] END ........rf__max_features=2, rf__min_samples_leaf=16; total time=   0.7s\n",
      "[CV] END ........rf__max_features=2, rf__min_samples_leaf=16; total time=   0.7s\n",
      "[CV] END ........rf__max_features=2, rf__min_samples_leaf=16; total time=   0.7s\n",
      "[CV] END .........rf__max_features=3, rf__min_samples_leaf=1; total time=   1.5s\n",
      "[CV] END .........rf__max_features=3, rf__min_samples_leaf=1; total time=   1.4s\n",
      "[CV] END .........rf__max_features=3, rf__min_samples_leaf=1; total time=   1.4s\n",
      "[CV] END .........rf__max_features=3, rf__min_samples_leaf=1; total time=   1.4s\n",
      "[CV] END .........rf__max_features=3, rf__min_samples_leaf=1; total time=   1.5s\n",
      "[CV] END .........rf__max_features=3, rf__min_samples_leaf=1; total time=   1.6s\n",
      "[CV] END .........rf__max_features=3, rf__min_samples_leaf=1; total time=   1.4s\n",
      "[CV] END .........rf__max_features=3, rf__min_samples_leaf=1; total time=   1.6s\n",
      "[CV] END .........rf__max_features=3, rf__min_samples_leaf=1; total time=   1.4s\n",
      "[CV] END .........rf__max_features=3, rf__min_samples_leaf=1; total time=   1.4s\n",
      "[CV] END .........rf__max_features=3, rf__min_samples_leaf=2; total time=   1.1s\n",
      "[CV] END .........rf__max_features=3, rf__min_samples_leaf=2; total time=   1.6s\n",
      "[CV] END .........rf__max_features=3, rf__min_samples_leaf=2; total time=   1.2s\n",
      "[CV] END .........rf__max_features=3, rf__min_samples_leaf=2; total time=   1.1s\n",
      "[CV] END .........rf__max_features=3, rf__min_samples_leaf=2; total time=   1.4s\n",
      "[CV] END .........rf__max_features=3, rf__min_samples_leaf=2; total time=   1.4s\n",
      "[CV] END .........rf__max_features=3, rf__min_samples_leaf=2; total time=   1.3s\n",
      "[CV] END .........rf__max_features=3, rf__min_samples_leaf=2; total time=   1.7s\n",
      "[CV] END .........rf__max_features=3, rf__min_samples_leaf=2; total time=   1.5s\n",
      "[CV] END .........rf__max_features=3, rf__min_samples_leaf=2; total time=   1.2s\n",
      "[CV] END .........rf__max_features=3, rf__min_samples_leaf=4; total time=   1.0s\n",
      "[CV] END .........rf__max_features=3, rf__min_samples_leaf=4; total time=   0.9s\n",
      "[CV] END .........rf__max_features=3, rf__min_samples_leaf=4; total time=   1.0s\n",
      "[CV] END .........rf__max_features=3, rf__min_samples_leaf=4; total time=   0.9s\n",
      "[CV] END .........rf__max_features=3, rf__min_samples_leaf=4; total time=   1.0s\n",
      "[CV] END .........rf__max_features=3, rf__min_samples_leaf=4; total time=   1.0s\n",
      "[CV] END .........rf__max_features=3, rf__min_samples_leaf=4; total time=   0.9s\n",
      "[CV] END .........rf__max_features=3, rf__min_samples_leaf=4; total time=   1.0s\n",
      "[CV] END .........rf__max_features=3, rf__min_samples_leaf=4; total time=   0.9s\n",
      "[CV] END .........rf__max_features=3, rf__min_samples_leaf=4; total time=   1.3s\n",
      "[CV] END .........rf__max_features=3, rf__min_samples_leaf=8; total time=   0.9s\n",
      "[CV] END .........rf__max_features=3, rf__min_samples_leaf=8; total time=   0.9s\n",
      "[CV] END .........rf__max_features=3, rf__min_samples_leaf=8; total time=   0.8s\n",
      "[CV] END .........rf__max_features=3, rf__min_samples_leaf=8; total time=   0.9s\n",
      "[CV] END .........rf__max_features=3, rf__min_samples_leaf=8; total time=   0.9s\n",
      "[CV] END .........rf__max_features=3, rf__min_samples_leaf=8; total time=   0.9s\n",
      "[CV] END .........rf__max_features=3, rf__min_samples_leaf=8; total time=   0.9s\n",
      "[CV] END .........rf__max_features=3, rf__min_samples_leaf=8; total time=   0.9s\n",
      "[CV] END .........rf__max_features=3, rf__min_samples_leaf=8; total time=   0.9s\n",
      "[CV] END .........rf__max_features=3, rf__min_samples_leaf=8; total time=   0.9s\n",
      "[CV] END ........rf__max_features=3, rf__min_samples_leaf=16; total time=   1.4s\n",
      "[CV] END ........rf__max_features=3, rf__min_samples_leaf=16; total time=   1.0s\n",
      "[CV] END ........rf__max_features=3, rf__min_samples_leaf=16; total time=   0.9s\n",
      "[CV] END ........rf__max_features=3, rf__min_samples_leaf=16; total time=   1.0s\n",
      "[CV] END ........rf__max_features=3, rf__min_samples_leaf=16; total time=   0.8s\n",
      "[CV] END ........rf__max_features=3, rf__min_samples_leaf=16; total time=   0.8s\n",
      "[CV] END ........rf__max_features=3, rf__min_samples_leaf=16; total time=   0.8s\n",
      "[CV] END ........rf__max_features=3, rf__min_samples_leaf=16; total time=   0.8s\n",
      "[CV] END ........rf__max_features=3, rf__min_samples_leaf=16; total time=   0.9s\n",
      "[CV] END ........rf__max_features=3, rf__min_samples_leaf=16; total time=   1.2s\n",
      "[CV] END .........rf__max_features=4, rf__min_samples_leaf=1; total time=   1.7s\n"
     ]
    },
    {
     "name": "stdout",
     "output_type": "stream",
     "text": [
      "[CV] END .........rf__max_features=4, rf__min_samples_leaf=1; total time=   1.5s\n",
      "[CV] END .........rf__max_features=4, rf__min_samples_leaf=1; total time=   1.5s\n",
      "[CV] END .........rf__max_features=4, rf__min_samples_leaf=1; total time=   1.6s\n",
      "[CV] END .........rf__max_features=4, rf__min_samples_leaf=1; total time=   1.8s\n",
      "[CV] END .........rf__max_features=4, rf__min_samples_leaf=1; total time=   1.5s\n",
      "[CV] END .........rf__max_features=4, rf__min_samples_leaf=1; total time=   1.5s\n",
      "[CV] END .........rf__max_features=4, rf__min_samples_leaf=1; total time=   1.7s\n",
      "[CV] END .........rf__max_features=4, rf__min_samples_leaf=1; total time=   1.6s\n",
      "[CV] END .........rf__max_features=4, rf__min_samples_leaf=1; total time=   1.6s\n",
      "[CV] END .........rf__max_features=4, rf__min_samples_leaf=2; total time=   1.7s\n",
      "[CV] END .........rf__max_features=4, rf__min_samples_leaf=2; total time=   1.4s\n",
      "[CV] END .........rf__max_features=4, rf__min_samples_leaf=2; total time=   1.3s\n",
      "[CV] END .........rf__max_features=4, rf__min_samples_leaf=2; total time=   1.4s\n",
      "[CV] END .........rf__max_features=4, rf__min_samples_leaf=2; total time=   1.3s\n",
      "[CV] END .........rf__max_features=4, rf__min_samples_leaf=2; total time=   1.5s\n",
      "[CV] END .........rf__max_features=4, rf__min_samples_leaf=2; total time=   1.6s\n",
      "[CV] END .........rf__max_features=4, rf__min_samples_leaf=2; total time=   1.3s\n",
      "[CV] END .........rf__max_features=4, rf__min_samples_leaf=2; total time=   1.3s\n",
      "[CV] END .........rf__max_features=4, rf__min_samples_leaf=2; total time=   1.3s\n",
      "[CV] END .........rf__max_features=4, rf__min_samples_leaf=4; total time=   1.1s\n",
      "[CV] END .........rf__max_features=4, rf__min_samples_leaf=4; total time=   1.1s\n",
      "[CV] END .........rf__max_features=4, rf__min_samples_leaf=4; total time=   1.1s\n",
      "[CV] END .........rf__max_features=4, rf__min_samples_leaf=4; total time=   1.1s\n",
      "[CV] END .........rf__max_features=4, rf__min_samples_leaf=4; total time=   1.2s\n",
      "[CV] END .........rf__max_features=4, rf__min_samples_leaf=4; total time=   1.4s\n",
      "[CV] END .........rf__max_features=4, rf__min_samples_leaf=4; total time=   1.1s\n",
      "[CV] END .........rf__max_features=4, rf__min_samples_leaf=4; total time=   1.4s\n",
      "[CV] END .........rf__max_features=4, rf__min_samples_leaf=4; total time=   1.3s\n",
      "[CV] END .........rf__max_features=4, rf__min_samples_leaf=4; total time=   1.4s\n",
      "[CV] END .........rf__max_features=4, rf__min_samples_leaf=8; total time=   1.1s\n",
      "[CV] END .........rf__max_features=4, rf__min_samples_leaf=8; total time=   1.0s\n",
      "[CV] END .........rf__max_features=4, rf__min_samples_leaf=8; total time=   1.1s\n",
      "[CV] END .........rf__max_features=4, rf__min_samples_leaf=8; total time=   1.1s\n",
      "[CV] END .........rf__max_features=4, rf__min_samples_leaf=8; total time=   1.1s\n",
      "[CV] END .........rf__max_features=4, rf__min_samples_leaf=8; total time=   1.0s\n",
      "[CV] END .........rf__max_features=4, rf__min_samples_leaf=8; total time=   1.0s\n",
      "[CV] END .........rf__max_features=4, rf__min_samples_leaf=8; total time=   1.1s\n",
      "[CV] END .........rf__max_features=4, rf__min_samples_leaf=8; total time=   1.3s\n",
      "[CV] END .........rf__max_features=4, rf__min_samples_leaf=8; total time=   1.2s\n",
      "[CV] END ........rf__max_features=4, rf__min_samples_leaf=16; total time=   1.2s\n",
      "[CV] END ........rf__max_features=4, rf__min_samples_leaf=16; total time=   1.1s\n",
      "[CV] END ........rf__max_features=4, rf__min_samples_leaf=16; total time=   1.1s\n",
      "[CV] END ........rf__max_features=4, rf__min_samples_leaf=16; total time=   1.0s\n",
      "[CV] END ........rf__max_features=4, rf__min_samples_leaf=16; total time=   1.1s\n",
      "[CV] END ........rf__max_features=4, rf__min_samples_leaf=16; total time=   1.0s\n",
      "[CV] END ........rf__max_features=4, rf__min_samples_leaf=16; total time=   1.4s\n",
      "[CV] END ........rf__max_features=4, rf__min_samples_leaf=16; total time=   0.9s\n",
      "[CV] END ........rf__max_features=4, rf__min_samples_leaf=16; total time=   0.9s\n",
      "[CV] END ........rf__max_features=4, rf__min_samples_leaf=16; total time=   0.9s\n",
      "[CV] END .........rf__max_features=7, rf__min_samples_leaf=1; total time=   2.3s\n",
      "[CV] END .........rf__max_features=7, rf__min_samples_leaf=1; total time=   2.8s\n",
      "[CV] END .........rf__max_features=7, rf__min_samples_leaf=1; total time=   2.5s\n",
      "[CV] END .........rf__max_features=7, rf__min_samples_leaf=1; total time=   2.2s\n",
      "[CV] END .........rf__max_features=7, rf__min_samples_leaf=1; total time=   2.1s\n",
      "[CV] END .........rf__max_features=7, rf__min_samples_leaf=1; total time=   2.1s\n",
      "[CV] END .........rf__max_features=7, rf__min_samples_leaf=1; total time=   2.1s\n",
      "[CV] END .........rf__max_features=7, rf__min_samples_leaf=1; total time=   2.2s\n",
      "[CV] END .........rf__max_features=7, rf__min_samples_leaf=1; total time=   2.2s\n",
      "[CV] END .........rf__max_features=7, rf__min_samples_leaf=1; total time=   2.2s\n",
      "[CV] END .........rf__max_features=7, rf__min_samples_leaf=2; total time=   1.9s\n",
      "[CV] END .........rf__max_features=7, rf__min_samples_leaf=2; total time=   2.0s\n",
      "[CV] END .........rf__max_features=7, rf__min_samples_leaf=2; total time=   2.1s\n",
      "[CV] END .........rf__max_features=7, rf__min_samples_leaf=2; total time=   2.1s\n",
      "[CV] END .........rf__max_features=7, rf__min_samples_leaf=2; total time=   2.3s\n",
      "[CV] END .........rf__max_features=7, rf__min_samples_leaf=2; total time=   2.2s\n",
      "[CV] END .........rf__max_features=7, rf__min_samples_leaf=2; total time=   2.1s\n",
      "[CV] END .........rf__max_features=7, rf__min_samples_leaf=2; total time=   2.3s\n",
      "[CV] END .........rf__max_features=7, rf__min_samples_leaf=2; total time=   2.4s\n",
      "[CV] END .........rf__max_features=7, rf__min_samples_leaf=2; total time=   2.5s\n",
      "[CV] END .........rf__max_features=7, rf__min_samples_leaf=4; total time=   2.0s\n",
      "[CV] END .........rf__max_features=7, rf__min_samples_leaf=4; total time=   2.4s\n",
      "[CV] END .........rf__max_features=7, rf__min_samples_leaf=4; total time=   1.7s\n",
      "[CV] END .........rf__max_features=7, rf__min_samples_leaf=4; total time=   1.6s\n",
      "[CV] END .........rf__max_features=7, rf__min_samples_leaf=4; total time=   1.9s\n",
      "[CV] END .........rf__max_features=7, rf__min_samples_leaf=4; total time=   1.7s\n",
      "[CV] END .........rf__max_features=7, rf__min_samples_leaf=4; total time=   1.7s\n",
      "[CV] END .........rf__max_features=7, rf__min_samples_leaf=4; total time=   1.7s\n",
      "[CV] END .........rf__max_features=7, rf__min_samples_leaf=4; total time=   1.7s\n",
      "[CV] END .........rf__max_features=7, rf__min_samples_leaf=4; total time=   1.6s\n",
      "[CV] END .........rf__max_features=7, rf__min_samples_leaf=8; total time=   1.5s\n",
      "[CV] END .........rf__max_features=7, rf__min_samples_leaf=8; total time=   1.7s\n",
      "[CV] END .........rf__max_features=7, rf__min_samples_leaf=8; total time=   1.7s\n",
      "[CV] END .........rf__max_features=7, rf__min_samples_leaf=8; total time=   1.9s\n",
      "[CV] END .........rf__max_features=7, rf__min_samples_leaf=8; total time=   1.6s\n",
      "[CV] END .........rf__max_features=7, rf__min_samples_leaf=8; total time=   1.7s\n",
      "[CV] END .........rf__max_features=7, rf__min_samples_leaf=8; total time=   1.9s\n",
      "[CV] END .........rf__max_features=7, rf__min_samples_leaf=8; total time=   2.0s\n",
      "[CV] END .........rf__max_features=7, rf__min_samples_leaf=8; total time=   2.1s\n",
      "[CV] END .........rf__max_features=7, rf__min_samples_leaf=8; total time=   1.6s\n",
      "[CV] END ........rf__max_features=7, rf__min_samples_leaf=16; total time=   1.5s\n",
      "[CV] END ........rf__max_features=7, rf__min_samples_leaf=16; total time=   1.4s\n",
      "[CV] END ........rf__max_features=7, rf__min_samples_leaf=16; total time=   1.8s\n",
      "[CV] END ........rf__max_features=7, rf__min_samples_leaf=16; total time=   1.5s\n",
      "[CV] END ........rf__max_features=7, rf__min_samples_leaf=16; total time=   1.3s\n",
      "[CV] END ........rf__max_features=7, rf__min_samples_leaf=16; total time=   1.3s\n",
      "[CV] END ........rf__max_features=7, rf__min_samples_leaf=16; total time=   1.6s\n",
      "[CV] END ........rf__max_features=7, rf__min_samples_leaf=16; total time=   1.4s\n",
      "[CV] END ........rf__max_features=7, rf__min_samples_leaf=16; total time=   2.1s\n",
      "[CV] END ........rf__max_features=7, rf__min_samples_leaf=16; total time=   2.1s\n",
      "[CV] END .........rf__max_features=9, rf__min_samples_leaf=1; total time=   2.9s\n",
      "[CV] END .........rf__max_features=9, rf__min_samples_leaf=1; total time=   2.8s\n",
      "[CV] END .........rf__max_features=9, rf__min_samples_leaf=1; total time=   2.8s\n"
     ]
    },
    {
     "name": "stdout",
     "output_type": "stream",
     "text": [
      "[CV] END .........rf__max_features=9, rf__min_samples_leaf=1; total time=   2.7s\n",
      "[CV] END .........rf__max_features=9, rf__min_samples_leaf=1; total time=   3.2s\n",
      "[CV] END .........rf__max_features=9, rf__min_samples_leaf=1; total time=   2.8s\n",
      "[CV] END .........rf__max_features=9, rf__min_samples_leaf=1; total time=   3.6s\n",
      "[CV] END .........rf__max_features=9, rf__min_samples_leaf=1; total time=   3.1s\n",
      "[CV] END .........rf__max_features=9, rf__min_samples_leaf=1; total time=   3.2s\n",
      "[CV] END .........rf__max_features=9, rf__min_samples_leaf=1; total time=   3.3s\n",
      "[CV] END .........rf__max_features=9, rf__min_samples_leaf=2; total time=   2.6s\n",
      "[CV] END .........rf__max_features=9, rf__min_samples_leaf=2; total time=   2.6s\n",
      "[CV] END .........rf__max_features=9, rf__min_samples_leaf=2; total time=   2.8s\n",
      "[CV] END .........rf__max_features=9, rf__min_samples_leaf=2; total time=   2.5s\n",
      "[CV] END .........rf__max_features=9, rf__min_samples_leaf=2; total time=   2.5s\n",
      "[CV] END .........rf__max_features=9, rf__min_samples_leaf=2; total time=   2.5s\n",
      "[CV] END .........rf__max_features=9, rf__min_samples_leaf=2; total time=   2.4s\n",
      "[CV] END .........rf__max_features=9, rf__min_samples_leaf=2; total time=   2.4s\n",
      "[CV] END .........rf__max_features=9, rf__min_samples_leaf=2; total time=   2.8s\n",
      "[CV] END .........rf__max_features=9, rf__min_samples_leaf=2; total time=   2.5s\n",
      "[CV] END .........rf__max_features=9, rf__min_samples_leaf=4; total time=   2.4s\n",
      "[CV] END .........rf__max_features=9, rf__min_samples_leaf=4; total time=   2.2s\n",
      "[CV] END .........rf__max_features=9, rf__min_samples_leaf=4; total time=   2.4s\n",
      "[CV] END .........rf__max_features=9, rf__min_samples_leaf=4; total time=   2.3s\n",
      "[CV] END .........rf__max_features=9, rf__min_samples_leaf=4; total time=   2.7s\n",
      "[CV] END .........rf__max_features=9, rf__min_samples_leaf=4; total time=   2.4s\n",
      "[CV] END .........rf__max_features=9, rf__min_samples_leaf=4; total time=   2.1s\n",
      "[CV] END .........rf__max_features=9, rf__min_samples_leaf=4; total time=   2.2s\n",
      "[CV] END .........rf__max_features=9, rf__min_samples_leaf=4; total time=   2.2s\n",
      "[CV] END .........rf__max_features=9, rf__min_samples_leaf=4; total time=   2.1s\n",
      "[CV] END .........rf__max_features=9, rf__min_samples_leaf=8; total time=   1.9s\n",
      "[CV] END .........rf__max_features=9, rf__min_samples_leaf=8; total time=   1.9s\n",
      "[CV] END .........rf__max_features=9, rf__min_samples_leaf=8; total time=   2.0s\n",
      "[CV] END .........rf__max_features=9, rf__min_samples_leaf=8; total time=   2.0s\n",
      "[CV] END .........rf__max_features=9, rf__min_samples_leaf=8; total time=   1.9s\n",
      "[CV] END .........rf__max_features=9, rf__min_samples_leaf=8; total time=   2.0s\n",
      "[CV] END .........rf__max_features=9, rf__min_samples_leaf=8; total time=   1.9s\n",
      "[CV] END .........rf__max_features=9, rf__min_samples_leaf=8; total time=   2.0s\n",
      "[CV] END .........rf__max_features=9, rf__min_samples_leaf=8; total time=   2.2s\n",
      "[CV] END .........rf__max_features=9, rf__min_samples_leaf=8; total time=   2.2s\n",
      "[CV] END ........rf__max_features=9, rf__min_samples_leaf=16; total time=   1.7s\n",
      "[CV] END ........rf__max_features=9, rf__min_samples_leaf=16; total time=   2.0s\n",
      "[CV] END ........rf__max_features=9, rf__min_samples_leaf=16; total time=   1.9s\n",
      "[CV] END ........rf__max_features=9, rf__min_samples_leaf=16; total time=   1.8s\n",
      "[CV] END ........rf__max_features=9, rf__min_samples_leaf=16; total time=   1.9s\n",
      "[CV] END ........rf__max_features=9, rf__min_samples_leaf=16; total time=   1.8s\n",
      "[CV] END ........rf__max_features=9, rf__min_samples_leaf=16; total time=   1.7s\n",
      "[CV] END ........rf__max_features=9, rf__min_samples_leaf=16; total time=   1.7s\n",
      "[CV] END ........rf__max_features=9, rf__min_samples_leaf=16; total time=   1.8s\n",
      "[CV] END ........rf__max_features=9, rf__min_samples_leaf=16; total time=   2.1s\n"
     ]
    }
   ],
   "source": [
    "max_features = np.unique(np.array([n,3*n/4,n/2,n/3,n/4,np.sqrt(n)])\\\n",
    "                                  .round()\\\n",
    "                                  .astype(int))\n",
    "min_samples_leaf = 2**np.arange(5)\n",
    "\n",
    "parameters = {'rf__max_features':max_features,\n",
    "              'rf__min_samples_leaf':min_samples_leaf\n",
    "             }\n",
    "\n",
    "gcv = GridSearchCV(pipe_rf,parameters,cv=10,scoring='neg_mean_absolute_error',verbose=2)\n",
    "gcv.fit(X_train,y_train)\n",
    "best_pipe = gcv.best_estimator_\n",
    "best_pipe.fit(X_train,y_train)\n",
    "best_model = best_pipe['rf']"
   ]
  },
  {
   "cell_type": "code",
   "execution_count": 60,
   "id": "00d15bee",
   "metadata": {},
   "outputs": [
    {
     "data": {
      "text/plain": [
       "(-12.174258007406742,\n",
       " RandomForestRegressor(max_features=4, min_samples_leaf=4, n_estimators=200,\n",
       "                       n_jobs=-1, random_state=12))"
      ]
     },
     "execution_count": 60,
     "metadata": {},
     "output_type": "execute_result"
    }
   ],
   "source": [
    "gcv.best_score_,best_model"
   ]
  },
  {
   "cell_type": "code",
   "execution_count": 61,
   "id": "cf5920a1",
   "metadata": {},
   "outputs": [],
   "source": [
    "y_pred = best_pipe.predict(X_test)"
   ]
  },
  {
   "cell_type": "code",
   "execution_count": 62,
   "id": "8a9c8c19",
   "metadata": {},
   "outputs": [
    {
     "name": "stderr",
     "output_type": "stream",
     "text": [
      "/opt/anaconda3/lib/python3.7/site-packages/seaborn/distributions.py:2551: FutureWarning: `distplot` is a deprecated function and will be removed in a future version. Please adapt your code to use either `displot` (a figure-level function with similar flexibility) or `histplot` (an axes-level function for histograms).\n",
      "  warnings.warn(msg, FutureWarning)\n",
      "/opt/anaconda3/lib/python3.7/site-packages/seaborn/distributions.py:2551: FutureWarning: `distplot` is a deprecated function and will be removed in a future version. Please adapt your code to use either `displot` (a figure-level function with similar flexibility) or `histplot` (an axes-level function for histograms).\n",
      "  warnings.warn(msg, FutureWarning)\n"
     ]
    },
    {
     "data": {
      "image/png": "[encoded data removed]",
      "text/plain": [
       "<Figure size 720x720 with 1 Axes>"
      ]
     },
     "metadata": {
      "needs_background": "light"
     },
     "output_type": "display_data"
    }
   ],
   "source": [
    "ax = plt.figure(figsize = (10,10))\n",
    "sns.distplot(x = y_test,bins = 30,label = 'y_test')\n",
    "sns.distplot(x = y_pred,bins = 30,label = 'y_pred')\n",
    "plt.legend()\n",
    "plt.show()"
   ]
  },
  {
   "cell_type": "code",
   "execution_count": 63,
   "id": "583bebe8",
   "metadata": {
    "scrolled": true
   },
   "outputs": [
    {
     "data": {
      "text/plain": [
       "count    2564.000000\n",
       "mean       23.990973\n",
       "std        23.409870\n",
       "min         0.370717\n",
       "25%         8.499649\n",
       "50%        16.014907\n",
       "75%        31.301674\n",
       "max       170.830936\n",
       "dtype: float64"
      ]
     },
     "execution_count": 63,
     "metadata": {},
     "output_type": "execute_result"
    }
   ],
   "source": [
    "pd.Series(y_pred).describe()"
   ]
  },
  {
   "cell_type": "code",
   "execution_count": 64,
   "id": "54ca7700",
   "metadata": {},
   "outputs": [
    {
     "data": {
      "text/plain": [
       "count    2564.000000\n",
       "mean       23.251950\n",
       "std        32.229251\n",
       "min         0.000000\n",
       "25%         4.000000\n",
       "50%        12.000000\n",
       "75%        28.000000\n",
       "max       277.000000\n",
       "Name: EVICTIONS, dtype: float64"
      ]
     },
     "execution_count": 64,
     "metadata": {},
     "output_type": "execute_result"
    }
   ],
   "source": [
    "pd.Series(y_test).describe()"
   ]
  },
  {
   "cell_type": "code",
   "execution_count": 66,
   "id": "a56699b3",
   "metadata": {},
   "outputs": [
    {
     "data": {
      "image/png": "[encoded data removed]",
      "text/plain": [
       "<Figure size 432x288 with 1 Axes>"
      ]
     },
     "metadata": {
      "needs_background": "light"
     },
     "output_type": "display_data"
    }
   ],
   "source": [
    "feature_imp = pd.DataFrame({'importance':best_model.feature_importances_},index = X_train.columns)\n",
    "feature_imp = feature_imp.sort_values(by='importance',ascending=False)\n",
    "sns.barplot(data = feature_imp,\n",
    "            x = 'importance',\n",
    "            y = feature_imp.index)\n",
    "plt.show()"
   ]
  },
  {
   "cell_type": "markdown",
   "id": "acdb6571",
   "metadata": {},
   "source": [
    "## Loss = Poisson"
   ]
  },
  {
   "cell_type": "code",
   "execution_count": 67,
   "id": "1b303fb5",
   "metadata": {},
   "outputs": [
    {
     "name": "stdout",
     "output_type": "stream",
     "text": [
      "Fitting 10 folds for each of 25 candidates, totalling 250 fits\n",
      "[CV] END .........rf__max_features=2, rf__min_samples_leaf=1; total time=   4.4s\n",
      "[CV] END .........rf__max_features=2, rf__min_samples_leaf=1; total time=   3.3s\n",
      "[CV] END .........rf__max_features=2, rf__min_samples_leaf=1; total time=   3.4s\n",
      "[CV] END .........rf__max_features=2, rf__min_samples_leaf=1; total time=   3.8s\n",
      "[CV] END .........rf__max_features=2, rf__min_samples_leaf=1; total time=   3.2s\n",
      "[CV] END .........rf__max_features=2, rf__min_samples_leaf=1; total time=   3.2s\n",
      "[CV] END .........rf__max_features=2, rf__min_samples_leaf=1; total time=   3.2s\n",
      "[CV] END .........rf__max_features=2, rf__min_samples_leaf=1; total time=   3.2s\n",
      "[CV] END .........rf__max_features=2, rf__min_samples_leaf=1; total time=   3.3s\n",
      "[CV] END .........rf__max_features=2, rf__min_samples_leaf=1; total time=   3.4s\n",
      "[CV] END .........rf__max_features=2, rf__min_samples_leaf=2; total time=   2.9s\n",
      "[CV] END .........rf__max_features=2, rf__min_samples_leaf=2; total time=   2.9s\n",
      "[CV] END .........rf__max_features=2, rf__min_samples_leaf=2; total time=   2.9s\n",
      "[CV] END .........rf__max_features=2, rf__min_samples_leaf=2; total time=   2.9s\n",
      "[CV] END .........rf__max_features=2, rf__min_samples_leaf=2; total time=   3.0s\n",
      "[CV] END .........rf__max_features=2, rf__min_samples_leaf=2; total time=   3.0s\n",
      "[CV] END .........rf__max_features=2, rf__min_samples_leaf=2; total time=   2.9s\n",
      "[CV] END .........rf__max_features=2, rf__min_samples_leaf=2; total time=   2.9s\n",
      "[CV] END .........rf__max_features=2, rf__min_samples_leaf=2; total time=   3.0s\n",
      "[CV] END .........rf__max_features=2, rf__min_samples_leaf=2; total time=   2.9s\n",
      "[CV] END .........rf__max_features=2, rf__min_samples_leaf=4; total time=   2.5s\n",
      "[CV] END .........rf__max_features=2, rf__min_samples_leaf=4; total time=   2.6s\n",
      "[CV] END .........rf__max_features=2, rf__min_samples_leaf=4; total time=   2.6s\n",
      "[CV] END .........rf__max_features=2, rf__min_samples_leaf=4; total time=   2.5s\n",
      "[CV] END .........rf__max_features=2, rf__min_samples_leaf=4; total time=   2.5s\n",
      "[CV] END .........rf__max_features=2, rf__min_samples_leaf=4; total time=   2.6s\n",
      "[CV] END .........rf__max_features=2, rf__min_samples_leaf=4; total time=   2.6s\n",
      "[CV] END .........rf__max_features=2, rf__min_samples_leaf=4; total time=   2.6s\n",
      "[CV] END .........rf__max_features=2, rf__min_samples_leaf=4; total time=   2.6s\n",
      "[CV] END .........rf__max_features=2, rf__min_samples_leaf=4; total time=   2.6s\n",
      "[CV] END .........rf__max_features=2, rf__min_samples_leaf=8; total time=   2.2s\n",
      "[CV] END .........rf__max_features=2, rf__min_samples_leaf=8; total time=   2.2s\n",
      "[CV] END .........rf__max_features=2, rf__min_samples_leaf=8; total time=   2.2s\n",
      "[CV] END .........rf__max_features=2, rf__min_samples_leaf=8; total time=   2.2s\n",
      "[CV] END .........rf__max_features=2, rf__min_samples_leaf=8; total time=   2.2s\n",
      "[CV] END .........rf__max_features=2, rf__min_samples_leaf=8; total time=   2.2s\n",
      "[CV] END .........rf__max_features=2, rf__min_samples_leaf=8; total time=   2.2s\n",
      "[CV] END .........rf__max_features=2, rf__min_samples_leaf=8; total time=   2.2s\n",
      "[CV] END .........rf__max_features=2, rf__min_samples_leaf=8; total time=   2.3s\n",
      "[CV] END .........rf__max_features=2, rf__min_samples_leaf=8; total time=   2.2s\n",
      "[CV] END ........rf__max_features=2, rf__min_samples_leaf=16; total time=   1.9s\n",
      "[CV] END ........rf__max_features=2, rf__min_samples_leaf=16; total time=   1.9s\n",
      "[CV] END ........rf__max_features=2, rf__min_samples_leaf=16; total time=   2.0s\n",
      "[CV] END ........rf__max_features=2, rf__min_samples_leaf=16; total time=   1.9s\n",
      "[CV] END ........rf__max_features=2, rf__min_samples_leaf=16; total time=   1.9s\n",
      "[CV] END ........rf__max_features=2, rf__min_samples_leaf=16; total time=   1.9s\n",
      "[CV] END ........rf__max_features=2, rf__min_samples_leaf=16; total time=   1.9s\n",
      "[CV] END ........rf__max_features=2, rf__min_samples_leaf=16; total time=   1.9s\n",
      "[CV] END ........rf__max_features=2, rf__min_samples_leaf=16; total time=   1.9s\n",
      "[CV] END ........rf__max_features=2, rf__min_samples_leaf=16; total time=   1.9s\n",
      "[CV] END .........rf__max_features=3, rf__min_samples_leaf=1; total time=   5.1s\n",
      "[CV] END .........rf__max_features=3, rf__min_samples_leaf=1; total time=   5.2s\n",
      "[CV] END .........rf__max_features=3, rf__min_samples_leaf=1; total time=   5.2s\n",
      "[CV] END .........rf__max_features=3, rf__min_samples_leaf=1; total time=   5.1s\n",
      "[CV] END .........rf__max_features=3, rf__min_samples_leaf=1; total time=   5.1s\n",
      "[CV] END .........rf__max_features=3, rf__min_samples_leaf=1; total time=   5.3s\n",
      "[CV] END .........rf__max_features=3, rf__min_samples_leaf=1; total time=   5.1s\n",
      "[CV] END .........rf__max_features=3, rf__min_samples_leaf=1; total time=   5.1s\n",
      "[CV] END .........rf__max_features=3, rf__min_samples_leaf=1; total time=   5.2s\n",
      "[CV] END .........rf__max_features=3, rf__min_samples_leaf=1; total time=   5.7s\n",
      "[CV] END .........rf__max_features=3, rf__min_samples_leaf=2; total time=   4.6s\n",
      "[CV] END .........rf__max_features=3, rf__min_samples_leaf=2; total time=   4.6s\n",
      "[CV] END .........rf__max_features=3, rf__min_samples_leaf=2; total time=   4.5s\n",
      "[CV] END .........rf__max_features=3, rf__min_samples_leaf=2; total time=   4.6s\n",
      "[CV] END .........rf__max_features=3, rf__min_samples_leaf=2; total time=   4.6s\n",
      "[CV] END .........rf__max_features=3, rf__min_samples_leaf=2; total time=   5.0s\n",
      "[CV] END .........rf__max_features=3, rf__min_samples_leaf=2; total time=   4.6s\n",
      "[CV] END .........rf__max_features=3, rf__min_samples_leaf=2; total time=   4.5s\n",
      "[CV] END .........rf__max_features=3, rf__min_samples_leaf=2; total time=   4.7s\n",
      "[CV] END .........rf__max_features=3, rf__min_samples_leaf=2; total time=   4.5s\n",
      "[CV] END .........rf__max_features=3, rf__min_samples_leaf=4; total time=   4.0s\n",
      "[CV] END .........rf__max_features=3, rf__min_samples_leaf=4; total time=   3.9s\n",
      "[CV] END .........rf__max_features=3, rf__min_samples_leaf=4; total time=   4.0s\n",
      "[CV] END .........rf__max_features=3, rf__min_samples_leaf=4; total time=   4.0s\n",
      "[CV] END .........rf__max_features=3, rf__min_samples_leaf=4; total time=   3.9s\n",
      "[CV] END .........rf__max_features=3, rf__min_samples_leaf=4; total time=   5.0s\n",
      "[CV] END .........rf__max_features=3, rf__min_samples_leaf=4; total time=   4.5s\n",
      "[CV] END .........rf__max_features=3, rf__min_samples_leaf=4; total time=   4.8s\n",
      "[CV] END .........rf__max_features=3, rf__min_samples_leaf=4; total time=   5.2s\n",
      "[CV] END .........rf__max_features=3, rf__min_samples_leaf=4; total time=   4.3s\n",
      "[CV] END .........rf__max_features=3, rf__min_samples_leaf=8; total time=   4.5s\n",
      "[CV] END .........rf__max_features=3, rf__min_samples_leaf=8; total time=   4.3s\n",
      "[CV] END .........rf__max_features=3, rf__min_samples_leaf=8; total time=   4.0s\n",
      "[CV] END .........rf__max_features=3, rf__min_samples_leaf=8; total time=   4.7s\n",
      "[CV] END .........rf__max_features=3, rf__min_samples_leaf=8; total time=   4.3s\n",
      "[CV] END .........rf__max_features=3, rf__min_samples_leaf=8; total time=   3.9s\n",
      "[CV] END .........rf__max_features=3, rf__min_samples_leaf=8; total time=   3.4s\n",
      "[CV] END .........rf__max_features=3, rf__min_samples_leaf=8; total time=   3.4s\n",
      "[CV] END .........rf__max_features=3, rf__min_samples_leaf=8; total time=   3.4s\n",
      "[CV] END .........rf__max_features=3, rf__min_samples_leaf=8; total time=   3.5s\n",
      "[CV] END ........rf__max_features=3, rf__min_samples_leaf=16; total time=   2.9s\n",
      "[CV] END ........rf__max_features=3, rf__min_samples_leaf=16; total time=   2.9s\n",
      "[CV] END ........rf__max_features=3, rf__min_samples_leaf=16; total time=   2.9s\n",
      "[CV] END ........rf__max_features=3, rf__min_samples_leaf=16; total time=   2.9s\n",
      "[CV] END ........rf__max_features=3, rf__min_samples_leaf=16; total time=   2.9s\n",
      "[CV] END ........rf__max_features=3, rf__min_samples_leaf=16; total time=   2.9s\n",
      "[CV] END ........rf__max_features=3, rf__min_samples_leaf=16; total time=   2.9s\n",
      "[CV] END ........rf__max_features=3, rf__min_samples_leaf=16; total time=   2.8s\n",
      "[CV] END ........rf__max_features=3, rf__min_samples_leaf=16; total time=   3.0s\n",
      "[CV] END ........rf__max_features=3, rf__min_samples_leaf=16; total time=   2.8s\n",
      "[CV] END .........rf__max_features=4, rf__min_samples_leaf=1; total time=   7.0s\n"
     ]
    },
    {
     "name": "stdout",
     "output_type": "stream",
     "text": [
      "[CV] END .........rf__max_features=4, rf__min_samples_leaf=1; total time=   7.1s\n",
      "[CV] END .........rf__max_features=4, rf__min_samples_leaf=1; total time=   7.1s\n",
      "[CV] END .........rf__max_features=4, rf__min_samples_leaf=1; total time=   7.1s\n",
      "[CV] END .........rf__max_features=4, rf__min_samples_leaf=1; total time=   7.0s\n",
      "[CV] END .........rf__max_features=4, rf__min_samples_leaf=1; total time=   7.2s\n",
      "[CV] END .........rf__max_features=4, rf__min_samples_leaf=1; total time=   6.9s\n",
      "[CV] END .........rf__max_features=4, rf__min_samples_leaf=1; total time=   7.0s\n",
      "[CV] END .........rf__max_features=4, rf__min_samples_leaf=1; total time=   7.1s\n",
      "[CV] END .........rf__max_features=4, rf__min_samples_leaf=1; total time=   7.0s\n",
      "[CV] END .........rf__max_features=4, rf__min_samples_leaf=2; total time=   6.2s\n",
      "[CV] END .........rf__max_features=4, rf__min_samples_leaf=2; total time=   6.1s\n",
      "[CV] END .........rf__max_features=4, rf__min_samples_leaf=2; total time=   6.2s\n",
      "[CV] END .........rf__max_features=4, rf__min_samples_leaf=2; total time=   6.2s\n",
      "[CV] END .........rf__max_features=4, rf__min_samples_leaf=2; total time=   6.1s\n",
      "[CV] END .........rf__max_features=4, rf__min_samples_leaf=2; total time=   6.6s\n",
      "[CV] END .........rf__max_features=4, rf__min_samples_leaf=2; total time=   6.1s\n",
      "[CV] END .........rf__max_features=4, rf__min_samples_leaf=2; total time=   6.1s\n",
      "[CV] END .........rf__max_features=4, rf__min_samples_leaf=2; total time=   6.2s\n",
      "[CV] END .........rf__max_features=4, rf__min_samples_leaf=2; total time=   6.2s\n",
      "[CV] END .........rf__max_features=4, rf__min_samples_leaf=4; total time=   5.2s\n",
      "[CV] END .........rf__max_features=4, rf__min_samples_leaf=4; total time=   5.2s\n",
      "[CV] END .........rf__max_features=4, rf__min_samples_leaf=4; total time=   5.4s\n",
      "[CV] END .........rf__max_features=4, rf__min_samples_leaf=4; total time=   5.3s\n",
      "[CV] END .........rf__max_features=4, rf__min_samples_leaf=4; total time=   5.2s\n",
      "[CV] END .........rf__max_features=4, rf__min_samples_leaf=4; total time=   5.4s\n",
      "[CV] END .........rf__max_features=4, rf__min_samples_leaf=4; total time=   5.2s\n",
      "[CV] END .........rf__max_features=4, rf__min_samples_leaf=4; total time=   5.3s\n",
      "[CV] END .........rf__max_features=4, rf__min_samples_leaf=4; total time=   5.3s\n",
      "[CV] END .........rf__max_features=4, rf__min_samples_leaf=4; total time=   5.3s\n",
      "[CV] END .........rf__max_features=4, rf__min_samples_leaf=8; total time=   4.5s\n",
      "[CV] END .........rf__max_features=4, rf__min_samples_leaf=8; total time=   4.5s\n",
      "[CV] END .........rf__max_features=4, rf__min_samples_leaf=8; total time=   4.6s\n",
      "[CV] END .........rf__max_features=4, rf__min_samples_leaf=8; total time=   4.5s\n",
      "[CV] END .........rf__max_features=4, rf__min_samples_leaf=8; total time=   4.5s\n",
      "[CV] END .........rf__max_features=4, rf__min_samples_leaf=8; total time=   4.5s\n",
      "[CV] END .........rf__max_features=4, rf__min_samples_leaf=8; total time=   4.5s\n",
      "[CV] END .........rf__max_features=4, rf__min_samples_leaf=8; total time=   4.8s\n",
      "[CV] END .........rf__max_features=4, rf__min_samples_leaf=8; total time=   4.6s\n",
      "[CV] END .........rf__max_features=4, rf__min_samples_leaf=8; total time=   4.7s\n",
      "[CV] END ........rf__max_features=4, rf__min_samples_leaf=16; total time=   3.8s\n",
      "[CV] END ........rf__max_features=4, rf__min_samples_leaf=16; total time=   3.8s\n",
      "[CV] END ........rf__max_features=4, rf__min_samples_leaf=16; total time=   3.8s\n",
      "[CV] END ........rf__max_features=4, rf__min_samples_leaf=16; total time=   3.7s\n",
      "[CV] END ........rf__max_features=4, rf__min_samples_leaf=16; total time=   3.7s\n",
      "[CV] END ........rf__max_features=4, rf__min_samples_leaf=16; total time=   3.8s\n",
      "[CV] END ........rf__max_features=4, rf__min_samples_leaf=16; total time=   3.8s\n",
      "[CV] END ........rf__max_features=4, rf__min_samples_leaf=16; total time=   3.8s\n",
      "[CV] END ........rf__max_features=4, rf__min_samples_leaf=16; total time=   3.8s\n",
      "[CV] END ........rf__max_features=4, rf__min_samples_leaf=16; total time=   3.7s\n",
      "[CV] END .........rf__max_features=7, rf__min_samples_leaf=1; total time=  11.9s\n",
      "[CV] END .........rf__max_features=7, rf__min_samples_leaf=1; total time=  11.8s\n",
      "[CV] END .........rf__max_features=7, rf__min_samples_leaf=1; total time=  12.0s\n",
      "[CV] END .........rf__max_features=7, rf__min_samples_leaf=1; total time=  12.1s\n",
      "[CV] END .........rf__max_features=7, rf__min_samples_leaf=1; total time=  11.8s\n",
      "[CV] END .........rf__max_features=7, rf__min_samples_leaf=1; total time=  12.1s\n",
      "[CV] END .........rf__max_features=7, rf__min_samples_leaf=1; total time=  11.7s\n",
      "[CV] END .........rf__max_features=7, rf__min_samples_leaf=1; total time=  11.9s\n",
      "[CV] END .........rf__max_features=7, rf__min_samples_leaf=1; total time=  12.2s\n",
      "[CV] END .........rf__max_features=7, rf__min_samples_leaf=1; total time=  12.0s\n",
      "[CV] END .........rf__max_features=7, rf__min_samples_leaf=2; total time=  10.5s\n",
      "[CV] END .........rf__max_features=7, rf__min_samples_leaf=2; total time=  10.4s\n",
      "[CV] END .........rf__max_features=7, rf__min_samples_leaf=2; total time=  10.7s\n",
      "[CV] END .........rf__max_features=7, rf__min_samples_leaf=2; total time=  10.7s\n",
      "[CV] END .........rf__max_features=7, rf__min_samples_leaf=2; total time=  10.4s\n",
      "[CV] END .........rf__max_features=7, rf__min_samples_leaf=2; total time=  10.8s\n",
      "[CV] END .........rf__max_features=7, rf__min_samples_leaf=2; total time=  12.3s\n",
      "[CV] END .........rf__max_features=7, rf__min_samples_leaf=2; total time=  10.4s\n",
      "[CV] END .........rf__max_features=7, rf__min_samples_leaf=2; total time=  10.7s\n",
      "[CV] END .........rf__max_features=7, rf__min_samples_leaf=2; total time=  10.6s\n",
      "[CV] END .........rf__max_features=7, rf__min_samples_leaf=4; total time=   9.0s\n",
      "[CV] END .........rf__max_features=7, rf__min_samples_leaf=4; total time=   9.1s\n",
      "[CV] END .........rf__max_features=7, rf__min_samples_leaf=4; total time=   9.4s\n",
      "[CV] END .........rf__max_features=7, rf__min_samples_leaf=4; total time=   9.2s\n",
      "[CV] END .........rf__max_features=7, rf__min_samples_leaf=4; total time=   9.1s\n",
      "[CV] END .........rf__max_features=7, rf__min_samples_leaf=4; total time=   9.2s\n",
      "[CV] END .........rf__max_features=7, rf__min_samples_leaf=4; total time=   9.0s\n",
      "[CV] END .........rf__max_features=7, rf__min_samples_leaf=4; total time=   9.1s\n",
      "[CV] END .........rf__max_features=7, rf__min_samples_leaf=4; total time=   9.3s\n",
      "[CV] END .........rf__max_features=7, rf__min_samples_leaf=4; total time=   9.2s\n",
      "[CV] END .........rf__max_features=7, rf__min_samples_leaf=8; total time=   7.7s\n",
      "[CV] END .........rf__max_features=7, rf__min_samples_leaf=8; total time=   7.6s\n",
      "[CV] END .........rf__max_features=7, rf__min_samples_leaf=8; total time=   7.8s\n",
      "[CV] END .........rf__max_features=7, rf__min_samples_leaf=8; total time=   7.7s\n",
      "[CV] END .........rf__max_features=7, rf__min_samples_leaf=8; total time=   7.7s\n",
      "[CV] END .........rf__max_features=7, rf__min_samples_leaf=8; total time=   7.8s\n",
      "[CV] END .........rf__max_features=7, rf__min_samples_leaf=8; total time=   7.7s\n",
      "[CV] END .........rf__max_features=7, rf__min_samples_leaf=8; total time=   7.6s\n",
      "[CV] END .........rf__max_features=7, rf__min_samples_leaf=8; total time=   7.9s\n",
      "[CV] END .........rf__max_features=7, rf__min_samples_leaf=8; total time=   7.8s\n",
      "[CV] END ........rf__max_features=7, rf__min_samples_leaf=16; total time=   6.3s\n",
      "[CV] END ........rf__max_features=7, rf__min_samples_leaf=16; total time=   6.4s\n",
      "[CV] END ........rf__max_features=7, rf__min_samples_leaf=16; total time=   6.5s\n",
      "[CV] END ........rf__max_features=7, rf__min_samples_leaf=16; total time=   6.4s\n",
      "[CV] END ........rf__max_features=7, rf__min_samples_leaf=16; total time=   6.4s\n",
      "[CV] END ........rf__max_features=7, rf__min_samples_leaf=16; total time=   6.5s\n",
      "[CV] END ........rf__max_features=7, rf__min_samples_leaf=16; total time=   6.4s\n",
      "[CV] END ........rf__max_features=7, rf__min_samples_leaf=16; total time=   6.4s\n",
      "[CV] END ........rf__max_features=7, rf__min_samples_leaf=16; total time=   6.5s\n",
      "[CV] END ........rf__max_features=7, rf__min_samples_leaf=16; total time=   6.4s\n",
      "[CV] END .........rf__max_features=9, rf__min_samples_leaf=1; total time=  14.9s\n",
      "[CV] END .........rf__max_features=9, rf__min_samples_leaf=1; total time=  14.8s\n",
      "[CV] END .........rf__max_features=9, rf__min_samples_leaf=1; total time=  15.1s\n"
     ]
    },
    {
     "name": "stdout",
     "output_type": "stream",
     "text": [
      "[CV] END .........rf__max_features=9, rf__min_samples_leaf=1; total time=  15.2s\n",
      "[CV] END .........rf__max_features=9, rf__min_samples_leaf=1; total time=  14.8s\n",
      "[CV] END .........rf__max_features=9, rf__min_samples_leaf=1; total time=  15.1s\n",
      "[CV] END .........rf__max_features=9, rf__min_samples_leaf=1; total time=  15.0s\n",
      "[CV] END .........rf__max_features=9, rf__min_samples_leaf=1; total time=  14.9s\n",
      "[CV] END .........rf__max_features=9, rf__min_samples_leaf=1; total time=  15.2s\n",
      "[CV] END .........rf__max_features=9, rf__min_samples_leaf=1; total time=  15.2s\n",
      "[CV] END .........rf__max_features=9, rf__min_samples_leaf=2; total time=  13.1s\n",
      "[CV] END .........rf__max_features=9, rf__min_samples_leaf=2; total time=  13.1s\n",
      "[CV] END .........rf__max_features=9, rf__min_samples_leaf=2; total time=  13.3s\n",
      "[CV] END .........rf__max_features=9, rf__min_samples_leaf=2; total time=  13.4s\n",
      "[CV] END .........rf__max_features=9, rf__min_samples_leaf=2; total time=  13.2s\n",
      "[CV] END .........rf__max_features=9, rf__min_samples_leaf=2; total time=  13.5s\n",
      "[CV] END .........rf__max_features=9, rf__min_samples_leaf=2; total time=  13.1s\n",
      "[CV] END .........rf__max_features=9, rf__min_samples_leaf=2; total time=  13.2s\n",
      "[CV] END .........rf__max_features=9, rf__min_samples_leaf=2; total time=  13.5s\n",
      "[CV] END .........rf__max_features=9, rf__min_samples_leaf=2; total time=  13.2s\n",
      "[CV] END .........rf__max_features=9, rf__min_samples_leaf=4; total time=  11.4s\n",
      "[CV] END .........rf__max_features=9, rf__min_samples_leaf=4; total time=  11.5s\n",
      "[CV] END .........rf__max_features=9, rf__min_samples_leaf=4; total time=  11.5s\n",
      "[CV] END .........rf__max_features=9, rf__min_samples_leaf=4; total time=  11.9s\n",
      "[CV] END .........rf__max_features=9, rf__min_samples_leaf=4; total time=  11.5s\n",
      "[CV] END .........rf__max_features=9, rf__min_samples_leaf=4; total time=  11.6s\n",
      "[CV] END .........rf__max_features=9, rf__min_samples_leaf=4; total time=  11.4s\n",
      "[CV] END .........rf__max_features=9, rf__min_samples_leaf=4; total time=  11.4s\n",
      "[CV] END .........rf__max_features=9, rf__min_samples_leaf=4; total time=  11.6s\n",
      "[CV] END .........rf__max_features=9, rf__min_samples_leaf=4; total time=  12.3s\n",
      "[CV] END .........rf__max_features=9, rf__min_samples_leaf=8; total time=   9.6s\n",
      "[CV] END .........rf__max_features=9, rf__min_samples_leaf=8; total time=   9.7s\n",
      "[CV] END .........rf__max_features=9, rf__min_samples_leaf=8; total time=   9.7s\n",
      "[CV] END .........rf__max_features=9, rf__min_samples_leaf=8; total time=   9.7s\n",
      "[CV] END .........rf__max_features=9, rf__min_samples_leaf=8; total time=   9.6s\n",
      "[CV] END .........rf__max_features=9, rf__min_samples_leaf=8; total time=   9.9s\n",
      "[CV] END .........rf__max_features=9, rf__min_samples_leaf=8; total time=   9.7s\n",
      "[CV] END .........rf__max_features=9, rf__min_samples_leaf=8; total time=   9.7s\n",
      "[CV] END .........rf__max_features=9, rf__min_samples_leaf=8; total time=   9.9s\n",
      "[CV] END .........rf__max_features=9, rf__min_samples_leaf=8; total time=   9.7s\n",
      "[CV] END ........rf__max_features=9, rf__min_samples_leaf=16; total time=   8.1s\n",
      "[CV] END ........rf__max_features=9, rf__min_samples_leaf=16; total time=   8.0s\n",
      "[CV] END ........rf__max_features=9, rf__min_samples_leaf=16; total time=   8.0s\n",
      "[CV] END ........rf__max_features=9, rf__min_samples_leaf=16; total time=   8.2s\n",
      "[CV] END ........rf__max_features=9, rf__min_samples_leaf=16; total time=   8.1s\n",
      "[CV] END ........rf__max_features=9, rf__min_samples_leaf=16; total time=   8.2s\n",
      "[CV] END ........rf__max_features=9, rf__min_samples_leaf=16; total time=   8.1s\n",
      "[CV] END ........rf__max_features=9, rf__min_samples_leaf=16; total time=   8.2s\n",
      "[CV] END ........rf__max_features=9, rf__min_samples_leaf=16; total time=   8.2s\n",
      "[CV] END ........rf__max_features=9, rf__min_samples_leaf=16; total time=   8.2s\n"
     ]
    },
    {
     "data": {
      "text/plain": [
       "Pipeline(steps=[('rf',\n",
       "                 RandomForestRegressor(criterion='poisson', max_features=2,\n",
       "                                       min_samples_leaf=8, n_estimators=200,\n",
       "                                       n_jobs=-1, random_state=12))])"
      ]
     },
     "execution_count": 67,
     "metadata": {},
     "output_type": "execute_result"
    }
   ],
   "source": [
    "max_features = np.unique(np.array([n,3*n/4,n/2,n/3,n/4,np.sqrt(n)])\\\n",
    "                                  .round()\\\n",
    "                                  .astype(int))\n",
    "min_samples_leaf = 2**np.arange(5)\n",
    "\n",
    "parameters = {'rf__max_features':max_features,\n",
    "              'rf__min_samples_leaf':min_samples_leaf\n",
    "             }\n",
    "\n",
    "\n",
    "\n",
    "pipe_rf_poi = Pipeline([('rf', RandomForestRegressor(n_estimators=200,\n",
    "                                                n_jobs=-1,\n",
    "                                                random_state = 12,\n",
    "                                                criterion = 'poisson'\n",
    "                                             )\n",
    "                 )\n",
    "                ])\n",
    "\n",
    "parameters = {'rf__max_features':max_features,\n",
    "              'rf__min_samples_leaf':min_samples_leaf\n",
    "             }\n",
    "\n",
    "gcv_rf_poi = GridSearchCV(pipe_rf_poi,parameters,cv=10,scoring='neg_mean_absolute_error',verbose=2)\n",
    "gcv_rf_poi.fit(X_train,y_train)\n",
    "best_pipe_rf_poi = gcv_rf_poi.best_estimator_\n",
    "best_pipe_rf_poi.fit(X_train,y_train)\n",
    "\n"
   ]
  },
  {
   "cell_type": "code",
   "execution_count": 68,
   "id": "30b01bef",
   "metadata": {},
   "outputs": [],
   "source": [
    "best_model_rf_poi = best_pipe_rf_poi['rf']"
   ]
  },
  {
   "cell_type": "code",
   "execution_count": 74,
   "id": "a37e407d",
   "metadata": {},
   "outputs": [
    {
     "data": {
      "text/plain": [
       "(-14.866165156715997,\n",
       " RandomForestRegressor(criterion='poisson', max_features=2, min_samples_leaf=8,\n",
       "                       n_estimators=200, n_jobs=-1, random_state=12))"
      ]
     },
     "execution_count": 74,
     "metadata": {},
     "output_type": "execute_result"
    }
   ],
   "source": [
    "gcv_rf_poi.best_score_,best_model_rf_poi"
   ]
  },
  {
   "cell_type": "code",
   "execution_count": 82,
   "id": "0f9caf05",
   "metadata": {},
   "outputs": [],
   "source": [
    "y_pred_rf_poi = best_pipe_rf_poi.predict(X_test)"
   ]
  },
  {
   "cell_type": "code",
   "execution_count": 79,
   "id": "c756302d",
   "metadata": {},
   "outputs": [
    {
     "data": {
      "image/png": "[encoded data removed]",
      "text/plain": [
       "<Figure size 432x288 with 1 Axes>"
      ]
     },
     "metadata": {
      "needs_background": "light"
     },
     "output_type": "display_data"
    }
   ],
   "source": [
    "feature_imp = pd.DataFrame({'importance':best_model_rf_poi.feature_importances_},index = X_train.columns)\n",
    "feature_imp = feature_imp.sort_values(by='importance',ascending=False)\n",
    "sns.barplot(data = feature_imp,\n",
    "            x = 'importance',\n",
    "            y = feature_imp.index)\n",
    "plt.show()"
   ]
  },
  {
   "cell_type": "code",
   "execution_count": 83,
   "id": "7433b7b2",
   "metadata": {},
   "outputs": [
    {
     "name": "stderr",
     "output_type": "stream",
     "text": [
      "/opt/anaconda3/lib/python3.7/site-packages/seaborn/distributions.py:2551: FutureWarning: `distplot` is a deprecated function and will be removed in a future version. Please adapt your code to use either `displot` (a figure-level function with similar flexibility) or `histplot` (an axes-level function for histograms).\n",
      "  warnings.warn(msg, FutureWarning)\n",
      "/opt/anaconda3/lib/python3.7/site-packages/seaborn/distributions.py:2551: FutureWarning: `distplot` is a deprecated function and will be removed in a future version. Please adapt your code to use either `displot` (a figure-level function with similar flexibility) or `histplot` (an axes-level function for histograms).\n",
      "  warnings.warn(msg, FutureWarning)\n"
     ]
    },
    {
     "data": {
      "image/png": "[encoded data removed]",
      "text/plain": [
       "<Figure size 720x720 with 1 Axes>"
      ]
     },
     "metadata": {
      "needs_background": "light"
     },
     "output_type": "display_data"
    }
   ],
   "source": [
    "ax = plt.figure(figsize = (10,10))\n",
    "sns.distplot(x = y_test,bins = 30,label = 'y_test')\n",
    "sns.distplot(x = y_pred_rf_poi,bins = 30,label = 'y_pred')\n",
    "plt.legend()\n",
    "plt.show()"
   ]
  },
  {
   "cell_type": "markdown",
   "id": "1ed83378",
   "metadata": {},
   "source": [
    "## Loss = MAE"
   ]
  },
  {
   "cell_type": "code",
   "execution_count": 87,
   "id": "5d934b13",
   "metadata": {},
   "outputs": [],
   "source": [
    "pipe_rf_mae = Pipeline([('rf', RandomForestRegressor(n_estimators=200,\n",
    "                                                n_jobs=-1,\n",
    "                                                random_state = 12,\n",
    "                                                criterion = 'absolute_error'\n",
    "                                             )\n",
    "                 )\n",
    "                ])"
   ]
  },
  {
   "cell_type": "code",
   "execution_count": 88,
   "id": "32dfda98",
   "metadata": {},
   "outputs": [
    {
     "name": "stdout",
     "output_type": "stream",
     "text": [
      "Fitting 10 folds for each of 25 candidates, totalling 250 fits\n",
      "[CV] END .........rf__max_features=2, rf__min_samples_leaf=1; total time=  27.1s\n",
      "[CV] END .........rf__max_features=2, rf__min_samples_leaf=1; total time=  29.7s\n",
      "[CV] END .........rf__max_features=2, rf__min_samples_leaf=1; total time=  27.8s\n",
      "[CV] END .........rf__max_features=2, rf__min_samples_leaf=1; total time=  31.0s\n",
      "[CV] END .........rf__max_features=2, rf__min_samples_leaf=1; total time=  30.3s\n",
      "[CV] END .........rf__max_features=2, rf__min_samples_leaf=1; total time=  29.2s\n",
      "[CV] END .........rf__max_features=2, rf__min_samples_leaf=1; total time=  33.5s\n",
      "[CV] END .........rf__max_features=2, rf__min_samples_leaf=1; total time=  30.5s\n",
      "[CV] END .........rf__max_features=2, rf__min_samples_leaf=1; total time=  30.1s\n",
      "[CV] END .........rf__max_features=2, rf__min_samples_leaf=1; total time=  34.6s\n",
      "[CV] END .........rf__max_features=2, rf__min_samples_leaf=2; total time=  29.6s\n",
      "[CV] END .........rf__max_features=2, rf__min_samples_leaf=2; total time=  29.3s\n",
      "[CV] END .........rf__max_features=2, rf__min_samples_leaf=2; total time=  32.4s\n",
      "[CV] END .........rf__max_features=2, rf__min_samples_leaf=2; total time=  26.4s\n",
      "[CV] END .........rf__max_features=2, rf__min_samples_leaf=2; total time=  26.6s\n",
      "[CV] END .........rf__max_features=2, rf__min_samples_leaf=2; total time=  25.9s\n",
      "[CV] END .........rf__max_features=2, rf__min_samples_leaf=2; total time=  26.2s\n",
      "[CV] END .........rf__max_features=2, rf__min_samples_leaf=2; total time=  29.5s\n",
      "[CV] END .........rf__max_features=2, rf__min_samples_leaf=2; total time=  25.8s\n",
      "[CV] END .........rf__max_features=2, rf__min_samples_leaf=2; total time=  25.8s\n",
      "[CV] END .........rf__max_features=2, rf__min_samples_leaf=4; total time=  25.6s\n",
      "[CV] END .........rf__max_features=2, rf__min_samples_leaf=4; total time=  25.5s\n",
      "[CV] END .........rf__max_features=2, rf__min_samples_leaf=4; total time=  25.4s\n",
      "[CV] END .........rf__max_features=2, rf__min_samples_leaf=4; total time=  30.6s\n",
      "[CV] END .........rf__max_features=2, rf__min_samples_leaf=4; total time=  28.2s\n",
      "[CV] END .........rf__max_features=2, rf__min_samples_leaf=4; total time=  29.0s\n",
      "[CV] END .........rf__max_features=2, rf__min_samples_leaf=4; total time=  27.4s\n",
      "[CV] END .........rf__max_features=2, rf__min_samples_leaf=4; total time=  26.2s\n",
      "[CV] END .........rf__max_features=2, rf__min_samples_leaf=4; total time=  27.1s\n",
      "[CV] END .........rf__max_features=2, rf__min_samples_leaf=4; total time=  25.9s\n",
      "[CV] END .........rf__max_features=2, rf__min_samples_leaf=8; total time=  26.3s\n",
      "[CV] END .........rf__max_features=2, rf__min_samples_leaf=8; total time=  26.5s\n",
      "[CV] END .........rf__max_features=2, rf__min_samples_leaf=8; total time=  25.3s\n",
      "[CV] END .........rf__max_features=2, rf__min_samples_leaf=8; total time=  26.0s\n",
      "[CV] END .........rf__max_features=2, rf__min_samples_leaf=8; total time=  25.6s\n",
      "[CV] END .........rf__max_features=2, rf__min_samples_leaf=8; total time=  25.1s\n",
      "[CV] END .........rf__max_features=2, rf__min_samples_leaf=8; total time=  27.8s\n",
      "[CV] END .........rf__max_features=2, rf__min_samples_leaf=8; total time=  27.1s\n",
      "[CV] END .........rf__max_features=2, rf__min_samples_leaf=8; total time=  25.7s\n",
      "[CV] END .........rf__max_features=2, rf__min_samples_leaf=8; total time=  25.7s\n",
      "[CV] END ........rf__max_features=2, rf__min_samples_leaf=16; total time=  25.0s\n",
      "[CV] END ........rf__max_features=2, rf__min_samples_leaf=16; total time=  25.1s\n",
      "[CV] END ........rf__max_features=2, rf__min_samples_leaf=16; total time=  25.0s\n",
      "[CV] END ........rf__max_features=2, rf__min_samples_leaf=16; total time=  25.0s\n",
      "[CV] END ........rf__max_features=2, rf__min_samples_leaf=16; total time=  25.2s\n",
      "[CV] END ........rf__max_features=2, rf__min_samples_leaf=16; total time=  24.9s\n",
      "[CV] END ........rf__max_features=2, rf__min_samples_leaf=16; total time=  24.9s\n",
      "[CV] END ........rf__max_features=2, rf__min_samples_leaf=16; total time=  25.9s\n",
      "[CV] END ........rf__max_features=2, rf__min_samples_leaf=16; total time=  24.4s\n",
      "[CV] END ........rf__max_features=2, rf__min_samples_leaf=16; total time=  24.6s\n",
      "[CV] END .........rf__max_features=3, rf__min_samples_leaf=1; total time=  37.3s\n",
      "[CV] END .........rf__max_features=3, rf__min_samples_leaf=1; total time=  37.0s\n",
      "[CV] END .........rf__max_features=3, rf__min_samples_leaf=1; total time=  37.7s\n",
      "[CV] END .........rf__max_features=3, rf__min_samples_leaf=1; total time=  41.5s\n",
      "[CV] END .........rf__max_features=3, rf__min_samples_leaf=1; total time=  44.2s\n",
      "[CV] END .........rf__max_features=3, rf__min_samples_leaf=1; total time=  41.7s\n",
      "[CV] END .........rf__max_features=3, rf__min_samples_leaf=1; total time=  42.9s\n",
      "[CV] END .........rf__max_features=3, rf__min_samples_leaf=1; total time=  42.9s\n",
      "[CV] END .........rf__max_features=3, rf__min_samples_leaf=1; total time=  39.9s\n",
      "[CV] END .........rf__max_features=3, rf__min_samples_leaf=1; total time=  44.0s\n",
      "[CV] END .........rf__max_features=3, rf__min_samples_leaf=2; total time=  40.7s\n",
      "[CV] END .........rf__max_features=3, rf__min_samples_leaf=2; total time=  41.2s\n",
      "[CV] END .........rf__max_features=3, rf__min_samples_leaf=2; total time=  46.5s\n",
      "[CV] END .........rf__max_features=3, rf__min_samples_leaf=2; total time=  38.2s\n",
      "[CV] END .........rf__max_features=3, rf__min_samples_leaf=2; total time=  41.2s\n",
      "[CV] END .........rf__max_features=3, rf__min_samples_leaf=2; total time=  36.9s\n",
      "[CV] END .........rf__max_features=3, rf__min_samples_leaf=2; total time=  36.1s\n",
      "[CV] END .........rf__max_features=3, rf__min_samples_leaf=2; total time=  34.8s\n",
      "[CV] END .........rf__max_features=3, rf__min_samples_leaf=2; total time=  35.3s\n",
      "[CV] END .........rf__max_features=3, rf__min_samples_leaf=2; total time=  36.1s\n",
      "[CV] END .........rf__max_features=3, rf__min_samples_leaf=4; total time=  35.1s\n",
      "[CV] END .........rf__max_features=3, rf__min_samples_leaf=4; total time=  34.3s\n",
      "[CV] END .........rf__max_features=3, rf__min_samples_leaf=4; total time=  34.5s\n",
      "[CV] END .........rf__max_features=3, rf__min_samples_leaf=4; total time=  36.0s\n",
      "[CV] END .........rf__max_features=3, rf__min_samples_leaf=4; total time=  34.4s\n",
      "[CV] END .........rf__max_features=3, rf__min_samples_leaf=4; total time=  35.9s\n",
      "[CV] END .........rf__max_features=3, rf__min_samples_leaf=4; total time=  36.4s\n",
      "[CV] END .........rf__max_features=3, rf__min_samples_leaf=4; total time=  34.1s\n",
      "[CV] END .........rf__max_features=3, rf__min_samples_leaf=4; total time=  34.6s\n",
      "[CV] END .........rf__max_features=3, rf__min_samples_leaf=4; total time=  34.9s\n",
      "[CV] END .........rf__max_features=3, rf__min_samples_leaf=8; total time=  33.7s\n",
      "[CV] END .........rf__max_features=3, rf__min_samples_leaf=8; total time=  33.6s\n",
      "[CV] END .........rf__max_features=3, rf__min_samples_leaf=8; total time=  34.0s\n",
      "[CV] END .........rf__max_features=3, rf__min_samples_leaf=8; total time=  33.4s\n",
      "[CV] END .........rf__max_features=3, rf__min_samples_leaf=8; total time=  33.8s\n",
      "[CV] END .........rf__max_features=3, rf__min_samples_leaf=8; total time=  33.5s\n",
      "[CV] END .........rf__max_features=3, rf__min_samples_leaf=8; total time=  33.7s\n",
      "[CV] END .........rf__max_features=3, rf__min_samples_leaf=8; total time=  34.7s\n",
      "[CV] END .........rf__max_features=3, rf__min_samples_leaf=8; total time=  34.0s\n",
      "[CV] END .........rf__max_features=3, rf__min_samples_leaf=8; total time=  33.9s\n",
      "[CV] END ........rf__max_features=3, rf__min_samples_leaf=16; total time=  33.1s\n",
      "[CV] END ........rf__max_features=3, rf__min_samples_leaf=16; total time=  32.9s\n",
      "[CV] END ........rf__max_features=3, rf__min_samples_leaf=16; total time=  32.9s\n",
      "[CV] END ........rf__max_features=3, rf__min_samples_leaf=16; total time=  33.1s\n",
      "[CV] END ........rf__max_features=3, rf__min_samples_leaf=16; total time=  33.3s\n",
      "[CV] END ........rf__max_features=3, rf__min_samples_leaf=16; total time=  33.1s\n",
      "[CV] END ........rf__max_features=3, rf__min_samples_leaf=16; total time=  33.3s\n",
      "[CV] END ........rf__max_features=3, rf__min_samples_leaf=16; total time=  32.8s\n",
      "[CV] END ........rf__max_features=3, rf__min_samples_leaf=16; total time=  33.4s\n",
      "[CV] END ........rf__max_features=3, rf__min_samples_leaf=16; total time=  33.3s\n",
      "[CV] END .........rf__max_features=4, rf__min_samples_leaf=1; total time=  46.1s\n"
     ]
    },
    {
     "name": "stdout",
     "output_type": "stream",
     "text": [
      "[CV] END .........rf__max_features=4, rf__min_samples_leaf=1; total time=  46.6s\n",
      "[CV] END .........rf__max_features=4, rf__min_samples_leaf=1; total time=  48.1s\n",
      "[CV] END .........rf__max_features=4, rf__min_samples_leaf=1; total time=  46.2s\n",
      "[CV] END .........rf__max_features=4, rf__min_samples_leaf=1; total time=  46.8s\n",
      "[CV] END .........rf__max_features=4, rf__min_samples_leaf=1; total time=  54.3s\n",
      "[CV] END .........rf__max_features=4, rf__min_samples_leaf=1; total time=  47.7s\n",
      "[CV] END .........rf__max_features=4, rf__min_samples_leaf=1; total time=  51.2s\n",
      "[CV] END .........rf__max_features=4, rf__min_samples_leaf=1; total time=  52.1s\n",
      "[CV] END .........rf__max_features=4, rf__min_samples_leaf=1; total time=  55.7s\n",
      "[CV] END .........rf__max_features=4, rf__min_samples_leaf=2; total time=  49.9s\n",
      "[CV] END .........rf__max_features=4, rf__min_samples_leaf=2; total time=  46.9s\n",
      "[CV] END .........rf__max_features=4, rf__min_samples_leaf=2; total time=  53.5s\n",
      "[CV] END .........rf__max_features=4, rf__min_samples_leaf=2; total time=  50.5s\n",
      "[CV] END .........rf__max_features=4, rf__min_samples_leaf=2; total time=  53.0s\n",
      "[CV] END .........rf__max_features=4, rf__min_samples_leaf=2; total time=  53.8s\n",
      "[CV] END .........rf__max_features=4, rf__min_samples_leaf=2; total time=  57.2s\n",
      "[CV] END .........rf__max_features=4, rf__min_samples_leaf=2; total time=  55.7s\n",
      "[CV] END .........rf__max_features=4, rf__min_samples_leaf=2; total time=  56.0s\n",
      "[CV] END .........rf__max_features=4, rf__min_samples_leaf=2; total time=  53.1s\n",
      "[CV] END .........rf__max_features=4, rf__min_samples_leaf=4; total time=  48.8s\n",
      "[CV] END .........rf__max_features=4, rf__min_samples_leaf=4; total time=  49.7s\n",
      "[CV] END .........rf__max_features=4, rf__min_samples_leaf=4; total time=  49.8s\n",
      "[CV] END .........rf__max_features=4, rf__min_samples_leaf=4; total time=  45.9s\n",
      "[CV] END .........rf__max_features=4, rf__min_samples_leaf=4; total time=  46.0s\n",
      "[CV] END .........rf__max_features=4, rf__min_samples_leaf=4; total time=  50.2s\n",
      "[CV] END .........rf__max_features=4, rf__min_samples_leaf=4; total time=  52.3s\n",
      "[CV] END .........rf__max_features=4, rf__min_samples_leaf=4; total time=  55.5s\n",
      "[CV] END .........rf__max_features=4, rf__min_samples_leaf=4; total time=  49.9s\n",
      "[CV] END .........rf__max_features=4, rf__min_samples_leaf=4; total time=  53.3s\n",
      "[CV] END .........rf__max_features=4, rf__min_samples_leaf=8; total time=  49.1s\n",
      "[CV] END .........rf__max_features=4, rf__min_samples_leaf=8; total time=  49.6s\n",
      "[CV] END .........rf__max_features=4, rf__min_samples_leaf=8; total time=  57.2s\n",
      "[CV] END .........rf__max_features=4, rf__min_samples_leaf=8; total time=  54.8s\n",
      "[CV] END .........rf__max_features=4, rf__min_samples_leaf=8; total time= 1.2min\n",
      "[CV] END .........rf__max_features=4, rf__min_samples_leaf=8; total time= 1.0min\n",
      "[CV] END .........rf__max_features=4, rf__min_samples_leaf=8; total time=  59.7s\n",
      "[CV] END .........rf__max_features=4, rf__min_samples_leaf=8; total time=  58.2s\n",
      "[CV] END .........rf__max_features=4, rf__min_samples_leaf=8; total time=  46.8s\n",
      "[CV] END .........rf__max_features=4, rf__min_samples_leaf=8; total time=  49.5s\n",
      "[CV] END ........rf__max_features=4, rf__min_samples_leaf=16; total time= 1.0min\n",
      "[CV] END ........rf__max_features=4, rf__min_samples_leaf=16; total time=  45.0s\n",
      "[CV] END ........rf__max_features=4, rf__min_samples_leaf=16; total time=  45.6s\n",
      "[CV] END ........rf__max_features=4, rf__min_samples_leaf=16; total time=  45.3s\n",
      "[CV] END ........rf__max_features=4, rf__min_samples_leaf=16; total time=  45.3s\n",
      "[CV] END ........rf__max_features=4, rf__min_samples_leaf=16; total time=  48.9s\n",
      "[CV] END ........rf__max_features=4, rf__min_samples_leaf=16; total time=  47.7s\n",
      "[CV] END ........rf__max_features=4, rf__min_samples_leaf=16; total time=  47.8s\n",
      "[CV] END ........rf__max_features=4, rf__min_samples_leaf=16; total time=  46.6s\n",
      "[CV] END ........rf__max_features=4, rf__min_samples_leaf=16; total time=  51.9s\n",
      "[CV] END .........rf__max_features=7, rf__min_samples_leaf=1; total time= 1.5min\n",
      "[CV] END .........rf__max_features=7, rf__min_samples_leaf=1; total time= 1.5min\n",
      "[CV] END .........rf__max_features=7, rf__min_samples_leaf=1; total time= 1.4min\n",
      "[CV] END .........rf__max_features=7, rf__min_samples_leaf=1; total time= 1.4min\n",
      "[CV] END .........rf__max_features=7, rf__min_samples_leaf=1; total time= 1.5min\n",
      "[CV] END .........rf__max_features=7, rf__min_samples_leaf=1; total time= 1.4min\n",
      "[CV] END .........rf__max_features=7, rf__min_samples_leaf=1; total time= 1.3min\n",
      "[CV] END .........rf__max_features=7, rf__min_samples_leaf=1; total time= 1.4min\n",
      "[CV] END .........rf__max_features=7, rf__min_samples_leaf=1; total time= 1.3min\n",
      "[CV] END .........rf__max_features=7, rf__min_samples_leaf=1; total time= 1.5min\n",
      "[CV] END .........rf__max_features=7, rf__min_samples_leaf=2; total time= 1.3min\n",
      "[CV] END .........rf__max_features=7, rf__min_samples_leaf=2; total time= 1.5min\n",
      "[CV] END .........rf__max_features=7, rf__min_samples_leaf=2; total time= 1.6min\n",
      "[CV] END .........rf__max_features=7, rf__min_samples_leaf=2; total time= 1.3min\n",
      "[CV] END .........rf__max_features=7, rf__min_samples_leaf=2; total time= 1.2min\n",
      "[CV] END .........rf__max_features=7, rf__min_samples_leaf=2; total time= 1.3min\n",
      "[CV] END .........rf__max_features=7, rf__min_samples_leaf=2; total time= 1.3min\n",
      "[CV] END .........rf__max_features=7, rf__min_samples_leaf=2; total time= 1.3min\n",
      "[CV] END .........rf__max_features=7, rf__min_samples_leaf=2; total time= 1.5min\n",
      "[CV] END .........rf__max_features=7, rf__min_samples_leaf=2; total time= 1.4min\n",
      "[CV] END .........rf__max_features=7, rf__min_samples_leaf=4; total time= 1.4min\n",
      "[CV] END .........rf__max_features=7, rf__min_samples_leaf=4; total time= 1.3min\n",
      "[CV] END .........rf__max_features=7, rf__min_samples_leaf=4; total time= 1.2min\n",
      "[CV] END .........rf__max_features=7, rf__min_samples_leaf=4; total time= 1.3min\n",
      "[CV] END .........rf__max_features=7, rf__min_samples_leaf=4; total time= 1.2min\n",
      "[CV] END .........rf__max_features=7, rf__min_samples_leaf=4; total time= 1.3min\n",
      "[CV] END .........rf__max_features=7, rf__min_samples_leaf=4; total time= 1.3min\n",
      "[CV] END .........rf__max_features=7, rf__min_samples_leaf=4; total time= 1.2min\n",
      "[CV] END .........rf__max_features=7, rf__min_samples_leaf=4; total time= 1.2min\n",
      "[CV] END .........rf__max_features=7, rf__min_samples_leaf=4; total time= 1.2min\n",
      "[CV] END .........rf__max_features=7, rf__min_samples_leaf=8; total time= 1.2min\n",
      "[CV] END .........rf__max_features=7, rf__min_samples_leaf=8; total time= 1.2min\n",
      "[CV] END .........rf__max_features=7, rf__min_samples_leaf=8; total time= 1.4min\n",
      "[CV] END .........rf__max_features=7, rf__min_samples_leaf=8; total time= 1.2min\n",
      "[CV] END .........rf__max_features=7, rf__min_samples_leaf=8; total time= 1.2min\n",
      "[CV] END .........rf__max_features=7, rf__min_samples_leaf=8; total time= 1.3min\n",
      "[CV] END .........rf__max_features=7, rf__min_samples_leaf=8; total time= 1.2min\n",
      "[CV] END .........rf__max_features=7, rf__min_samples_leaf=8; total time= 1.2min\n",
      "[CV] END .........rf__max_features=7, rf__min_samples_leaf=8; total time= 1.2min\n",
      "[CV] END .........rf__max_features=7, rf__min_samples_leaf=8; total time= 1.2min\n",
      "[CV] END ........rf__max_features=7, rf__min_samples_leaf=16; total time= 1.2min\n",
      "[CV] END ........rf__max_features=7, rf__min_samples_leaf=16; total time= 1.2min\n",
      "[CV] END ........rf__max_features=7, rf__min_samples_leaf=16; total time= 1.2min\n",
      "[CV] END ........rf__max_features=7, rf__min_samples_leaf=16; total time= 1.2min\n",
      "[CV] END ........rf__max_features=7, rf__min_samples_leaf=16; total time= 1.2min\n",
      "[CV] END ........rf__max_features=7, rf__min_samples_leaf=16; total time= 1.2min\n",
      "[CV] END ........rf__max_features=7, rf__min_samples_leaf=16; total time= 1.2min\n",
      "[CV] END ........rf__max_features=7, rf__min_samples_leaf=16; total time= 1.2min\n",
      "[CV] END ........rf__max_features=7, rf__min_samples_leaf=16; total time=15.5min\n",
      "[CV] END ........rf__max_features=7, rf__min_samples_leaf=16; total time= 1.1min\n",
      "[CV] END .........rf__max_features=9, rf__min_samples_leaf=1; total time= 1.5min\n",
      "[CV] END .........rf__max_features=9, rf__min_samples_leaf=1; total time= 1.5min\n",
      "[CV] END .........rf__max_features=9, rf__min_samples_leaf=1; total time= 1.5min\n"
     ]
    },
    {
     "name": "stdout",
     "output_type": "stream",
     "text": [
      "[CV] END .........rf__max_features=9, rf__min_samples_leaf=1; total time= 1.6min\n",
      "[CV] END .........rf__max_features=9, rf__min_samples_leaf=1; total time= 1.5min\n",
      "[CV] END .........rf__max_features=9, rf__min_samples_leaf=1; total time= 1.5min\n",
      "[CV] END .........rf__max_features=9, rf__min_samples_leaf=1; total time= 1.5min\n",
      "[CV] END .........rf__max_features=9, rf__min_samples_leaf=1; total time= 1.6min\n",
      "[CV] END .........rf__max_features=9, rf__min_samples_leaf=1; total time= 1.6min\n",
      "[CV] END .........rf__max_features=9, rf__min_samples_leaf=1; total time= 1.6min\n",
      "[CV] END .........rf__max_features=9, rf__min_samples_leaf=2; total time= 1.5min\n",
      "[CV] END .........rf__max_features=9, rf__min_samples_leaf=2; total time= 1.5min\n",
      "[CV] END .........rf__max_features=9, rf__min_samples_leaf=2; total time= 1.5min\n",
      "[CV] END .........rf__max_features=9, rf__min_samples_leaf=2; total time= 1.5min\n",
      "[CV] END .........rf__max_features=9, rf__min_samples_leaf=2; total time= 1.5min\n",
      "[CV] END .........rf__max_features=9, rf__min_samples_leaf=2; total time= 1.5min\n",
      "[CV] END .........rf__max_features=9, rf__min_samples_leaf=2; total time= 1.5min\n",
      "[CV] END .........rf__max_features=9, rf__min_samples_leaf=2; total time= 1.5min\n",
      "[CV] END .........rf__max_features=9, rf__min_samples_leaf=2; total time= 1.5min\n",
      "[CV] END .........rf__max_features=9, rf__min_samples_leaf=2; total time= 1.5min\n",
      "[CV] END .........rf__max_features=9, rf__min_samples_leaf=4; total time= 1.4min\n",
      "[CV] END .........rf__max_features=9, rf__min_samples_leaf=4; total time= 1.4min\n",
      "[CV] END .........rf__max_features=9, rf__min_samples_leaf=4; total time= 1.5min\n",
      "[CV] END .........rf__max_features=9, rf__min_samples_leaf=4; total time= 1.4min\n",
      "[CV] END .........rf__max_features=9, rf__min_samples_leaf=4; total time= 1.4min\n",
      "[CV] END .........rf__max_features=9, rf__min_samples_leaf=4; total time= 1.4min\n",
      "[CV] END .........rf__max_features=9, rf__min_samples_leaf=4; total time= 1.4min\n",
      "[CV] END .........rf__max_features=9, rf__min_samples_leaf=4; total time= 1.4min\n",
      "[CV] END .........rf__max_features=9, rf__min_samples_leaf=4; total time= 1.5min\n",
      "[CV] END .........rf__max_features=9, rf__min_samples_leaf=4; total time= 1.4min\n",
      "[CV] END .........rf__max_features=9, rf__min_samples_leaf=8; total time= 1.4min\n",
      "[CV] END .........rf__max_features=9, rf__min_samples_leaf=8; total time= 1.4min\n",
      "[CV] END .........rf__max_features=9, rf__min_samples_leaf=8; total time= 1.4min\n",
      "[CV] END .........rf__max_features=9, rf__min_samples_leaf=8; total time= 1.4min\n",
      "[CV] END .........rf__max_features=9, rf__min_samples_leaf=8; total time= 1.4min\n",
      "[CV] END .........rf__max_features=9, rf__min_samples_leaf=8; total time= 1.4min\n",
      "[CV] END .........rf__max_features=9, rf__min_samples_leaf=8; total time= 1.4min\n",
      "[CV] END .........rf__max_features=9, rf__min_samples_leaf=8; total time= 1.4min\n",
      "[CV] END .........rf__max_features=9, rf__min_samples_leaf=8; total time= 1.4min\n",
      "[CV] END .........rf__max_features=9, rf__min_samples_leaf=8; total time= 1.4min\n",
      "[CV] END ........rf__max_features=9, rf__min_samples_leaf=16; total time= 1.4min\n",
      "[CV] END ........rf__max_features=9, rf__min_samples_leaf=16; total time= 1.4min\n",
      "[CV] END ........rf__max_features=9, rf__min_samples_leaf=16; total time= 1.4min\n",
      "[CV] END ........rf__max_features=9, rf__min_samples_leaf=16; total time= 1.4min\n",
      "[CV] END ........rf__max_features=9, rf__min_samples_leaf=16; total time= 1.4min\n",
      "[CV] END ........rf__max_features=9, rf__min_samples_leaf=16; total time= 1.4min\n",
      "[CV] END ........rf__max_features=9, rf__min_samples_leaf=16; total time= 1.4min\n",
      "[CV] END ........rf__max_features=9, rf__min_samples_leaf=16; total time= 1.4min\n",
      "[CV] END ........rf__max_features=9, rf__min_samples_leaf=16; total time= 1.4min\n",
      "[CV] END ........rf__max_features=9, rf__min_samples_leaf=16; total time= 1.4min\n"
     ]
    },
    {
     "data": {
      "text/plain": [
       "Pipeline(steps=[('rf',\n",
       "                 RandomForestRegressor(criterion='absolute_error',\n",
       "                                       max_features=4, min_samples_leaf=8,\n",
       "                                       n_estimators=200, n_jobs=-1,\n",
       "                                       random_state=12))])"
      ]
     },
     "execution_count": 88,
     "metadata": {},
     "output_type": "execute_result"
    }
   ],
   "source": [
    "max_features = np.unique(np.array([n,3*n/4,n/2,n/3,n/4,np.sqrt(n)])\\\n",
    "                                  .round()\\\n",
    "                                  .astype(int))\n",
    "min_samples_leaf = 2**np.arange(5)\n",
    "\n",
    "parameters = {'rf__max_features':max_features,\n",
    "              'rf__min_samples_leaf':min_samples_leaf\n",
    "             }\n",
    "\n",
    "\n",
    "\n",
    "gcv_rf_mae = GridSearchCV(pipe_rf_mae,parameters,cv=10,scoring='neg_mean_absolute_error',verbose=2)\n",
    "gcv_rf_mae.fit(X_train,y_train)\n",
    "best_pipe_rf_mae = gcv_rf_mae.best_estimator_\n",
    "best_pipe_rf_mae.fit(X_train,y_train)\n"
   ]
  },
  {
   "cell_type": "code",
   "execution_count": 89,
   "id": "593177d6",
   "metadata": {},
   "outputs": [],
   "source": [
    "best_model_rf_mae = best_pipe_rf_mae['rf']"
   ]
  },
  {
   "cell_type": "code",
   "execution_count": 90,
   "id": "dfd4da3b",
   "metadata": {},
   "outputs": [
    {
     "data": {
      "text/plain": [
       "(-11.666384068627451,\n",
       " RandomForestRegressor(criterion='absolute_error', max_features=4,\n",
       "                       min_samples_leaf=8, n_estimators=200, n_jobs=-1,\n",
       "                       random_state=12))"
      ]
     },
     "execution_count": 90,
     "metadata": {},
     "output_type": "execute_result"
    }
   ],
   "source": [
    "gcv_rf_mae.best_score_,best_model_rf_mae"
   ]
  },
  {
   "cell_type": "code",
   "execution_count": 91,
   "id": "cbe236b8",
   "metadata": {},
   "outputs": [],
   "source": [
    "y_pred_rf_mae = best_model_rf_mae.predict(X_test)"
   ]
  },
  {
   "cell_type": "code",
   "execution_count": 104,
   "id": "e04fd20f",
   "metadata": {},
   "outputs": [
    {
     "data": {
      "text/plain": [
       "12.315132605304212"
      ]
     },
     "execution_count": 104,
     "metadata": {},
     "output_type": "execute_result"
    }
   ],
   "source": [
    "mean_absolute_error(y_test,y_pred_rf_mae)"
   ]
  },
  {
   "cell_type": "code",
   "execution_count": 92,
   "id": "f316addd",
   "metadata": {},
   "outputs": [
    {
     "data": {
      "image/png": "[encoded data removed]",
      "text/plain": [
       "<Figure size 432x288 with 1 Axes>"
      ]
     },
     "metadata": {
      "needs_background": "light"
     },
     "output_type": "display_data"
    }
   ],
   "source": [
    "feature_imp = pd.DataFrame({'importance':best_model_rf_mae.feature_importances_},index = X_train.columns)\n",
    "feature_imp = feature_imp.sort_values(by='importance',ascending=False)\n",
    "sns.barplot(data = feature_imp,\n",
    "            x = 'importance',\n",
    "            y = feature_imp.index)\n",
    "plt.show()"
   ]
  },
  {
   "cell_type": "code",
   "execution_count": 93,
   "id": "bf0b92bb",
   "metadata": {},
   "outputs": [
    {
     "name": "stderr",
     "output_type": "stream",
     "text": [
      "/opt/anaconda3/lib/python3.7/site-packages/seaborn/distributions.py:2551: FutureWarning: `distplot` is a deprecated function and will be removed in a future version. Please adapt your code to use either `displot` (a figure-level function with similar flexibility) or `histplot` (an axes-level function for histograms).\n",
      "  warnings.warn(msg, FutureWarning)\n",
      "/opt/anaconda3/lib/python3.7/site-packages/seaborn/distributions.py:2551: FutureWarning: `distplot` is a deprecated function and will be removed in a future version. Please adapt your code to use either `displot` (a figure-level function with similar flexibility) or `histplot` (an axes-level function for histograms).\n",
      "  warnings.warn(msg, FutureWarning)\n"
     ]
    },
    {
     "data": {
      "image/png": "[encoded data removed]",
      "text/plain": [
       "<Figure size 720x720 with 1 Axes>"
      ]
     },
     "metadata": {
      "needs_background": "light"
     },
     "output_type": "display_data"
    }
   ],
   "source": [
    "ax = plt.figure(figsize = (10,10))\n",
    "sns.distplot(x = y_test,bins = 30,label = 'y_test')\n",
    "sns.distplot(x = y_pred_rf_mae,bins = 30,label = 'y_pred')\n",
    "plt.legend()\n",
    "plt.show()"
   ]
  },
  {
   "cell_type": "code",
   "execution_count": 102,
   "id": "b3c3ce94",
   "metadata": {},
   "outputs": [],
   "source": [
    "from sklearn.inspection import permutation_importance\n",
    "r = permutation_importance(best_model_rf_mae, X_test, y_test,\n",
    "                           n_repeats=100,\n",
    "                           random_state=0,scoring='neg_mean_absolute_error')"
   ]
  },
  {
   "cell_type": "code",
   "execution_count": 103,
   "id": "04ce332a",
   "metadata": {},
   "outputs": [
    {
     "name": "stdout",
     "output_type": "stream",
     "text": [
      "WHITE    3.616 +/- 0.184\n",
      "POPULATION 1.981 +/- 0.139\n",
      "minrty_lang 1.566 +/- 0.119\n",
      "pop_density 1.538 +/- 0.124\n",
      "MEAN_LOAN_AMOUNT 0.907 +/- 0.060\n",
      "AFAM     0.637 +/- 0.093\n",
      "EAL_VALT 0.525 +/- 0.056\n",
      "socio_economic 0.272 +/- 0.031\n",
      "vulnerable_age 0.178 +/- 0.034\n"
     ]
    }
   ],
   "source": [
    "for i in r.importances_mean.argsort()[::-1]:\n",
    "    if r.importances_mean[i] - 2 * r.importances_std[i] > 0:\n",
    "         print(f\"{X_train.columns[i]:<8}\"\n",
    "               f\" {r.importances_mean[i]:.3f}\"\n",
    "               f\" +/- {r.importances_std[i]:.3f}\")"
   ]
  },
  {
   "cell_type": "code",
   "execution_count": null,
   "id": "6569f9d4",
   "metadata": {},
   "outputs": [],
   "source": []
  }
 ],
 "metadata": {
  "kernelspec": {
   "display_name": "Python 3.7.6 64-bit ('base': conda)",
   "language": "python",
   "name": "python37664bitbaseconda15aae41925a8475e86b7bea0cce036d9"
  },
  "language_info": {
   "codemirror_mode": {
    "name": "ipython",
    "version": 3
   },
   "file_extension": ".py",
   "mimetype": "text/x-python",
   "name": "python",
   "nbconvert_exporter": "python",
   "pygments_lexer": "ipython3",
   "version": "3.7.10"
  },
  "toc": {
   "base_numbering": 1,
   "nav_menu": {},
   "number_sections": true,
   "sideBar": true,
   "skip_h1_title": false,
   "title_cell": "Table of Contents",
   "title_sidebar": "Contents",
   "toc_cell": false,
   "toc_position": {},
   "toc_section_display": true,
   "toc_window_display": false
  }
 },
 "nbformat": 4,
 "nbformat_minor": 5
}
