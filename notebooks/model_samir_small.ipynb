{
 "cells": [
  {
   "cell_type": "code",
   "execution_count": 118,
   "id": "bb250e84",
   "metadata": {},
   "outputs": [],
   "source": [
    "import pandas as pd\n",
    "import numpy as np\n",
    "import seaborn as sns\n",
    "from sklearn.model_selection import cross_val_score, cross_validate, KFold, GridSearchCV\n",
    "from sklearn.linear_model import PoissonRegressor, LinearRegression,GammaRegressor\n",
    "from sklearn.pipeline import Pipeline\n",
    "from sklearn.preprocessing import StandardScaler,MinMaxScaler\n",
    "import matplotlib.pyplot as plt\n",
    "from sklearn.ensemble import RandomForestRegressor\n",
    "from sklearn.metrics import mean_absolute_error,mean_absolute_percentage_error,mean_poisson_deviance\n",
    "import statsmodels.api as sm\n",
    "from statsmodels.stats.outliers_influence import variance_inflation_factor\n",
    "\n"
   ]
  },
  {
   "cell_type": "code",
   "execution_count": 123,
   "id": "f3135a04",
   "metadata": {},
   "outputs": [],
   "source": [
    "def prepare_data(file_path,cols = None,idx = 'FIPS',target = 'EVICTIONS',dropna=True):\n",
    "\n",
    "    df = pd.read_csv(file_path)\n",
    "    df = df.sample(frac=1,random_state = 12)\n",
    "  \n",
    "    df[['AFAM','HISPANIC','WHITE','NUM_LOANS']] = (df[['AFAM','HISPANIC','WHITE','NUM_LOANS']]\\\n",
    "                                          .div(df['POPULATION'],axis=0))*100\n",
    "    \n",
    "    if dropna:  \n",
    "        df.dropna(inplace=True)#Inpute missing is better\n",
    "    \n",
    "    if cols is not None:\n",
    "        df = df[cols+[idx,target]]\n",
    "        \n",
    "    X,y = df.drop([idx,target],axis=1),df[target]\n",
    "\n",
    "    return X,y"
   ]
  },
  {
   "cell_type": "code",
   "execution_count": 124,
   "id": "7680e1a7",
   "metadata": {},
   "outputs": [],
   "source": [
    "\n",
    "\n",
    "cols = ['POPULATION',\n",
    "       'EP_UNEMP',\n",
    "       'EP_PCI',\n",
    "       'EP_NOVEH',\n",
    "       'EP_MOBILE',\n",
    "       'EP_CROWD',\n",
    "       'EP_AGE65',\n",
    "       'EP_AGE17',\n",
    "       'AFAM',\n",
    "       'WHITE',\n",
    "       'HISPANIC',\n",
    "       'WFIR_EALT',\n",
    "       'HRCN_EALT',\n",
    "       'CFLD_EALT',\n",
    "       'RFLD_EALT',\n",
    "       'HWAV_EALT']\n",
    "\n",
    "\n",
    "X_train, y_train = prepare_data(\"../data/processed/sepher_model_data/train.csv\",cols = cols)\n",
    "m,n = X_train.shape\n",
    "\n",
    "X_test, y_test = prepare_data(\"../data/processed/sepher_model_data/test.csv\",cols = cols)"
   ]
  },
  {
   "cell_type": "code",
   "execution_count": 125,
   "id": "4865be89",
   "metadata": {},
   "outputs": [
    {
     "data": {
      "text/plain": [
       "const         52.738020\n",
       "WHITE          1.828988\n",
       "EP_NOVEH       1.786160\n",
       "EP_PCI         1.762971\n",
       "EP_UNEMP       1.699083\n",
       "EP_CROWD       1.497966\n",
       "EP_AGE65       1.459273\n",
       "EP_AGE17       1.387423\n",
       "HISPANIC       1.358122\n",
       "HRCN_EALT      1.262773\n",
       "POPULATION     1.262110\n",
       "EP_MOBILE      1.253175\n",
       "RFLD_EALT      1.202136\n",
       "AFAM           1.145097\n",
       "WFIR_EALT      1.053169\n",
       "HWAV_EALT      1.023018\n",
       "CFLD_EALT      1.002387\n",
       "dtype: float64"
      ]
     },
     "execution_count": 125,
     "metadata": {},
     "output_type": "execute_result"
    }
   ],
   "source": [
    "\n",
    "temp = sm.add_constant(X_train.copy())\n",
    "vifs = pd.Series([variance_inflation_factor(temp.values, i) \n",
    "               for i in range(temp.shape[1])], \n",
    "              index=temp.columns).sort_values(ascending=False)\n",
    "vifs\n"
   ]
  },
  {
   "cell_type": "code",
   "execution_count": 165,
   "id": "16c392f5",
   "metadata": {},
   "outputs": [
    {
     "data": {
      "image/png": "[encoded data removed]",
      "text/plain": [
       "<Figure size 432x288 with 1 Axes>"
      ]
     },
     "metadata": {
      "needs_background": "light"
     },
     "output_type": "display_data"
    }
   ],
   "source": [
    "sns.barplot(y=vifs.drop('const').index,\n",
    "            x=vifs.drop('const').values,\n",
    "           color='blue',\n",
    "           alpha=0.7)\n",
    "plt.axvline(x=2.5,color = 'red',linestyle='--')\n",
    "plt.title('Variance Inflation Factor for covariates')\n",
    "plt.xlim(0,3)\n",
    "plt.show()"
   ]
  },
  {
   "cell_type": "markdown",
   "id": "841d6444",
   "metadata": {},
   "source": [
    "# Poisson Regression"
   ]
  },
  {
   "cell_type": "code",
   "execution_count": 6,
   "id": "54a95327",
   "metadata": {},
   "outputs": [],
   "source": [
    "pipe_pr = Pipeline([('scaler', StandardScaler()), ('pr', PoissonRegressor(max_iter=10000))])"
   ]
  },
  {
   "cell_type": "code",
   "execution_count": 7,
   "id": "715a47f4",
   "metadata": {},
   "outputs": [],
   "source": [
    "parameters = {'pr__alpha':np.arange(0,10.1,.1)}\n",
    "gcv = GridSearchCV(pipe_pr,parameters,cv=10,scoring='neg_mean_absolute_error',n_jobs=-1)\n",
    "gcv.fit(X_train,y_train)\n",
    "best_pipe = gcv.best_estimator_\n",
    "best_pipe.fit(X_train,y_train)\n",
    "best_pr = best_pipe['pr']"
   ]
  },
  {
   "cell_type": "code",
   "execution_count": 8,
   "id": "0f42c137",
   "metadata": {},
   "outputs": [
    {
     "data": {
      "text/plain": [
       "(-14.777772754883083, 5.800000000000001)"
      ]
     },
     "execution_count": 8,
     "metadata": {},
     "output_type": "execute_result"
    }
   ],
   "source": [
    "gcv.best_score_,best_pr.alpha"
   ]
  },
  {
   "cell_type": "code",
   "execution_count": 9,
   "id": "eb7dfcc9",
   "metadata": {},
   "outputs": [],
   "source": [
    "y_pred = best_pipe.predict(X_test)"
   ]
  },
  {
   "cell_type": "code",
   "execution_count": 10,
   "id": "50177cf0",
   "metadata": {},
   "outputs": [
    {
     "data": {
      "text/plain": [
       "455.07266445397283"
      ]
     },
     "execution_count": 10,
     "metadata": {},
     "output_type": "execute_result"
    }
   ],
   "source": [
    "id_outlier = np.where(y_pred==y_pred.max())[0][0]\n",
    "\n",
    "y_test_l = list(y_test)\n",
    "y_pred_l = list(y_pred)\n",
    "\n",
    "y_test_l.pop(id_outlier)\n",
    "y_pred_l.pop(id_outlier)"
   ]
  },
  {
   "cell_type": "code",
   "execution_count": 11,
   "id": "f893a0d8",
   "metadata": {},
   "outputs": [
    {
     "data": {
      "text/plain": [
       "15.026918916865267"
      ]
     },
     "execution_count": 11,
     "metadata": {},
     "output_type": "execute_result"
    }
   ],
   "source": [
    "mean_absolute_error(y_test_l,y_pred_l)"
   ]
  },
  {
   "cell_type": "code",
   "execution_count": 12,
   "id": "f1cd1fc5",
   "metadata": {},
   "outputs": [
    {
     "name": "stderr",
     "output_type": "stream",
     "text": [
      "/opt/anaconda3/lib/python3.7/site-packages/seaborn/distributions.py:2551: FutureWarning: `distplot` is a deprecated function and will be removed in a future version. Please adapt your code to use either `displot` (a figure-level function with similar flexibility) or `histplot` (an axes-level function for histograms).\n",
      "  warnings.warn(msg, FutureWarning)\n",
      "/opt/anaconda3/lib/python3.7/site-packages/seaborn/distributions.py:2551: FutureWarning: `distplot` is a deprecated function and will be removed in a future version. Please adapt your code to use either `displot` (a figure-level function with similar flexibility) or `histplot` (an axes-level function for histograms).\n",
      "  warnings.warn(msg, FutureWarning)\n"
     ]
    },
    {
     "data": {
      "image/png": "[encoded data removed]",
      "text/plain": [
       "<Figure size 720x720 with 1 Axes>"
      ]
     },
     "metadata": {
      "needs_background": "light"
     },
     "output_type": "display_data"
    }
   ],
   "source": [
    "ax = plt.figure(figsize = (10,10))\n",
    "sns.distplot(x = y_test_l,bins = 30,label = 'y_test')\n",
    "sns.distplot(x = y_pred_l,bins = 30,label = 'y_pred')\n",
    "plt.legend()\n",
    "plt.show()"
   ]
  },
  {
   "cell_type": "code",
   "execution_count": 13,
   "id": "00c0c9c3",
   "metadata": {},
   "outputs": [],
   "source": [
    "best_pr_coeffs = pd.DataFrame({'coefs':best_pr.coef_},index = X_train.columns)\n",
    "best_pr_coeffs['coefs_abs'] = best_pr_coeffs['coefs'].abs()\n",
    "best_pr_coeffs = best_pr_coeffs\\\n",
    "    .sort_values(by ='coefs_abs',\n",
    "                 ascending=False)"
   ]
  },
  {
   "cell_type": "code",
   "execution_count": 14,
   "id": "cd77281b",
   "metadata": {},
   "outputs": [
    {
     "data": {
      "text/html": [
       "<div>\n",
       "<style scoped>\n",
       "    .dataframe tbody tr th:only-of-type {\n",
       "        vertical-align: middle;\n",
       "    }\n",
       "\n",
       "    .dataframe tbody tr th {\n",
       "        vertical-align: top;\n",
       "    }\n",
       "\n",
       "    .dataframe thead th {\n",
       "        text-align: right;\n",
       "    }\n",
       "</style>\n",
       "<table border=\"1\" class=\"dataframe\">\n",
       "  <thead>\n",
       "    <tr style=\"text-align: right;\">\n",
       "      <th></th>\n",
       "      <th>coefs</th>\n",
       "      <th>coefs_abs</th>\n",
       "    </tr>\n",
       "  </thead>\n",
       "  <tbody>\n",
       "    <tr>\n",
       "      <th>WHITE</th>\n",
       "      <td>-0.227537</td>\n",
       "      <td>0.227537</td>\n",
       "    </tr>\n",
       "    <tr>\n",
       "      <th>POPULATION</th>\n",
       "      <td>0.225877</td>\n",
       "      <td>0.225877</td>\n",
       "    </tr>\n",
       "    <tr>\n",
       "      <th>EP_PCI</th>\n",
       "      <td>-0.191755</td>\n",
       "      <td>0.191755</td>\n",
       "    </tr>\n",
       "    <tr>\n",
       "      <th>EP_AGE65</th>\n",
       "      <td>-0.180831</td>\n",
       "      <td>0.180831</td>\n",
       "    </tr>\n",
       "    <tr>\n",
       "      <th>EP_NOVEH</th>\n",
       "      <td>0.143531</td>\n",
       "      <td>0.143531</td>\n",
       "    </tr>\n",
       "    <tr>\n",
       "      <th>AFAM</th>\n",
       "      <td>0.137840</td>\n",
       "      <td>0.137840</td>\n",
       "    </tr>\n",
       "    <tr>\n",
       "      <th>EP_MOBILE</th>\n",
       "      <td>-0.083012</td>\n",
       "      <td>0.083012</td>\n",
       "    </tr>\n",
       "    <tr>\n",
       "      <th>EP_UNEMP</th>\n",
       "      <td>0.080499</td>\n",
       "      <td>0.080499</td>\n",
       "    </tr>\n",
       "    <tr>\n",
       "      <th>EP_CROWD</th>\n",
       "      <td>0.053151</td>\n",
       "      <td>0.053151</td>\n",
       "    </tr>\n",
       "    <tr>\n",
       "      <th>WFIR_EALT</th>\n",
       "      <td>-0.052644</td>\n",
       "      <td>0.052644</td>\n",
       "    </tr>\n",
       "    <tr>\n",
       "      <th>HRCN_EALT</th>\n",
       "      <td>-0.051769</td>\n",
       "      <td>0.051769</td>\n",
       "    </tr>\n",
       "    <tr>\n",
       "      <th>RFLD_EALT</th>\n",
       "      <td>-0.026086</td>\n",
       "      <td>0.026086</td>\n",
       "    </tr>\n",
       "    <tr>\n",
       "      <th>HISPANIC</th>\n",
       "      <td>-0.015735</td>\n",
       "      <td>0.015735</td>\n",
       "    </tr>\n",
       "    <tr>\n",
       "      <th>HWAV_EALT</th>\n",
       "      <td>-0.006701</td>\n",
       "      <td>0.006701</td>\n",
       "    </tr>\n",
       "    <tr>\n",
       "      <th>EP_AGE17</th>\n",
       "      <td>-0.004989</td>\n",
       "      <td>0.004989</td>\n",
       "    </tr>\n",
       "    <tr>\n",
       "      <th>CFLD_EALT</th>\n",
       "      <td>0.003218</td>\n",
       "      <td>0.003218</td>\n",
       "    </tr>\n",
       "  </tbody>\n",
       "</table>\n",
       "</div>"
      ],
      "text/plain": [
       "               coefs  coefs_abs\n",
       "WHITE      -0.227537   0.227537\n",
       "POPULATION  0.225877   0.225877\n",
       "EP_PCI     -0.191755   0.191755\n",
       "EP_AGE65   -0.180831   0.180831\n",
       "EP_NOVEH    0.143531   0.143531\n",
       "AFAM        0.137840   0.137840\n",
       "EP_MOBILE  -0.083012   0.083012\n",
       "EP_UNEMP    0.080499   0.080499\n",
       "EP_CROWD    0.053151   0.053151\n",
       "WFIR_EALT  -0.052644   0.052644\n",
       "HRCN_EALT  -0.051769   0.051769\n",
       "RFLD_EALT  -0.026086   0.026086\n",
       "HISPANIC   -0.015735   0.015735\n",
       "HWAV_EALT  -0.006701   0.006701\n",
       "EP_AGE17   -0.004989   0.004989\n",
       "CFLD_EALT   0.003218   0.003218"
      ]
     },
     "execution_count": 14,
     "metadata": {},
     "output_type": "execute_result"
    }
   ],
   "source": [
    "best_pr_coeffs"
   ]
  },
  {
   "cell_type": "markdown",
   "id": "403c1369",
   "metadata": {},
   "source": [
    "# Random Forrest"
   ]
  },
  {
   "cell_type": "markdown",
   "id": "483c37c7",
   "metadata": {},
   "source": [
    "## Loss = MSE"
   ]
  },
  {
   "cell_type": "code",
   "execution_count": 25,
   "id": "5397f5c5",
   "metadata": {},
   "outputs": [],
   "source": [
    "pipe_rf = Pipeline([('rf', RandomForestRegressor(n_estimators=200,\n",
    "                                                n_jobs=-1,\n",
    "                                                random_state = 12,\n",
    "                                                criterion = 'squared_error'\n",
    "                                             )\n",
    "                 )\n",
    "                ])"
   ]
  },
  {
   "cell_type": "code",
   "execution_count": 26,
   "id": "e98d07c7",
   "metadata": {},
   "outputs": [
    {
     "name": "stdout",
     "output_type": "stream",
     "text": [
      "Fitting 10 folds for each of 25 candidates, totalling 250 fits\n",
      "[CV] END .........rf__max_features=4, rf__min_samples_leaf=1; total time=   1.6s\n",
      "[CV] END .........rf__max_features=4, rf__min_samples_leaf=1; total time=   1.5s\n",
      "[CV] END .........rf__max_features=4, rf__min_samples_leaf=1; total time=   2.0s\n",
      "[CV] END .........rf__max_features=4, rf__min_samples_leaf=1; total time=   2.3s\n",
      "[CV] END .........rf__max_features=4, rf__min_samples_leaf=1; total time=   2.4s\n",
      "[CV] END .........rf__max_features=4, rf__min_samples_leaf=1; total time=   2.6s\n",
      "[CV] END .........rf__max_features=4, rf__min_samples_leaf=1; total time=   2.1s\n",
      "[CV] END .........rf__max_features=4, rf__min_samples_leaf=1; total time=   1.9s\n",
      "[CV] END .........rf__max_features=4, rf__min_samples_leaf=1; total time=   2.0s\n",
      "[CV] END .........rf__max_features=4, rf__min_samples_leaf=1; total time=   2.0s\n",
      "[CV] END .........rf__max_features=4, rf__min_samples_leaf=2; total time=   1.5s\n",
      "[CV] END .........rf__max_features=4, rf__min_samples_leaf=2; total time=   1.8s\n",
      "[CV] END .........rf__max_features=4, rf__min_samples_leaf=2; total time=   1.4s\n",
      "[CV] END .........rf__max_features=4, rf__min_samples_leaf=2; total time=   1.4s\n",
      "[CV] END .........rf__max_features=4, rf__min_samples_leaf=2; total time=   1.5s\n",
      "[CV] END .........rf__max_features=4, rf__min_samples_leaf=2; total time=   1.5s\n",
      "[CV] END .........rf__max_features=4, rf__min_samples_leaf=2; total time=   1.8s\n",
      "[CV] END .........rf__max_features=4, rf__min_samples_leaf=2; total time=   1.5s\n",
      "[CV] END .........rf__max_features=4, rf__min_samples_leaf=2; total time=   1.5s\n",
      "[CV] END .........rf__max_features=4, rf__min_samples_leaf=2; total time=   1.7s\n",
      "[CV] END .........rf__max_features=4, rf__min_samples_leaf=4; total time=   1.4s\n",
      "[CV] END .........rf__max_features=4, rf__min_samples_leaf=4; total time=   1.3s\n",
      "[CV] END .........rf__max_features=4, rf__min_samples_leaf=4; total time=   1.9s\n",
      "[CV] END .........rf__max_features=4, rf__min_samples_leaf=4; total time=   2.8s\n",
      "[CV] END .........rf__max_features=4, rf__min_samples_leaf=4; total time=   1.9s\n",
      "[CV] END .........rf__max_features=4, rf__min_samples_leaf=4; total time=   1.4s\n",
      "[CV] END .........rf__max_features=4, rf__min_samples_leaf=4; total time=   1.6s\n",
      "[CV] END .........rf__max_features=4, rf__min_samples_leaf=4; total time=   1.5s\n",
      "[CV] END .........rf__max_features=4, rf__min_samples_leaf=4; total time=   1.4s\n",
      "[CV] END .........rf__max_features=4, rf__min_samples_leaf=4; total time=   1.9s\n",
      "[CV] END .........rf__max_features=4, rf__min_samples_leaf=8; total time=   1.1s\n",
      "[CV] END .........rf__max_features=4, rf__min_samples_leaf=8; total time=   1.3s\n",
      "[CV] END .........rf__max_features=4, rf__min_samples_leaf=8; total time=   1.5s\n",
      "[CV] END .........rf__max_features=4, rf__min_samples_leaf=8; total time=   1.2s\n",
      "[CV] END .........rf__max_features=4, rf__min_samples_leaf=8; total time=   1.4s\n",
      "[CV] END .........rf__max_features=4, rf__min_samples_leaf=8; total time=   1.7s\n",
      "[CV] END .........rf__max_features=4, rf__min_samples_leaf=8; total time=   2.2s\n",
      "[CV] END .........rf__max_features=4, rf__min_samples_leaf=8; total time=   1.7s\n",
      "[CV] END .........rf__max_features=4, rf__min_samples_leaf=8; total time=   1.4s\n",
      "[CV] END .........rf__max_features=4, rf__min_samples_leaf=8; total time=   1.3s\n",
      "[CV] END ........rf__max_features=4, rf__min_samples_leaf=16; total time=   1.7s\n",
      "[CV] END ........rf__max_features=4, rf__min_samples_leaf=16; total time=   2.1s\n",
      "[CV] END ........rf__max_features=4, rf__min_samples_leaf=16; total time=   2.3s\n",
      "[CV] END ........rf__max_features=4, rf__min_samples_leaf=16; total time=   2.3s\n",
      "[CV] END ........rf__max_features=4, rf__min_samples_leaf=16; total time=   1.4s\n",
      "[CV] END ........rf__max_features=4, rf__min_samples_leaf=16; total time=   1.2s\n",
      "[CV] END ........rf__max_features=4, rf__min_samples_leaf=16; total time=   1.1s\n",
      "[CV] END ........rf__max_features=4, rf__min_samples_leaf=16; total time=   1.1s\n",
      "[CV] END ........rf__max_features=4, rf__min_samples_leaf=16; total time=   1.1s\n",
      "[CV] END ........rf__max_features=4, rf__min_samples_leaf=16; total time=   1.8s\n",
      "[CV] END .........rf__max_features=5, rf__min_samples_leaf=1; total time=   3.3s\n",
      "[CV] END .........rf__max_features=5, rf__min_samples_leaf=1; total time=   2.2s\n",
      "[CV] END .........rf__max_features=5, rf__min_samples_leaf=1; total time=   2.9s\n",
      "[CV] END .........rf__max_features=5, rf__min_samples_leaf=1; total time=   3.2s\n",
      "[CV] END .........rf__max_features=5, rf__min_samples_leaf=1; total time=   3.2s\n",
      "[CV] END .........rf__max_features=5, rf__min_samples_leaf=1; total time=   2.5s\n",
      "[CV] END .........rf__max_features=5, rf__min_samples_leaf=1; total time=   2.0s\n",
      "[CV] END .........rf__max_features=5, rf__min_samples_leaf=1; total time=   1.9s\n",
      "[CV] END .........rf__max_features=5, rf__min_samples_leaf=1; total time=   3.4s\n",
      "[CV] END .........rf__max_features=5, rf__min_samples_leaf=1; total time=   4.4s\n",
      "[CV] END .........rf__max_features=5, rf__min_samples_leaf=2; total time=   3.2s\n",
      "[CV] END .........rf__max_features=5, rf__min_samples_leaf=2; total time=   1.6s\n",
      "[CV] END .........rf__max_features=5, rf__min_samples_leaf=2; total time=   2.1s\n",
      "[CV] END .........rf__max_features=5, rf__min_samples_leaf=2; total time=   4.0s\n",
      "[CV] END .........rf__max_features=5, rf__min_samples_leaf=2; total time=   4.0s\n",
      "[CV] END .........rf__max_features=5, rf__min_samples_leaf=2; total time=   3.5s\n",
      "[CV] END .........rf__max_features=5, rf__min_samples_leaf=2; total time=   2.7s\n",
      "[CV] END .........rf__max_features=5, rf__min_samples_leaf=2; total time=   3.2s\n",
      "[CV] END .........rf__max_features=5, rf__min_samples_leaf=2; total time=   2.1s\n",
      "[CV] END .........rf__max_features=5, rf__min_samples_leaf=2; total time=   3.4s\n",
      "[CV] END .........rf__max_features=5, rf__min_samples_leaf=4; total time=   3.1s\n",
      "[CV] END .........rf__max_features=5, rf__min_samples_leaf=4; total time=   3.8s\n",
      "[CV] END .........rf__max_features=5, rf__min_samples_leaf=4; total time=   2.9s\n",
      "[CV] END .........rf__max_features=5, rf__min_samples_leaf=4; total time=   2.9s\n",
      "[CV] END .........rf__max_features=5, rf__min_samples_leaf=4; total time=   1.9s\n",
      "[CV] END .........rf__max_features=5, rf__min_samples_leaf=4; total time=   2.9s\n",
      "[CV] END .........rf__max_features=5, rf__min_samples_leaf=4; total time=   2.7s\n",
      "[CV] END .........rf__max_features=5, rf__min_samples_leaf=4; total time=   3.2s\n",
      "[CV] END .........rf__max_features=5, rf__min_samples_leaf=4; total time=   2.9s\n",
      "[CV] END .........rf__max_features=5, rf__min_samples_leaf=4; total time=   3.0s\n",
      "[CV] END .........rf__max_features=5, rf__min_samples_leaf=8; total time=   2.5s\n",
      "[CV] END .........rf__max_features=5, rf__min_samples_leaf=8; total time=   2.3s\n",
      "[CV] END .........rf__max_features=5, rf__min_samples_leaf=8; total time=   3.3s\n",
      "[CV] END .........rf__max_features=5, rf__min_samples_leaf=8; total time=   2.9s\n",
      "[CV] END .........rf__max_features=5, rf__min_samples_leaf=8; total time=   2.1s\n",
      "[CV] END .........rf__max_features=5, rf__min_samples_leaf=8; total time=   1.2s\n",
      "[CV] END .........rf__max_features=5, rf__min_samples_leaf=8; total time=   2.5s\n",
      "[CV] END .........rf__max_features=5, rf__min_samples_leaf=8; total time=   3.2s\n",
      "[CV] END .........rf__max_features=5, rf__min_samples_leaf=8; total time=   2.7s\n",
      "[CV] END .........rf__max_features=5, rf__min_samples_leaf=8; total time=   2.0s\n",
      "[CV] END ........rf__max_features=5, rf__min_samples_leaf=16; total time=   1.7s\n",
      "[CV] END ........rf__max_features=5, rf__min_samples_leaf=16; total time=   1.7s\n",
      "[CV] END ........rf__max_features=5, rf__min_samples_leaf=16; total time=   1.7s\n",
      "[CV] END ........rf__max_features=5, rf__min_samples_leaf=16; total time=   2.0s\n",
      "[CV] END ........rf__max_features=5, rf__min_samples_leaf=16; total time=   1.7s\n",
      "[CV] END ........rf__max_features=5, rf__min_samples_leaf=16; total time=   1.8s\n",
      "[CV] END ........rf__max_features=5, rf__min_samples_leaf=16; total time=   1.8s\n",
      "[CV] END ........rf__max_features=5, rf__min_samples_leaf=16; total time=   1.6s\n",
      "[CV] END ........rf__max_features=5, rf__min_samples_leaf=16; total time=   1.3s\n",
      "[CV] END ........rf__max_features=5, rf__min_samples_leaf=16; total time=   1.7s\n",
      "[CV] END .........rf__max_features=8, rf__min_samples_leaf=1; total time=   5.9s\n"
     ]
    },
    {
     "name": "stdout",
     "output_type": "stream",
     "text": [
      "[CV] END .........rf__max_features=8, rf__min_samples_leaf=1; total time=   6.8s\n",
      "[CV] END .........rf__max_features=8, rf__min_samples_leaf=1; total time=   6.8s\n",
      "[CV] END .........rf__max_features=8, rf__min_samples_leaf=1; total time=   6.6s\n",
      "[CV] END .........rf__max_features=8, rf__min_samples_leaf=1; total time=   6.6s\n",
      "[CV] END .........rf__max_features=8, rf__min_samples_leaf=1; total time=   6.8s\n",
      "[CV] END .........rf__max_features=8, rf__min_samples_leaf=1; total time=   5.5s\n",
      "[CV] END .........rf__max_features=8, rf__min_samples_leaf=1; total time=   4.4s\n",
      "[CV] END .........rf__max_features=8, rf__min_samples_leaf=1; total time=   5.0s\n",
      "[CV] END .........rf__max_features=8, rf__min_samples_leaf=1; total time=   4.4s\n",
      "[CV] END .........rf__max_features=8, rf__min_samples_leaf=2; total time=   4.6s\n",
      "[CV] END .........rf__max_features=8, rf__min_samples_leaf=2; total time=   4.0s\n",
      "[CV] END .........rf__max_features=8, rf__min_samples_leaf=2; total time=   4.0s\n",
      "[CV] END .........rf__max_features=8, rf__min_samples_leaf=2; total time=   4.0s\n",
      "[CV] END .........rf__max_features=8, rf__min_samples_leaf=2; total time=   4.3s\n",
      "[CV] END .........rf__max_features=8, rf__min_samples_leaf=2; total time=   4.1s\n",
      "[CV] END .........rf__max_features=8, rf__min_samples_leaf=2; total time=   4.1s\n",
      "[CV] END .........rf__max_features=8, rf__min_samples_leaf=2; total time=   3.9s\n",
      "[CV] END .........rf__max_features=8, rf__min_samples_leaf=2; total time=   4.2s\n",
      "[CV] END .........rf__max_features=8, rf__min_samples_leaf=2; total time=   4.0s\n",
      "[CV] END .........rf__max_features=8, rf__min_samples_leaf=4; total time=   3.7s\n",
      "[CV] END .........rf__max_features=8, rf__min_samples_leaf=4; total time=   3.3s\n",
      "[CV] END .........rf__max_features=8, rf__min_samples_leaf=4; total time=   3.2s\n",
      "[CV] END .........rf__max_features=8, rf__min_samples_leaf=4; total time=   3.6s\n",
      "[CV] END .........rf__max_features=8, rf__min_samples_leaf=4; total time=   4.0s\n",
      "[CV] END .........rf__max_features=8, rf__min_samples_leaf=4; total time=   4.2s\n",
      "[CV] END .........rf__max_features=8, rf__min_samples_leaf=4; total time=   4.2s\n",
      "[CV] END .........rf__max_features=8, rf__min_samples_leaf=4; total time=   3.8s\n",
      "[CV] END .........rf__max_features=8, rf__min_samples_leaf=4; total time=   3.8s\n",
      "[CV] END .........rf__max_features=8, rf__min_samples_leaf=4; total time=   3.5s\n",
      "[CV] END .........rf__max_features=8, rf__min_samples_leaf=8; total time=   3.0s\n",
      "[CV] END .........rf__max_features=8, rf__min_samples_leaf=8; total time=   2.9s\n",
      "[CV] END .........rf__max_features=8, rf__min_samples_leaf=8; total time=   2.8s\n",
      "[CV] END .........rf__max_features=8, rf__min_samples_leaf=8; total time=   2.7s\n",
      "[CV] END .........rf__max_features=8, rf__min_samples_leaf=8; total time=   2.7s\n",
      "[CV] END .........rf__max_features=8, rf__min_samples_leaf=8; total time=   2.7s\n",
      "[CV] END .........rf__max_features=8, rf__min_samples_leaf=8; total time=   2.8s\n",
      "[CV] END .........rf__max_features=8, rf__min_samples_leaf=8; total time=   2.8s\n",
      "[CV] END .........rf__max_features=8, rf__min_samples_leaf=8; total time=   2.7s\n",
      "[CV] END .........rf__max_features=8, rf__min_samples_leaf=8; total time=   2.9s\n",
      "[CV] END ........rf__max_features=8, rf__min_samples_leaf=16; total time=   2.5s\n",
      "[CV] END ........rf__max_features=8, rf__min_samples_leaf=16; total time=   3.2s\n",
      "[CV] END ........rf__max_features=8, rf__min_samples_leaf=16; total time=   3.2s\n",
      "[CV] END ........rf__max_features=8, rf__min_samples_leaf=16; total time=   2.6s\n",
      "[CV] END ........rf__max_features=8, rf__min_samples_leaf=16; total time=   3.6s\n",
      "[CV] END ........rf__max_features=8, rf__min_samples_leaf=16; total time=   3.6s\n",
      "[CV] END ........rf__max_features=8, rf__min_samples_leaf=16; total time=   2.7s\n",
      "[CV] END ........rf__max_features=8, rf__min_samples_leaf=16; total time=   2.7s\n",
      "[CV] END ........rf__max_features=8, rf__min_samples_leaf=16; total time=   2.7s\n",
      "[CV] END ........rf__max_features=8, rf__min_samples_leaf=16; total time=   2.6s\n",
      "[CV] END ........rf__max_features=12, rf__min_samples_leaf=1; total time=   6.9s\n",
      "[CV] END ........rf__max_features=12, rf__min_samples_leaf=1; total time=   5.6s\n",
      "[CV] END ........rf__max_features=12, rf__min_samples_leaf=1; total time=   6.8s\n",
      "[CV] END ........rf__max_features=12, rf__min_samples_leaf=1; total time=   7.6s\n",
      "[CV] END ........rf__max_features=12, rf__min_samples_leaf=1; total time=   7.2s\n",
      "[CV] END ........rf__max_features=12, rf__min_samples_leaf=1; total time=   6.6s\n",
      "[CV] END ........rf__max_features=12, rf__min_samples_leaf=1; total time=  11.0s\n",
      "[CV] END ........rf__max_features=12, rf__min_samples_leaf=1; total time=   8.7s\n",
      "[CV] END ........rf__max_features=12, rf__min_samples_leaf=1; total time=   7.0s\n",
      "[CV] END ........rf__max_features=12, rf__min_samples_leaf=1; total time=   6.0s\n",
      "[CV] END ........rf__max_features=12, rf__min_samples_leaf=2; total time=   5.2s\n",
      "[CV] END ........rf__max_features=12, rf__min_samples_leaf=2; total time=   5.0s\n",
      "[CV] END ........rf__max_features=12, rf__min_samples_leaf=2; total time=   5.1s\n",
      "[CV] END ........rf__max_features=12, rf__min_samples_leaf=2; total time=   4.9s\n",
      "[CV] END ........rf__max_features=12, rf__min_samples_leaf=2; total time=   5.1s\n",
      "[CV] END ........rf__max_features=12, rf__min_samples_leaf=2; total time=   7.7s\n",
      "[CV] END ........rf__max_features=12, rf__min_samples_leaf=2; total time=   4.8s\n",
      "[CV] END ........rf__max_features=12, rf__min_samples_leaf=2; total time=   5.0s\n",
      "[CV] END ........rf__max_features=12, rf__min_samples_leaf=2; total time=   4.1s\n",
      "[CV] END ........rf__max_features=12, rf__min_samples_leaf=2; total time=   3.1s\n",
      "[CV] END ........rf__max_features=12, rf__min_samples_leaf=4; total time=   2.6s\n",
      "[CV] END ........rf__max_features=12, rf__min_samples_leaf=4; total time=   2.7s\n",
      "[CV] END ........rf__max_features=12, rf__min_samples_leaf=4; total time=   2.5s\n",
      "[CV] END ........rf__max_features=12, rf__min_samples_leaf=4; total time=   2.6s\n",
      "[CV] END ........rf__max_features=12, rf__min_samples_leaf=4; total time=   2.5s\n",
      "[CV] END ........rf__max_features=12, rf__min_samples_leaf=4; total time=   2.6s\n",
      "[CV] END ........rf__max_features=12, rf__min_samples_leaf=4; total time=   2.6s\n",
      "[CV] END ........rf__max_features=12, rf__min_samples_leaf=4; total time=   2.9s\n",
      "[CV] END ........rf__max_features=12, rf__min_samples_leaf=4; total time=   2.6s\n",
      "[CV] END ........rf__max_features=12, rf__min_samples_leaf=4; total time=   2.6s\n",
      "[CV] END ........rf__max_features=12, rf__min_samples_leaf=8; total time=   2.4s\n",
      "[CV] END ........rf__max_features=12, rf__min_samples_leaf=8; total time=   2.5s\n",
      "[CV] END ........rf__max_features=12, rf__min_samples_leaf=8; total time=   2.4s\n",
      "[CV] END ........rf__max_features=12, rf__min_samples_leaf=8; total time=   2.7s\n",
      "[CV] END ........rf__max_features=12, rf__min_samples_leaf=8; total time=   2.4s\n",
      "[CV] END ........rf__max_features=12, rf__min_samples_leaf=8; total time=   2.4s\n",
      "[CV] END ........rf__max_features=12, rf__min_samples_leaf=8; total time=   2.4s\n",
      "[CV] END ........rf__max_features=12, rf__min_samples_leaf=8; total time=   2.7s\n",
      "[CV] END ........rf__max_features=12, rf__min_samples_leaf=8; total time=   2.5s\n",
      "[CV] END ........rf__max_features=12, rf__min_samples_leaf=8; total time=   2.4s\n",
      "[CV] END .......rf__max_features=12, rf__min_samples_leaf=16; total time=   2.1s\n",
      "[CV] END .......rf__max_features=12, rf__min_samples_leaf=16; total time=   2.1s\n",
      "[CV] END .......rf__max_features=12, rf__min_samples_leaf=16; total time=   2.1s\n",
      "[CV] END .......rf__max_features=12, rf__min_samples_leaf=16; total time=   2.2s\n",
      "[CV] END .......rf__max_features=12, rf__min_samples_leaf=16; total time=   2.2s\n",
      "[CV] END .......rf__max_features=12, rf__min_samples_leaf=16; total time=   2.1s\n",
      "[CV] END .......rf__max_features=12, rf__min_samples_leaf=16; total time=   2.1s\n",
      "[CV] END .......rf__max_features=12, rf__min_samples_leaf=16; total time=   2.2s\n",
      "[CV] END .......rf__max_features=12, rf__min_samples_leaf=16; total time=   2.2s\n",
      "[CV] END .......rf__max_features=12, rf__min_samples_leaf=16; total time=   2.3s\n",
      "[CV] END ........rf__max_features=16, rf__min_samples_leaf=1; total time=   4.7s\n",
      "[CV] END ........rf__max_features=16, rf__min_samples_leaf=1; total time=   4.8s\n",
      "[CV] END ........rf__max_features=16, rf__min_samples_leaf=1; total time=   4.3s\n"
     ]
    },
    {
     "name": "stdout",
     "output_type": "stream",
     "text": [
      "[CV] END ........rf__max_features=16, rf__min_samples_leaf=1; total time=   4.7s\n",
      "[CV] END ........rf__max_features=16, rf__min_samples_leaf=1; total time=   4.4s\n",
      "[CV] END ........rf__max_features=16, rf__min_samples_leaf=1; total time=   4.2s\n",
      "[CV] END ........rf__max_features=16, rf__min_samples_leaf=1; total time=   4.5s\n",
      "[CV] END ........rf__max_features=16, rf__min_samples_leaf=1; total time=   4.8s\n",
      "[CV] END ........rf__max_features=16, rf__min_samples_leaf=1; total time=   4.8s\n",
      "[CV] END ........rf__max_features=16, rf__min_samples_leaf=1; total time=   4.8s\n",
      "[CV] END ........rf__max_features=16, rf__min_samples_leaf=2; total time=   4.2s\n",
      "[CV] END ........rf__max_features=16, rf__min_samples_leaf=2; total time=   4.1s\n",
      "[CV] END ........rf__max_features=16, rf__min_samples_leaf=2; total time=   4.0s\n",
      "[CV] END ........rf__max_features=16, rf__min_samples_leaf=2; total time=   5.0s\n",
      "[CV] END ........rf__max_features=16, rf__min_samples_leaf=2; total time=   5.3s\n",
      "[CV] END ........rf__max_features=16, rf__min_samples_leaf=2; total time=   4.3s\n",
      "[CV] END ........rf__max_features=16, rf__min_samples_leaf=2; total time=   5.1s\n",
      "[CV] END ........rf__max_features=16, rf__min_samples_leaf=2; total time=   6.9s\n",
      "[CV] END ........rf__max_features=16, rf__min_samples_leaf=2; total time=   6.8s\n",
      "[CV] END ........rf__max_features=16, rf__min_samples_leaf=2; total time=   4.6s\n",
      "[CV] END ........rf__max_features=16, rf__min_samples_leaf=4; total time=   3.7s\n",
      "[CV] END ........rf__max_features=16, rf__min_samples_leaf=4; total time=   3.7s\n",
      "[CV] END ........rf__max_features=16, rf__min_samples_leaf=4; total time=   3.9s\n",
      "[CV] END ........rf__max_features=16, rf__min_samples_leaf=4; total time=   4.1s\n",
      "[CV] END ........rf__max_features=16, rf__min_samples_leaf=4; total time=   4.2s\n",
      "[CV] END ........rf__max_features=16, rf__min_samples_leaf=4; total time=   4.6s\n",
      "[CV] END ........rf__max_features=16, rf__min_samples_leaf=4; total time=   4.5s\n",
      "[CV] END ........rf__max_features=16, rf__min_samples_leaf=4; total time=   4.0s\n",
      "[CV] END ........rf__max_features=16, rf__min_samples_leaf=4; total time=   4.1s\n",
      "[CV] END ........rf__max_features=16, rf__min_samples_leaf=4; total time=   4.3s\n",
      "[CV] END ........rf__max_features=16, rf__min_samples_leaf=8; total time=   4.1s\n",
      "[CV] END ........rf__max_features=16, rf__min_samples_leaf=8; total time=   4.1s\n",
      "[CV] END ........rf__max_features=16, rf__min_samples_leaf=8; total time=   4.0s\n",
      "[CV] END ........rf__max_features=16, rf__min_samples_leaf=8; total time=   4.0s\n",
      "[CV] END ........rf__max_features=16, rf__min_samples_leaf=8; total time=   4.3s\n",
      "[CV] END ........rf__max_features=16, rf__min_samples_leaf=8; total time=   4.9s\n",
      "[CV] END ........rf__max_features=16, rf__min_samples_leaf=8; total time=   6.4s\n",
      "[CV] END ........rf__max_features=16, rf__min_samples_leaf=8; total time=   9.6s\n",
      "[CV] END ........rf__max_features=16, rf__min_samples_leaf=8; total time=   6.6s\n",
      "[CV] END ........rf__max_features=16, rf__min_samples_leaf=8; total time=   4.6s\n",
      "[CV] END .......rf__max_features=16, rf__min_samples_leaf=16; total time=   3.9s\n",
      "[CV] END .......rf__max_features=16, rf__min_samples_leaf=16; total time=   3.6s\n",
      "[CV] END .......rf__max_features=16, rf__min_samples_leaf=16; total time=   3.5s\n",
      "[CV] END .......rf__max_features=16, rf__min_samples_leaf=16; total time=   3.5s\n",
      "[CV] END .......rf__max_features=16, rf__min_samples_leaf=16; total time=   3.5s\n",
      "[CV] END .......rf__max_features=16, rf__min_samples_leaf=16; total time=   3.2s\n",
      "[CV] END .......rf__max_features=16, rf__min_samples_leaf=16; total time=   3.1s\n",
      "[CV] END .......rf__max_features=16, rf__min_samples_leaf=16; total time=   3.1s\n",
      "[CV] END .......rf__max_features=16, rf__min_samples_leaf=16; total time=   3.5s\n",
      "[CV] END .......rf__max_features=16, rf__min_samples_leaf=16; total time=   4.2s\n"
     ]
    }
   ],
   "source": [
    "max_features = np.unique(np.array([n,3*n/4,n/2,n/3,n/4,np.sqrt(n)])\\\n",
    "                                  .round()\\\n",
    "                                  .astype(int))\n",
    "min_samples_leaf = 2**np.arange(5)\n",
    "\n",
    "parameters = {'rf__max_features':max_features,\n",
    "              'rf__min_samples_leaf':min_samples_leaf\n",
    "             }\n",
    "\n",
    "gcv = GridSearchCV(pipe_rf,parameters,cv=10,scoring='neg_mean_absolute_error',verbose=2)\n",
    "gcv.fit(X_train,y_train)\n",
    "best_pipe = gcv.best_estimator_\n",
    "best_pipe.fit(X_train,y_train)\n",
    "best_model = best_pipe['rf']"
   ]
  },
  {
   "cell_type": "code",
   "execution_count": 27,
   "id": "00d15bee",
   "metadata": {},
   "outputs": [
    {
     "data": {
      "text/plain": [
       "(-11.975772714453791,\n",
       " RandomForestRegressor(max_features=8, min_samples_leaf=4, n_estimators=200,\n",
       "                       n_jobs=-1, random_state=12))"
      ]
     },
     "execution_count": 27,
     "metadata": {},
     "output_type": "execute_result"
    }
   ],
   "source": [
    "gcv.best_score_,best_model"
   ]
  },
  {
   "cell_type": "code",
   "execution_count": 28,
   "id": "de6cde76",
   "metadata": {},
   "outputs": [
    {
     "data": {
      "text/plain": [
       "(-11.975772714453791,\n",
       " RandomForestRegressor(max_features=8, min_samples_leaf=4, n_estimators=200,\n",
       "                       n_jobs=-1, random_state=12))"
      ]
     },
     "execution_count": 28,
     "metadata": {},
     "output_type": "execute_result"
    }
   ],
   "source": [
    "gcv.best_score_,best_model"
   ]
  },
  {
   "cell_type": "code",
   "execution_count": 29,
   "id": "cf5920a1",
   "metadata": {},
   "outputs": [],
   "source": [
    "y_pred = best_pipe.predict(X_test)"
   ]
  },
  {
   "cell_type": "code",
   "execution_count": 30,
   "id": "8a9c8c19",
   "metadata": {},
   "outputs": [
    {
     "name": "stderr",
     "output_type": "stream",
     "text": [
      "/opt/anaconda3/lib/python3.7/site-packages/seaborn/distributions.py:2551: FutureWarning: `distplot` is a deprecated function and will be removed in a future version. Please adapt your code to use either `displot` (a figure-level function with similar flexibility) or `histplot` (an axes-level function for histograms).\n",
      "  warnings.warn(msg, FutureWarning)\n",
      "/opt/anaconda3/lib/python3.7/site-packages/seaborn/distributions.py:2551: FutureWarning: `distplot` is a deprecated function and will be removed in a future version. Please adapt your code to use either `displot` (a figure-level function with similar flexibility) or `histplot` (an axes-level function for histograms).\n",
      "  warnings.warn(msg, FutureWarning)\n"
     ]
    },
    {
     "data": {
      "image/png": "[encoded data removed]",
      "text/plain": [
       "<Figure size 720x720 with 1 Axes>"
      ]
     },
     "metadata": {
      "needs_background": "light"
     },
     "output_type": "display_data"
    }
   ],
   "source": [
    "ax = plt.figure(figsize = (10,10))\n",
    "sns.distplot(x = y_test,bins = 30,label = 'y_test')\n",
    "sns.distplot(x = y_pred,bins = 30,label = 'y_pred')\n",
    "plt.legend()\n",
    "plt.show()"
   ]
  },
  {
   "cell_type": "code",
   "execution_count": 33,
   "id": "aed90fbd",
   "metadata": {},
   "outputs": [
    {
     "data": {
      "image/png": "[encoded data removed]",
      "text/plain": [
       "<Figure size 432x288 with 1 Axes>"
      ]
     },
     "metadata": {
      "needs_background": "light"
     },
     "output_type": "display_data"
    }
   ],
   "source": [
    "feature_imp = pd.DataFrame({'importance':best_model.feature_importances_},index = X_train.columns)\n",
    "feature_imp = feature_imp.sort_values(by='importance',ascending=False)\n",
    "sns.barplot(data = feature_imp,\n",
    "            x = 'importance',\n",
    "            y = feature_imp.index)\n",
    "plt.show()"
   ]
  },
  {
   "cell_type": "markdown",
   "id": "acdb6571",
   "metadata": {},
   "source": [
    "## Loss = Poisson"
   ]
  },
  {
   "cell_type": "code",
   "execution_count": 34,
   "id": "1b303fb5",
   "metadata": {},
   "outputs": [
    {
     "name": "stdout",
     "output_type": "stream",
     "text": [
      "Fitting 10 folds for each of 25 candidates, totalling 250 fits\n",
      "[CV] END .........rf__max_features=4, rf__min_samples_leaf=1; total time=  10.1s\n",
      "[CV] END .........rf__max_features=4, rf__min_samples_leaf=1; total time=  14.1s\n",
      "[CV] END .........rf__max_features=4, rf__min_samples_leaf=1; total time=   8.9s\n",
      "[CV] END .........rf__max_features=4, rf__min_samples_leaf=1; total time=  11.1s\n",
      "[CV] END .........rf__max_features=4, rf__min_samples_leaf=1; total time=  11.0s\n",
      "[CV] END .........rf__max_features=4, rf__min_samples_leaf=1; total time=   9.1s\n",
      "[CV] END .........rf__max_features=4, rf__min_samples_leaf=1; total time=   9.2s\n",
      "[CV] END .........rf__max_features=4, rf__min_samples_leaf=1; total time=   9.7s\n",
      "[CV] END .........rf__max_features=4, rf__min_samples_leaf=1; total time=   9.9s\n",
      "[CV] END .........rf__max_features=4, rf__min_samples_leaf=1; total time=   7.9s\n",
      "[CV] END .........rf__max_features=4, rf__min_samples_leaf=2; total time=   6.6s\n",
      "[CV] END .........rf__max_features=4, rf__min_samples_leaf=2; total time=   6.8s\n",
      "[CV] END .........rf__max_features=4, rf__min_samples_leaf=2; total time=   6.8s\n",
      "[CV] END .........rf__max_features=4, rf__min_samples_leaf=2; total time=   6.8s\n",
      "[CV] END .........rf__max_features=4, rf__min_samples_leaf=2; total time=   6.9s\n",
      "[CV] END .........rf__max_features=4, rf__min_samples_leaf=2; total time=   6.8s\n",
      "[CV] END .........rf__max_features=4, rf__min_samples_leaf=2; total time=   7.4s\n",
      "[CV] END .........rf__max_features=4, rf__min_samples_leaf=2; total time=   6.8s\n",
      "[CV] END .........rf__max_features=4, rf__min_samples_leaf=2; total time=   8.1s\n",
      "[CV] END .........rf__max_features=4, rf__min_samples_leaf=2; total time=   9.5s\n",
      "[CV] END .........rf__max_features=4, rf__min_samples_leaf=4; total time=   7.2s\n",
      "[CV] END .........rf__max_features=4, rf__min_samples_leaf=4; total time=   7.5s\n",
      "[CV] END .........rf__max_features=4, rf__min_samples_leaf=4; total time=   7.1s\n",
      "[CV] END .........rf__max_features=4, rf__min_samples_leaf=4; total time=   6.5s\n",
      "[CV] END .........rf__max_features=4, rf__min_samples_leaf=4; total time=   6.4s\n",
      "[CV] END .........rf__max_features=4, rf__min_samples_leaf=4; total time=   6.1s\n",
      "[CV] END .........rf__max_features=4, rf__min_samples_leaf=4; total time=   7.0s\n",
      "[CV] END .........rf__max_features=4, rf__min_samples_leaf=4; total time=   7.4s\n",
      "[CV] END .........rf__max_features=4, rf__min_samples_leaf=4; total time=   7.1s\n",
      "[CV] END .........rf__max_features=4, rf__min_samples_leaf=4; total time=   7.2s\n",
      "[CV] END .........rf__max_features=4, rf__min_samples_leaf=8; total time=   5.4s\n",
      "[CV] END .........rf__max_features=4, rf__min_samples_leaf=8; total time=   5.1s\n",
      "[CV] END .........rf__max_features=4, rf__min_samples_leaf=8; total time=   6.7s\n",
      "[CV] END .........rf__max_features=4, rf__min_samples_leaf=8; total time=   7.9s\n",
      "[CV] END .........rf__max_features=4, rf__min_samples_leaf=8; total time=   5.9s\n",
      "[CV] END .........rf__max_features=4, rf__min_samples_leaf=8; total time=   5.3s\n",
      "[CV] END .........rf__max_features=4, rf__min_samples_leaf=8; total time=   5.5s\n",
      "[CV] END .........rf__max_features=4, rf__min_samples_leaf=8; total time=   7.7s\n",
      "[CV] END .........rf__max_features=4, rf__min_samples_leaf=8; total time=   9.4s\n",
      "[CV] END .........rf__max_features=4, rf__min_samples_leaf=8; total time=   7.7s\n",
      "[CV] END ........rf__max_features=4, rf__min_samples_leaf=16; total time=   4.4s\n",
      "[CV] END ........rf__max_features=4, rf__min_samples_leaf=16; total time=   5.2s\n",
      "[CV] END ........rf__max_features=4, rf__min_samples_leaf=16; total time=   4.6s\n",
      "[CV] END ........rf__max_features=4, rf__min_samples_leaf=16; total time=   4.3s\n",
      "[CV] END ........rf__max_features=4, rf__min_samples_leaf=16; total time=   4.6s\n",
      "[CV] END ........rf__max_features=4, rf__min_samples_leaf=16; total time=   5.0s\n",
      "[CV] END ........rf__max_features=4, rf__min_samples_leaf=16; total time=   4.8s\n",
      "[CV] END ........rf__max_features=4, rf__min_samples_leaf=16; total time=   3.8s\n",
      "[CV] END ........rf__max_features=4, rf__min_samples_leaf=16; total time=   3.9s\n",
      "[CV] END ........rf__max_features=4, rf__min_samples_leaf=16; total time=   3.9s\n",
      "[CV] END .........rf__max_features=5, rf__min_samples_leaf=1; total time=   9.2s\n",
      "[CV] END .........rf__max_features=5, rf__min_samples_leaf=1; total time=  11.4s\n",
      "[CV] END .........rf__max_features=5, rf__min_samples_leaf=1; total time=  11.5s\n",
      "[CV] END .........rf__max_features=5, rf__min_samples_leaf=1; total time=  12.0s\n",
      "[CV] END .........rf__max_features=5, rf__min_samples_leaf=1; total time=  10.8s\n",
      "[CV] END .........rf__max_features=5, rf__min_samples_leaf=1; total time=  11.6s\n",
      "[CV] END .........rf__max_features=5, rf__min_samples_leaf=1; total time=  10.2s\n",
      "[CV] END .........rf__max_features=5, rf__min_samples_leaf=1; total time=   9.3s\n",
      "[CV] END .........rf__max_features=5, rf__min_samples_leaf=1; total time=   9.5s\n",
      "[CV] END .........rf__max_features=5, rf__min_samples_leaf=1; total time=   9.4s\n",
      "[CV] END .........rf__max_features=5, rf__min_samples_leaf=2; total time=   8.1s\n",
      "[CV] END .........rf__max_features=5, rf__min_samples_leaf=2; total time=   8.0s\n",
      "[CV] END .........rf__max_features=5, rf__min_samples_leaf=2; total time=   8.1s\n",
      "[CV] END .........rf__max_features=5, rf__min_samples_leaf=2; total time=   7.9s\n",
      "[CV] END .........rf__max_features=5, rf__min_samples_leaf=2; total time=   8.1s\n",
      "[CV] END .........rf__max_features=5, rf__min_samples_leaf=2; total time=   8.2s\n",
      "[CV] END .........rf__max_features=5, rf__min_samples_leaf=2; total time=   8.3s\n",
      "[CV] END .........rf__max_features=5, rf__min_samples_leaf=2; total time=  10.6s\n",
      "[CV] END .........rf__max_features=5, rf__min_samples_leaf=2; total time=   9.8s\n",
      "[CV] END .........rf__max_features=5, rf__min_samples_leaf=2; total time=   8.9s\n",
      "[CV] END .........rf__max_features=5, rf__min_samples_leaf=4; total time=   8.2s\n",
      "[CV] END .........rf__max_features=5, rf__min_samples_leaf=4; total time=   7.9s\n",
      "[CV] END .........rf__max_features=5, rf__min_samples_leaf=4; total time=   7.9s\n",
      "[CV] END .........rf__max_features=5, rf__min_samples_leaf=4; total time=   7.4s\n",
      "[CV] END .........rf__max_features=5, rf__min_samples_leaf=4; total time=   7.2s\n",
      "[CV] END .........rf__max_features=5, rf__min_samples_leaf=4; total time=   9.1s\n",
      "[CV] END .........rf__max_features=5, rf__min_samples_leaf=4; total time=   8.1s\n",
      "[CV] END .........rf__max_features=5, rf__min_samples_leaf=4; total time=   7.6s\n",
      "[CV] END .........rf__max_features=5, rf__min_samples_leaf=4; total time=   7.7s\n",
      "[CV] END .........rf__max_features=5, rf__min_samples_leaf=4; total time=   7.7s\n",
      "[CV] END .........rf__max_features=5, rf__min_samples_leaf=8; total time=   6.2s\n",
      "[CV] END .........rf__max_features=5, rf__min_samples_leaf=8; total time=   6.1s\n",
      "[CV] END .........rf__max_features=5, rf__min_samples_leaf=8; total time=   6.8s\n",
      "[CV] END .........rf__max_features=5, rf__min_samples_leaf=8; total time=   7.0s\n",
      "[CV] END .........rf__max_features=5, rf__min_samples_leaf=8; total time=   7.2s\n",
      "[CV] END .........rf__max_features=5, rf__min_samples_leaf=8; total time=   6.9s\n",
      "[CV] END .........rf__max_features=5, rf__min_samples_leaf=8; total time=   6.8s\n",
      "[CV] END .........rf__max_features=5, rf__min_samples_leaf=8; total time=   7.5s\n",
      "[CV] END .........rf__max_features=5, rf__min_samples_leaf=8; total time=   6.6s\n",
      "[CV] END .........rf__max_features=5, rf__min_samples_leaf=8; total time=   6.4s\n",
      "[CV] END ........rf__max_features=5, rf__min_samples_leaf=16; total time=   5.3s\n",
      "[CV] END ........rf__max_features=5, rf__min_samples_leaf=16; total time=   5.1s\n",
      "[CV] END ........rf__max_features=5, rf__min_samples_leaf=16; total time=   5.6s\n",
      "[CV] END ........rf__max_features=5, rf__min_samples_leaf=16; total time=   5.6s\n",
      "[CV] END ........rf__max_features=5, rf__min_samples_leaf=16; total time=   5.2s\n",
      "[CV] END ........rf__max_features=5, rf__min_samples_leaf=16; total time=   6.8s\n",
      "[CV] END ........rf__max_features=5, rf__min_samples_leaf=16; total time=   6.4s\n",
      "[CV] END ........rf__max_features=5, rf__min_samples_leaf=16; total time=   5.6s\n",
      "[CV] END ........rf__max_features=5, rf__min_samples_leaf=16; total time=   5.4s\n",
      "[CV] END ........rf__max_features=5, rf__min_samples_leaf=16; total time=   6.4s\n",
      "[CV] END .........rf__max_features=8, rf__min_samples_leaf=1; total time=  18.0s\n"
     ]
    },
    {
     "name": "stdout",
     "output_type": "stream",
     "text": [
      "[CV] END .........rf__max_features=8, rf__min_samples_leaf=1; total time=  16.9s\n",
      "[CV] END .........rf__max_features=8, rf__min_samples_leaf=1; total time=  17.1s\n",
      "[CV] END .........rf__max_features=8, rf__min_samples_leaf=1; total time=  19.6s\n",
      "[CV] END .........rf__max_features=8, rf__min_samples_leaf=1; total time=  16.2s\n",
      "[CV] END .........rf__max_features=8, rf__min_samples_leaf=1; total time=  15.6s\n",
      "[CV] END .........rf__max_features=8, rf__min_samples_leaf=1; total time=  18.5s\n",
      "[CV] END .........rf__max_features=8, rf__min_samples_leaf=1; total time=  17.2s\n",
      "[CV] END .........rf__max_features=8, rf__min_samples_leaf=1; total time=  19.1s\n",
      "[CV] END .........rf__max_features=8, rf__min_samples_leaf=1; total time=  19.7s\n",
      "[CV] END .........rf__max_features=8, rf__min_samples_leaf=2; total time=  13.5s\n",
      "[CV] END .........rf__max_features=8, rf__min_samples_leaf=2; total time=  13.9s\n",
      "[CV] END .........rf__max_features=8, rf__min_samples_leaf=2; total time=  15.0s\n",
      "[CV] END .........rf__max_features=8, rf__min_samples_leaf=2; total time=  13.5s\n",
      "[CV] END .........rf__max_features=8, rf__min_samples_leaf=2; total time=  14.2s\n",
      "[CV] END .........rf__max_features=8, rf__min_samples_leaf=2; total time=  14.9s\n",
      "[CV] END .........rf__max_features=8, rf__min_samples_leaf=2; total time=  15.9s\n",
      "[CV] END .........rf__max_features=8, rf__min_samples_leaf=2; total time=  16.3s\n",
      "[CV] END .........rf__max_features=8, rf__min_samples_leaf=2; total time=  16.3s\n",
      "[CV] END .........rf__max_features=8, rf__min_samples_leaf=2; total time=  13.1s\n",
      "[CV] END .........rf__max_features=8, rf__min_samples_leaf=4; total time=  11.4s\n",
      "[CV] END .........rf__max_features=8, rf__min_samples_leaf=4; total time=  11.6s\n",
      "[CV] END .........rf__max_features=8, rf__min_samples_leaf=4; total time=  11.9s\n",
      "[CV] END .........rf__max_features=8, rf__min_samples_leaf=4; total time=  11.4s\n",
      "[CV] END .........rf__max_features=8, rf__min_samples_leaf=4; total time=  12.3s\n",
      "[CV] END .........rf__max_features=8, rf__min_samples_leaf=4; total time=  13.3s\n",
      "[CV] END .........rf__max_features=8, rf__min_samples_leaf=4; total time=  13.0s\n",
      "[CV] END .........rf__max_features=8, rf__min_samples_leaf=4; total time=  12.1s\n",
      "[CV] END .........rf__max_features=8, rf__min_samples_leaf=4; total time=  13.8s\n",
      "[CV] END .........rf__max_features=8, rf__min_samples_leaf=4; total time=  12.7s\n",
      "[CV] END .........rf__max_features=8, rf__min_samples_leaf=8; total time=   9.8s\n",
      "[CV] END .........rf__max_features=8, rf__min_samples_leaf=8; total time=   9.5s\n",
      "[CV] END .........rf__max_features=8, rf__min_samples_leaf=8; total time=  10.0s\n",
      "[CV] END .........rf__max_features=8, rf__min_samples_leaf=8; total time=  10.7s\n",
      "[CV] END .........rf__max_features=8, rf__min_samples_leaf=8; total time=  10.4s\n",
      "[CV] END .........rf__max_features=8, rf__min_samples_leaf=8; total time=  10.6s\n",
      "[CV] END .........rf__max_features=8, rf__min_samples_leaf=8; total time=  10.2s\n",
      "[CV] END .........rf__max_features=8, rf__min_samples_leaf=8; total time=  10.3s\n",
      "[CV] END .........rf__max_features=8, rf__min_samples_leaf=8; total time=  10.2s\n",
      "[CV] END .........rf__max_features=8, rf__min_samples_leaf=8; total time=  10.5s\n",
      "[CV] END ........rf__max_features=8, rf__min_samples_leaf=16; total time=   8.7s\n",
      "[CV] END ........rf__max_features=8, rf__min_samples_leaf=16; total time=   9.9s\n",
      "[CV] END ........rf__max_features=8, rf__min_samples_leaf=16; total time=   9.2s\n",
      "[CV] END ........rf__max_features=8, rf__min_samples_leaf=16; total time=   8.5s\n",
      "[CV] END ........rf__max_features=8, rf__min_samples_leaf=16; total time=   7.7s\n",
      "[CV] END ........rf__max_features=8, rf__min_samples_leaf=16; total time=   8.9s\n",
      "[CV] END ........rf__max_features=8, rf__min_samples_leaf=16; total time=   8.5s\n",
      "[CV] END ........rf__max_features=8, rf__min_samples_leaf=16; total time=   8.1s\n",
      "[CV] END ........rf__max_features=8, rf__min_samples_leaf=16; total time=   7.9s\n",
      "[CV] END ........rf__max_features=8, rf__min_samples_leaf=16; total time=   8.6s\n",
      "[CV] END ........rf__max_features=12, rf__min_samples_leaf=1; total time=  24.8s\n",
      "[CV] END ........rf__max_features=12, rf__min_samples_leaf=1; total time=  25.6s\n",
      "[CV] END ........rf__max_features=12, rf__min_samples_leaf=1; total time=  27.8s\n",
      "[CV] END ........rf__max_features=12, rf__min_samples_leaf=1; total time=  25.3s\n",
      "[CV] END ........rf__max_features=12, rf__min_samples_leaf=1; total time=  22.2s\n",
      "[CV] END ........rf__max_features=12, rf__min_samples_leaf=1; total time=  22.8s\n",
      "[CV] END ........rf__max_features=12, rf__min_samples_leaf=1; total time=  23.0s\n",
      "[CV] END ........rf__max_features=12, rf__min_samples_leaf=1; total time=  25.0s\n",
      "[CV] END ........rf__max_features=12, rf__min_samples_leaf=1; total time=  25.2s\n",
      "[CV] END ........rf__max_features=12, rf__min_samples_leaf=1; total time=  24.1s\n",
      "[CV] END ........rf__max_features=12, rf__min_samples_leaf=2; total time=  20.6s\n",
      "[CV] END ........rf__max_features=12, rf__min_samples_leaf=2; total time=  21.1s\n",
      "[CV] END ........rf__max_features=12, rf__min_samples_leaf=2; total time=  22.2s\n",
      "[CV] END ........rf__max_features=12, rf__min_samples_leaf=2; total time=  22.0s\n",
      "[CV] END ........rf__max_features=12, rf__min_samples_leaf=2; total time=  21.0s\n",
      "[CV] END ........rf__max_features=12, rf__min_samples_leaf=2; total time=  21.2s\n",
      "[CV] END ........rf__max_features=12, rf__min_samples_leaf=2; total time=  21.0s\n",
      "[CV] END ........rf__max_features=12, rf__min_samples_leaf=2; total time=  23.2s\n",
      "[CV] END ........rf__max_features=12, rf__min_samples_leaf=2; total time=  21.8s\n",
      "[CV] END ........rf__max_features=12, rf__min_samples_leaf=2; total time=  20.2s\n",
      "[CV] END ........rf__max_features=12, rf__min_samples_leaf=4; total time=  17.3s\n",
      "[CV] END ........rf__max_features=12, rf__min_samples_leaf=4; total time=  17.1s\n",
      "[CV] END ........rf__max_features=12, rf__min_samples_leaf=4; total time=  18.6s\n",
      "[CV] END ........rf__max_features=12, rf__min_samples_leaf=4; total time=  17.4s\n",
      "[CV] END ........rf__max_features=12, rf__min_samples_leaf=4; total time=  19.5s\n",
      "[CV] END ........rf__max_features=12, rf__min_samples_leaf=4; total time=  18.2s\n",
      "[CV] END ........rf__max_features=12, rf__min_samples_leaf=4; total time=  21.0s\n",
      "[CV] END ........rf__max_features=12, rf__min_samples_leaf=4; total time=  18.1s\n",
      "[CV] END ........rf__max_features=12, rf__min_samples_leaf=4; total time=  21.6s\n",
      "[CV] END ........rf__max_features=12, rf__min_samples_leaf=4; total time=  19.5s\n",
      "[CV] END ........rf__max_features=12, rf__min_samples_leaf=8; total time=  15.4s\n",
      "[CV] END ........rf__max_features=12, rf__min_samples_leaf=8; total time=  15.9s\n",
      "[CV] END ........rf__max_features=12, rf__min_samples_leaf=8; total time=  17.8s\n",
      "[CV] END ........rf__max_features=12, rf__min_samples_leaf=8; total time=  17.3s\n",
      "[CV] END ........rf__max_features=12, rf__min_samples_leaf=8; total time=  15.0s\n",
      "[CV] END ........rf__max_features=12, rf__min_samples_leaf=8; total time=  15.0s\n",
      "[CV] END ........rf__max_features=12, rf__min_samples_leaf=8; total time=  17.4s\n",
      "[CV] END ........rf__max_features=12, rf__min_samples_leaf=8; total time=  15.8s\n",
      "[CV] END ........rf__max_features=12, rf__min_samples_leaf=8; total time=  16.1s\n",
      "[CV] END ........rf__max_features=12, rf__min_samples_leaf=8; total time=  15.2s\n",
      "[CV] END .......rf__max_features=12, rf__min_samples_leaf=16; total time=  12.6s\n",
      "[CV] END .......rf__max_features=12, rf__min_samples_leaf=16; total time=  12.3s\n",
      "[CV] END .......rf__max_features=12, rf__min_samples_leaf=16; total time=  12.5s\n",
      "[CV] END .......rf__max_features=12, rf__min_samples_leaf=16; total time=  12.1s\n",
      "[CV] END .......rf__max_features=12, rf__min_samples_leaf=16; total time=  13.9s\n",
      "[CV] END .......rf__max_features=12, rf__min_samples_leaf=16; total time=  12.9s\n",
      "[CV] END .......rf__max_features=12, rf__min_samples_leaf=16; total time=  14.0s\n",
      "[CV] END .......rf__max_features=12, rf__min_samples_leaf=16; total time=  12.6s\n",
      "[CV] END .......rf__max_features=12, rf__min_samples_leaf=16; total time=  14.2s\n",
      "[CV] END .......rf__max_features=12, rf__min_samples_leaf=16; total time=  13.9s\n",
      "[CV] END ........rf__max_features=16, rf__min_samples_leaf=1; total time=  39.4s\n",
      "[CV] END ........rf__max_features=16, rf__min_samples_leaf=1; total time=  37.8s\n",
      "[CV] END ........rf__max_features=16, rf__min_samples_leaf=1; total time=  37.9s\n"
     ]
    },
    {
     "name": "stdout",
     "output_type": "stream",
     "text": [
      "[CV] END ........rf__max_features=16, rf__min_samples_leaf=1; total time=  33.4s\n",
      "[CV] END ........rf__max_features=16, rf__min_samples_leaf=1; total time=  33.3s\n",
      "[CV] END ........rf__max_features=16, rf__min_samples_leaf=1; total time=  41.8s\n",
      "[CV] END ........rf__max_features=16, rf__min_samples_leaf=1; total time=  39.2s\n",
      "[CV] END ........rf__max_features=16, rf__min_samples_leaf=1; total time=  40.8s\n",
      "[CV] END ........rf__max_features=16, rf__min_samples_leaf=1; total time=  34.7s\n",
      "[CV] END ........rf__max_features=16, rf__min_samples_leaf=1; total time=  36.3s\n",
      "[CV] END ........rf__max_features=16, rf__min_samples_leaf=2; total time=  32.5s\n",
      "[CV] END ........rf__max_features=16, rf__min_samples_leaf=2; total time=  34.3s\n",
      "[CV] END ........rf__max_features=16, rf__min_samples_leaf=2; total time=  30.3s\n",
      "[CV] END ........rf__max_features=16, rf__min_samples_leaf=2; total time=  29.0s\n",
      "[CV] END ........rf__max_features=16, rf__min_samples_leaf=2; total time=  29.5s\n",
      "[CV] END ........rf__max_features=16, rf__min_samples_leaf=2; total time=  28.5s\n",
      "[CV] END ........rf__max_features=16, rf__min_samples_leaf=2; total time=  27.8s\n",
      "[CV] END ........rf__max_features=16, rf__min_samples_leaf=2; total time=  31.3s\n",
      "[CV] END ........rf__max_features=16, rf__min_samples_leaf=2; total time=  45.0s\n",
      "[CV] END ........rf__max_features=16, rf__min_samples_leaf=2; total time=  39.8s\n",
      "[CV] END ........rf__max_features=16, rf__min_samples_leaf=4; total time=  29.9s\n",
      "[CV] END ........rf__max_features=16, rf__min_samples_leaf=4; total time=  32.0s\n",
      "[CV] END ........rf__max_features=16, rf__min_samples_leaf=4; total time=  29.8s\n",
      "[CV] END ........rf__max_features=16, rf__min_samples_leaf=4; total time=  34.9s\n",
      "[CV] END ........rf__max_features=16, rf__min_samples_leaf=4; total time=  28.9s\n",
      "[CV] END ........rf__max_features=16, rf__min_samples_leaf=4; total time=  25.5s\n",
      "[CV] END ........rf__max_features=16, rf__min_samples_leaf=4; total time=  25.4s\n",
      "[CV] END ........rf__max_features=16, rf__min_samples_leaf=4; total time=  22.6s\n",
      "[CV] END ........rf__max_features=16, rf__min_samples_leaf=4; total time=  22.7s\n",
      "[CV] END ........rf__max_features=16, rf__min_samples_leaf=4; total time=  22.0s\n",
      "[CV] END ........rf__max_features=16, rf__min_samples_leaf=8; total time=  18.5s\n",
      "[CV] END ........rf__max_features=16, rf__min_samples_leaf=8; total time=  18.9s\n",
      "[CV] END ........rf__max_features=16, rf__min_samples_leaf=8; total time=  18.9s\n",
      "[CV] END ........rf__max_features=16, rf__min_samples_leaf=8; total time=  18.6s\n",
      "[CV] END ........rf__max_features=16, rf__min_samples_leaf=8; total time=  18.4s\n",
      "[CV] END ........rf__max_features=16, rf__min_samples_leaf=8; total time=  18.5s\n",
      "[CV] END ........rf__max_features=16, rf__min_samples_leaf=8; total time=  18.5s\n",
      "[CV] END ........rf__max_features=16, rf__min_samples_leaf=8; total time=  18.4s\n",
      "[CV] END ........rf__max_features=16, rf__min_samples_leaf=8; total time=  18.7s\n",
      "[CV] END ........rf__max_features=16, rf__min_samples_leaf=8; total time=  18.5s\n",
      "[CV] END .......rf__max_features=16, rf__min_samples_leaf=16; total time=  16.4s\n",
      "[CV] END .......rf__max_features=16, rf__min_samples_leaf=16; total time=  18.3s\n",
      "[CV] END .......rf__max_features=16, rf__min_samples_leaf=16; total time=  17.3s\n",
      "[CV] END .......rf__max_features=16, rf__min_samples_leaf=16; total time=  20.4s\n",
      "[CV] END .......rf__max_features=16, rf__min_samples_leaf=16; total time=  20.0s\n",
      "[CV] END .......rf__max_features=16, rf__min_samples_leaf=16; total time=  16.2s\n",
      "[CV] END .......rf__max_features=16, rf__min_samples_leaf=16; total time=  19.0s\n",
      "[CV] END .......rf__max_features=16, rf__min_samples_leaf=16; total time=  21.8s\n",
      "[CV] END .......rf__max_features=16, rf__min_samples_leaf=16; total time=  16.4s\n",
      "[CV] END .......rf__max_features=16, rf__min_samples_leaf=16; total time=  22.4s\n"
     ]
    },
    {
     "data": {
      "text/plain": [
       "Pipeline(steps=[('rf',\n",
       "                 RandomForestRegressor(criterion='poisson', max_features=16,\n",
       "                                       min_samples_leaf=16, n_estimators=200,\n",
       "                                       n_jobs=-1, random_state=12))])"
      ]
     },
     "execution_count": 34,
     "metadata": {},
     "output_type": "execute_result"
    }
   ],
   "source": [
    "max_features = np.unique(np.array([n,3*n/4,n/2,n/3,n/4,np.sqrt(n)])\\\n",
    "                                  .round()\\\n",
    "                                  .astype(int))\n",
    "min_samples_leaf = 2**np.arange(5)\n",
    "\n",
    "parameters = {'rf__max_features':max_features,\n",
    "              'rf__min_samples_leaf':min_samples_leaf\n",
    "             }\n",
    "\n",
    "\n",
    "\n",
    "pipe_rf_poi = Pipeline([('rf', RandomForestRegressor(n_estimators=200,\n",
    "                                                n_jobs=-1,\n",
    "                                                random_state = 12,\n",
    "                                                criterion = 'poisson'\n",
    "                                             )\n",
    "                 )\n",
    "                ])\n",
    "\n",
    "parameters = {'rf__max_features':max_features,\n",
    "              'rf__min_samples_leaf':min_samples_leaf\n",
    "             }\n",
    "\n",
    "gcv_rf_poi = GridSearchCV(pipe_rf_poi,parameters,cv=10,scoring='neg_mean_absolute_error',verbose=2)\n",
    "gcv_rf_poi.fit(X_train,y_train)\n",
    "best_pipe_rf_poi = gcv_rf_poi.best_estimator_\n",
    "best_pipe_rf_poi.fit(X_train,y_train)\n",
    "\n"
   ]
  },
  {
   "cell_type": "code",
   "execution_count": 35,
   "id": "30b01bef",
   "metadata": {},
   "outputs": [],
   "source": [
    "best_model_rf_poi = best_pipe_rf_poi['rf']"
   ]
  },
  {
   "cell_type": "code",
   "execution_count": 36,
   "id": "a37e407d",
   "metadata": {},
   "outputs": [
    {
     "data": {
      "text/plain": [
       "(-14.715674201832849,\n",
       " RandomForestRegressor(criterion='poisson', max_features=16, min_samples_leaf=16,\n",
       "                       n_estimators=200, n_jobs=-1, random_state=12))"
      ]
     },
     "execution_count": 36,
     "metadata": {},
     "output_type": "execute_result"
    }
   ],
   "source": [
    "gcv_rf_poi.best_score_,best_model_rf_poi"
   ]
  },
  {
   "cell_type": "code",
   "execution_count": 37,
   "id": "8918a82a",
   "metadata": {},
   "outputs": [],
   "source": [
    "y_pred_rf_poi = best_pipe_rf_poi.predict(X_test)"
   ]
  },
  {
   "cell_type": "code",
   "execution_count": 38,
   "id": "7bed4eff",
   "metadata": {},
   "outputs": [
    {
     "data": {
      "image/png": "[encoded data removed]",
      "text/plain": [
       "<Figure size 432x288 with 1 Axes>"
      ]
     },
     "metadata": {
      "needs_background": "light"
     },
     "output_type": "display_data"
    }
   ],
   "source": [
    "feature_imp = pd.DataFrame({'importance':best_model_rf_poi.feature_importances_},index = X_train.columns)\n",
    "feature_imp = feature_imp.sort_values(by='importance',ascending=False)\n",
    "sns.barplot(data = feature_imp,\n",
    "            x = 'importance',\n",
    "            y = feature_imp.index)\n",
    "plt.show()"
   ]
  },
  {
   "cell_type": "code",
   "execution_count": 39,
   "id": "ffde5301",
   "metadata": {},
   "outputs": [
    {
     "name": "stderr",
     "output_type": "stream",
     "text": [
      "/opt/anaconda3/lib/python3.7/site-packages/seaborn/distributions.py:2551: FutureWarning: `distplot` is a deprecated function and will be removed in a future version. Please adapt your code to use either `displot` (a figure-level function with similar flexibility) or `histplot` (an axes-level function for histograms).\n",
      "  warnings.warn(msg, FutureWarning)\n",
      "/opt/anaconda3/lib/python3.7/site-packages/seaborn/distributions.py:2551: FutureWarning: `distplot` is a deprecated function and will be removed in a future version. Please adapt your code to use either `displot` (a figure-level function with similar flexibility) or `histplot` (an axes-level function for histograms).\n",
      "  warnings.warn(msg, FutureWarning)\n"
     ]
    },
    {
     "data": {
      "image/png": "[encoded data removed]",
      "text/plain": [
       "<Figure size 720x720 with 1 Axes>"
      ]
     },
     "metadata": {
      "needs_background": "light"
     },
     "output_type": "display_data"
    }
   ],
   "source": [
    "ax = plt.figure(figsize = (10,10))\n",
    "sns.distplot(x = y_test,bins = 30,label = 'y_test')\n",
    "sns.distplot(x = y_pred_rf_poi,bins = 30,label = 'y_pred')\n",
    "plt.legend()\n",
    "plt.show()"
   ]
  },
  {
   "cell_type": "markdown",
   "id": "1ed83378",
   "metadata": {},
   "source": [
    "## Loss = MAE"
   ]
  },
  {
   "cell_type": "code",
   "execution_count": 42,
   "id": "5d934b13",
   "metadata": {},
   "outputs": [],
   "source": [
    "pipe_rf_mae = Pipeline([('rf', RandomForestRegressor(n_estimators=200,\n",
    "                                                n_jobs=-1,\n",
    "                                                random_state = 12,\n",
    "                                                criterion = 'absolute_error'\n",
    "                                             )\n",
    "                 )\n",
    "                ])"
   ]
  },
  {
   "cell_type": "code",
   "execution_count": 43,
   "id": "32dfda98",
   "metadata": {},
   "outputs": [
    {
     "name": "stdout",
     "output_type": "stream",
     "text": [
      "Fitting 10 folds for each of 25 candidates, totalling 250 fits\n",
      "[CV] END .........rf__max_features=4, rf__min_samples_leaf=1; total time=  56.2s\n",
      "[CV] END .........rf__max_features=4, rf__min_samples_leaf=1; total time=  50.4s\n",
      "[CV] END .........rf__max_features=4, rf__min_samples_leaf=1; total time=  50.1s\n",
      "[CV] END .........rf__max_features=4, rf__min_samples_leaf=1; total time=  50.5s\n",
      "[CV] END .........rf__max_features=4, rf__min_samples_leaf=1; total time=  49.8s\n",
      "[CV] END .........rf__max_features=4, rf__min_samples_leaf=1; total time=  50.9s\n",
      "[CV] END .........rf__max_features=4, rf__min_samples_leaf=1; total time=  54.1s\n",
      "[CV] END .........rf__max_features=4, rf__min_samples_leaf=1; total time=  50.6s\n",
      "[CV] END .........rf__max_features=4, rf__min_samples_leaf=1; total time=  51.5s\n",
      "[CV] END .........rf__max_features=4, rf__min_samples_leaf=1; total time=  50.8s\n",
      "[CV] END .........rf__max_features=4, rf__min_samples_leaf=2; total time=  49.1s\n",
      "[CV] END .........rf__max_features=4, rf__min_samples_leaf=2; total time=  49.1s\n",
      "[CV] END .........rf__max_features=4, rf__min_samples_leaf=2; total time=  47.0s\n",
      "[CV] END .........rf__max_features=4, rf__min_samples_leaf=2; total time=  48.1s\n",
      "[CV] END .........rf__max_features=4, rf__min_samples_leaf=2; total time=  47.8s\n",
      "[CV] END .........rf__max_features=4, rf__min_samples_leaf=2; total time=  48.6s\n",
      "[CV] END .........rf__max_features=4, rf__min_samples_leaf=2; total time=  47.9s\n",
      "[CV] END .........rf__max_features=4, rf__min_samples_leaf=2; total time=  47.8s\n",
      "[CV] END .........rf__max_features=4, rf__min_samples_leaf=2; total time=  47.4s\n",
      "[CV] END .........rf__max_features=4, rf__min_samples_leaf=2; total time=  47.8s\n",
      "[CV] END .........rf__max_features=4, rf__min_samples_leaf=4; total time=  46.6s\n",
      "[CV] END .........rf__max_features=4, rf__min_samples_leaf=4; total time=  47.5s\n",
      "[CV] END .........rf__max_features=4, rf__min_samples_leaf=4; total time=  46.9s\n",
      "[CV] END .........rf__max_features=4, rf__min_samples_leaf=4; total time=  46.9s\n",
      "[CV] END .........rf__max_features=4, rf__min_samples_leaf=4; total time=  46.3s\n",
      "[CV] END .........rf__max_features=4, rf__min_samples_leaf=4; total time=  46.6s\n",
      "[CV] END .........rf__max_features=4, rf__min_samples_leaf=4; total time=  46.6s\n",
      "[CV] END .........rf__max_features=4, rf__min_samples_leaf=4; total time=  46.8s\n",
      "[CV] END .........rf__max_features=4, rf__min_samples_leaf=4; total time=  47.2s\n",
      "[CV] END .........rf__max_features=4, rf__min_samples_leaf=4; total time=  47.2s\n",
      "[CV] END .........rf__max_features=4, rf__min_samples_leaf=8; total time=  45.8s\n",
      "[CV] END .........rf__max_features=4, rf__min_samples_leaf=8; total time=  46.4s\n",
      "[CV] END .........rf__max_features=4, rf__min_samples_leaf=8; total time=  45.5s\n",
      "[CV] END .........rf__max_features=4, rf__min_samples_leaf=8; total time=  46.1s\n",
      "[CV] END .........rf__max_features=4, rf__min_samples_leaf=8; total time=  46.4s\n",
      "[CV] END .........rf__max_features=4, rf__min_samples_leaf=8; total time=  46.2s\n",
      "[CV] END .........rf__max_features=4, rf__min_samples_leaf=8; total time=  46.0s\n",
      "[CV] END .........rf__max_features=4, rf__min_samples_leaf=8; total time=  46.6s\n",
      "[CV] END .........rf__max_features=4, rf__min_samples_leaf=8; total time=  46.4s\n",
      "[CV] END .........rf__max_features=4, rf__min_samples_leaf=8; total time=  46.3s\n",
      "[CV] END ........rf__max_features=4, rf__min_samples_leaf=16; total time=  45.8s\n",
      "[CV] END ........rf__max_features=4, rf__min_samples_leaf=16; total time=  45.3s\n",
      "[CV] END ........rf__max_features=4, rf__min_samples_leaf=16; total time=  45.0s\n",
      "[CV] END ........rf__max_features=4, rf__min_samples_leaf=16; total time=  45.1s\n",
      "[CV] END ........rf__max_features=4, rf__min_samples_leaf=16; total time=  46.4s\n",
      "[CV] END ........rf__max_features=4, rf__min_samples_leaf=16; total time=  46.3s\n",
      "[CV] END ........rf__max_features=4, rf__min_samples_leaf=16; total time=  45.6s\n",
      "[CV] END ........rf__max_features=4, rf__min_samples_leaf=16; total time=  45.4s\n",
      "[CV] END ........rf__max_features=4, rf__min_samples_leaf=16; total time=  45.6s\n",
      "[CV] END ........rf__max_features=4, rf__min_samples_leaf=16; total time=  45.2s\n",
      "[CV] END .........rf__max_features=5, rf__min_samples_leaf=1; total time= 1.0min\n",
      "[CV] END .........rf__max_features=5, rf__min_samples_leaf=1; total time= 1.0min\n",
      "[CV] END .........rf__max_features=5, rf__min_samples_leaf=1; total time= 1.0min\n",
      "[CV] END .........rf__max_features=5, rf__min_samples_leaf=1; total time= 1.0min\n",
      "[CV] END .........rf__max_features=5, rf__min_samples_leaf=1; total time= 1.0min\n",
      "[CV] END .........rf__max_features=5, rf__min_samples_leaf=1; total time= 1.0min\n",
      "[CV] END .........rf__max_features=5, rf__min_samples_leaf=1; total time= 1.0min\n",
      "[CV] END .........rf__max_features=5, rf__min_samples_leaf=1; total time= 1.0min\n",
      "[CV] END .........rf__max_features=5, rf__min_samples_leaf=1; total time= 1.0min\n",
      "[CV] END .........rf__max_features=5, rf__min_samples_leaf=1; total time= 1.0min\n",
      "[CV] END .........rf__max_features=5, rf__min_samples_leaf=2; total time=  59.2s\n",
      "[CV] END .........rf__max_features=5, rf__min_samples_leaf=2; total time=  58.5s\n",
      "[CV] END .........rf__max_features=5, rf__min_samples_leaf=2; total time=  58.4s\n",
      "[CV] END .........rf__max_features=5, rf__min_samples_leaf=2; total time=  58.2s\n",
      "[CV] END .........rf__max_features=5, rf__min_samples_leaf=2; total time=  59.6s\n",
      "[CV] END .........rf__max_features=5, rf__min_samples_leaf=2; total time=  58.9s\n",
      "[CV] END .........rf__max_features=5, rf__min_samples_leaf=2; total time=  58.6s\n",
      "[CV] END .........rf__max_features=5, rf__min_samples_leaf=2; total time=  59.1s\n",
      "[CV] END .........rf__max_features=5, rf__min_samples_leaf=2; total time=  58.4s\n",
      "[CV] END .........rf__max_features=5, rf__min_samples_leaf=2; total time=  58.9s\n",
      "[CV] END .........rf__max_features=5, rf__min_samples_leaf=4; total time=  57.5s\n",
      "[CV] END .........rf__max_features=5, rf__min_samples_leaf=4; total time=  57.1s\n",
      "[CV] END .........rf__max_features=5, rf__min_samples_leaf=4; total time=  56.9s\n",
      "[CV] END .........rf__max_features=5, rf__min_samples_leaf=4; total time=  57.3s\n",
      "[CV] END .........rf__max_features=5, rf__min_samples_leaf=4; total time=  57.7s\n",
      "[CV] END .........rf__max_features=5, rf__min_samples_leaf=4; total time=  57.7s\n",
      "[CV] END .........rf__max_features=5, rf__min_samples_leaf=4; total time=  59.7s\n",
      "[CV] END .........rf__max_features=5, rf__min_samples_leaf=4; total time=  57.4s\n",
      "[CV] END .........rf__max_features=5, rf__min_samples_leaf=4; total time=  57.5s\n",
      "[CV] END .........rf__max_features=5, rf__min_samples_leaf=4; total time=  57.6s\n",
      "[CV] END .........rf__max_features=5, rf__min_samples_leaf=8; total time=  56.1s\n",
      "[CV] END .........rf__max_features=5, rf__min_samples_leaf=8; total time=  56.5s\n",
      "[CV] END .........rf__max_features=5, rf__min_samples_leaf=8; total time=  56.5s\n",
      "[CV] END .........rf__max_features=5, rf__min_samples_leaf=8; total time=  56.5s\n",
      "[CV] END .........rf__max_features=5, rf__min_samples_leaf=8; total time=  56.9s\n",
      "[CV] END .........rf__max_features=5, rf__min_samples_leaf=8; total time=  57.4s\n",
      "[CV] END .........rf__max_features=5, rf__min_samples_leaf=8; total time=  56.9s\n",
      "[CV] END .........rf__max_features=5, rf__min_samples_leaf=8; total time=  56.3s\n",
      "[CV] END .........rf__max_features=5, rf__min_samples_leaf=8; total time=  57.0s\n",
      "[CV] END .........rf__max_features=5, rf__min_samples_leaf=8; total time=  57.3s\n",
      "[CV] END ........rf__max_features=5, rf__min_samples_leaf=16; total time=  55.5s\n",
      "[CV] END ........rf__max_features=5, rf__min_samples_leaf=16; total time=  56.0s\n",
      "[CV] END ........rf__max_features=5, rf__min_samples_leaf=16; total time=  55.2s\n",
      "[CV] END ........rf__max_features=5, rf__min_samples_leaf=16; total time=  55.6s\n",
      "[CV] END ........rf__max_features=5, rf__min_samples_leaf=16; total time=  56.3s\n",
      "[CV] END ........rf__max_features=5, rf__min_samples_leaf=16; total time=  56.1s\n",
      "[CV] END ........rf__max_features=5, rf__min_samples_leaf=16; total time=  55.7s\n",
      "[CV] END ........rf__max_features=5, rf__min_samples_leaf=16; total time=  55.8s\n",
      "[CV] END ........rf__max_features=5, rf__min_samples_leaf=16; total time=  55.5s\n",
      "[CV] END ........rf__max_features=5, rf__min_samples_leaf=16; total time=  55.7s\n",
      "[CV] END .........rf__max_features=8, rf__min_samples_leaf=1; total time= 1.6min\n"
     ]
    },
    {
     "name": "stdout",
     "output_type": "stream",
     "text": [
      "[CV] END .........rf__max_features=8, rf__min_samples_leaf=1; total time= 1.6min\n",
      "[CV] END .........rf__max_features=8, rf__min_samples_leaf=1; total time= 1.5min\n",
      "[CV] END .........rf__max_features=8, rf__min_samples_leaf=1; total time= 1.6min\n",
      "[CV] END .........rf__max_features=8, rf__min_samples_leaf=1; total time= 1.5min\n",
      "[CV] END .........rf__max_features=8, rf__min_samples_leaf=1; total time= 1.6min\n",
      "[CV] END .........rf__max_features=8, rf__min_samples_leaf=1; total time= 1.8min\n",
      "[CV] END .........rf__max_features=8, rf__min_samples_leaf=1; total time= 1.6min\n",
      "[CV] END .........rf__max_features=8, rf__min_samples_leaf=1; total time= 1.5min\n",
      "[CV] END .........rf__max_features=8, rf__min_samples_leaf=1; total time= 1.6min\n",
      "[CV] END .........rf__max_features=8, rf__min_samples_leaf=2; total time= 1.5min\n",
      "[CV] END .........rf__max_features=8, rf__min_samples_leaf=2; total time= 1.5min\n",
      "[CV] END .........rf__max_features=8, rf__min_samples_leaf=2; total time= 1.5min\n",
      "[CV] END .........rf__max_features=8, rf__min_samples_leaf=2; total time= 1.5min\n",
      "[CV] END .........rf__max_features=8, rf__min_samples_leaf=2; total time= 1.5min\n",
      "[CV] END .........rf__max_features=8, rf__min_samples_leaf=2; total time= 1.5min\n",
      "[CV] END .........rf__max_features=8, rf__min_samples_leaf=2; total time= 1.5min\n",
      "[CV] END .........rf__max_features=8, rf__min_samples_leaf=2; total time= 1.5min\n",
      "[CV] END .........rf__max_features=8, rf__min_samples_leaf=2; total time= 1.5min\n",
      "[CV] END .........rf__max_features=8, rf__min_samples_leaf=2; total time= 1.5min\n",
      "[CV] END .........rf__max_features=8, rf__min_samples_leaf=4; total time= 1.5min\n",
      "[CV] END .........rf__max_features=8, rf__min_samples_leaf=4; total time= 1.5min\n",
      "[CV] END .........rf__max_features=8, rf__min_samples_leaf=4; total time= 1.5min\n",
      "[CV] END .........rf__max_features=8, rf__min_samples_leaf=4; total time= 1.4min\n",
      "[CV] END .........rf__max_features=8, rf__min_samples_leaf=4; total time= 1.5min\n",
      "[CV] END .........rf__max_features=8, rf__min_samples_leaf=4; total time= 1.5min\n",
      "[CV] END .........rf__max_features=8, rf__min_samples_leaf=4; total time= 1.5min\n",
      "[CV] END .........rf__max_features=8, rf__min_samples_leaf=4; total time= 1.5min\n",
      "[CV] END .........rf__max_features=8, rf__min_samples_leaf=4; total time= 1.4min\n",
      "[CV] END .........rf__max_features=8, rf__min_samples_leaf=4; total time= 1.5min\n",
      "[CV] END .........rf__max_features=8, rf__min_samples_leaf=8; total time= 1.5min\n",
      "[CV] END .........rf__max_features=8, rf__min_samples_leaf=8; total time= 1.4min\n",
      "[CV] END .........rf__max_features=8, rf__min_samples_leaf=8; total time= 1.4min\n",
      "[CV] END .........rf__max_features=8, rf__min_samples_leaf=8; total time= 1.4min\n",
      "[CV] END .........rf__max_features=8, rf__min_samples_leaf=8; total time= 1.4min\n",
      "[CV] END .........rf__max_features=8, rf__min_samples_leaf=8; total time= 1.4min\n",
      "[CV] END .........rf__max_features=8, rf__min_samples_leaf=8; total time= 1.5min\n",
      "[CV] END .........rf__max_features=8, rf__min_samples_leaf=8; total time= 1.5min\n",
      "[CV] END .........rf__max_features=8, rf__min_samples_leaf=8; total time= 1.4min\n",
      "[CV] END .........rf__max_features=8, rf__min_samples_leaf=8; total time= 1.5min\n",
      "[CV] END ........rf__max_features=8, rf__min_samples_leaf=16; total time= 1.4min\n",
      "[CV] END ........rf__max_features=8, rf__min_samples_leaf=16; total time= 1.4min\n",
      "[CV] END ........rf__max_features=8, rf__min_samples_leaf=16; total time= 1.4min\n",
      "[CV] END ........rf__max_features=8, rf__min_samples_leaf=16; total time= 1.4min\n",
      "[CV] END ........rf__max_features=8, rf__min_samples_leaf=16; total time= 1.4min\n",
      "[CV] END ........rf__max_features=8, rf__min_samples_leaf=16; total time= 1.4min\n",
      "[CV] END ........rf__max_features=8, rf__min_samples_leaf=16; total time= 1.4min\n",
      "[CV] END ........rf__max_features=8, rf__min_samples_leaf=16; total time= 1.4min\n",
      "[CV] END ........rf__max_features=8, rf__min_samples_leaf=16; total time= 1.4min\n",
      "[CV] END ........rf__max_features=8, rf__min_samples_leaf=16; total time= 1.4min\n",
      "[CV] END ........rf__max_features=12, rf__min_samples_leaf=1; total time= 2.3min\n",
      "[CV] END ........rf__max_features=12, rf__min_samples_leaf=1; total time= 2.2min\n",
      "[CV] END ........rf__max_features=12, rf__min_samples_leaf=1; total time= 2.2min\n",
      "[CV] END ........rf__max_features=12, rf__min_samples_leaf=1; total time= 2.2min\n",
      "[CV] END ........rf__max_features=12, rf__min_samples_leaf=1; total time= 2.2min\n",
      "[CV] END ........rf__max_features=12, rf__min_samples_leaf=1; total time= 2.3min\n",
      "[CV] END ........rf__max_features=12, rf__min_samples_leaf=1; total time= 2.3min\n",
      "[CV] END ........rf__max_features=12, rf__min_samples_leaf=1; total time= 2.2min\n",
      "[CV] END ........rf__max_features=12, rf__min_samples_leaf=1; total time= 2.2min\n",
      "[CV] END ........rf__max_features=12, rf__min_samples_leaf=1; total time= 2.3min\n",
      "[CV] END ........rf__max_features=12, rf__min_samples_leaf=2; total time= 2.2min\n",
      "[CV] END ........rf__max_features=12, rf__min_samples_leaf=2; total time= 2.2min\n",
      "[CV] END ........rf__max_features=12, rf__min_samples_leaf=2; total time= 2.2min\n",
      "[CV] END ........rf__max_features=12, rf__min_samples_leaf=2; total time= 2.1min\n",
      "[CV] END ........rf__max_features=12, rf__min_samples_leaf=2; total time= 2.2min\n",
      "[CV] END ........rf__max_features=12, rf__min_samples_leaf=2; total time= 2.2min\n",
      "[CV] END ........rf__max_features=12, rf__min_samples_leaf=2; total time= 2.2min\n",
      "[CV] END ........rf__max_features=12, rf__min_samples_leaf=2; total time= 2.2min\n",
      "[CV] END ........rf__max_features=12, rf__min_samples_leaf=2; total time= 2.1min\n",
      "[CV] END ........rf__max_features=12, rf__min_samples_leaf=2; total time= 2.2min\n",
      "[CV] END ........rf__max_features=12, rf__min_samples_leaf=4; total time= 2.2min\n",
      "[CV] END ........rf__max_features=12, rf__min_samples_leaf=4; total time= 2.1min\n",
      "[CV] END ........rf__max_features=12, rf__min_samples_leaf=4; total time= 2.1min\n",
      "[CV] END ........rf__max_features=12, rf__min_samples_leaf=4; total time= 2.1min\n",
      "[CV] END ........rf__max_features=12, rf__min_samples_leaf=4; total time= 2.1min\n",
      "[CV] END ........rf__max_features=12, rf__min_samples_leaf=4; total time= 2.2min\n",
      "[CV] END ........rf__max_features=12, rf__min_samples_leaf=4; total time= 2.1min\n",
      "[CV] END ........rf__max_features=12, rf__min_samples_leaf=4; total time= 2.1min\n",
      "[CV] END ........rf__max_features=12, rf__min_samples_leaf=4; total time= 2.1min\n",
      "[CV] END ........rf__max_features=12, rf__min_samples_leaf=4; total time= 2.1min\n",
      "[CV] END ........rf__max_features=12, rf__min_samples_leaf=8; total time= 2.1min\n",
      "[CV] END ........rf__max_features=12, rf__min_samples_leaf=8; total time= 2.1min\n",
      "[CV] END ........rf__max_features=12, rf__min_samples_leaf=8; total time= 2.1min\n",
      "[CV] END ........rf__max_features=12, rf__min_samples_leaf=8; total time= 2.1min\n",
      "[CV] END ........rf__max_features=12, rf__min_samples_leaf=8; total time= 2.1min\n",
      "[CV] END ........rf__max_features=12, rf__min_samples_leaf=8; total time= 2.1min\n",
      "[CV] END ........rf__max_features=12, rf__min_samples_leaf=8; total time= 2.1min\n",
      "[CV] END ........rf__max_features=12, rf__min_samples_leaf=8; total time= 2.1min\n",
      "[CV] END ........rf__max_features=12, rf__min_samples_leaf=8; total time= 2.1min\n",
      "[CV] END ........rf__max_features=12, rf__min_samples_leaf=8; total time= 2.1min\n",
      "[CV] END .......rf__max_features=12, rf__min_samples_leaf=16; total time= 2.1min\n",
      "[CV] END .......rf__max_features=12, rf__min_samples_leaf=16; total time= 2.0min\n",
      "[CV] END .......rf__max_features=12, rf__min_samples_leaf=16; total time= 2.0min\n",
      "[CV] END .......rf__max_features=12, rf__min_samples_leaf=16; total time= 2.0min\n",
      "[CV] END .......rf__max_features=12, rf__min_samples_leaf=16; total time= 2.1min\n",
      "[CV] END .......rf__max_features=12, rf__min_samples_leaf=16; total time= 2.1min\n",
      "[CV] END .......rf__max_features=12, rf__min_samples_leaf=16; total time= 2.1min\n",
      "[CV] END .......rf__max_features=12, rf__min_samples_leaf=16; total time= 2.1min\n",
      "[CV] END .......rf__max_features=12, rf__min_samples_leaf=16; total time= 2.0min\n",
      "[CV] END .......rf__max_features=12, rf__min_samples_leaf=16; total time= 2.1min\n",
      "[CV] END ........rf__max_features=16, rf__min_samples_leaf=1; total time= 3.0min\n",
      "[CV] END ........rf__max_features=16, rf__min_samples_leaf=1; total time= 2.9min\n",
      "[CV] END ........rf__max_features=16, rf__min_samples_leaf=1; total time= 3.0min\n"
     ]
    },
    {
     "name": "stdout",
     "output_type": "stream",
     "text": [
      "[CV] END ........rf__max_features=16, rf__min_samples_leaf=1; total time= 3.0min\n",
      "[CV] END ........rf__max_features=16, rf__min_samples_leaf=1; total time= 3.0min\n",
      "[CV] END ........rf__max_features=16, rf__min_samples_leaf=1; total time= 3.0min\n",
      "[CV] END ........rf__max_features=16, rf__min_samples_leaf=1; total time= 3.0min\n",
      "[CV] END ........rf__max_features=16, rf__min_samples_leaf=1; total time= 3.0min\n",
      "[CV] END ........rf__max_features=16, rf__min_samples_leaf=1; total time= 3.0min\n",
      "[CV] END ........rf__max_features=16, rf__min_samples_leaf=1; total time= 3.0min\n",
      "[CV] END ........rf__max_features=16, rf__min_samples_leaf=2; total time= 2.9min\n",
      "[CV] END ........rf__max_features=16, rf__min_samples_leaf=2; total time= 2.9min\n",
      "[CV] END ........rf__max_features=16, rf__min_samples_leaf=2; total time= 2.9min\n",
      "[CV] END ........rf__max_features=16, rf__min_samples_leaf=2; total time= 2.8min\n",
      "[CV] END ........rf__max_features=16, rf__min_samples_leaf=2; total time= 2.8min\n",
      "[CV] END ........rf__max_features=16, rf__min_samples_leaf=2; total time= 2.9min\n",
      "[CV] END ........rf__max_features=16, rf__min_samples_leaf=2; total time= 2.9min\n",
      "[CV] END ........rf__max_features=16, rf__min_samples_leaf=2; total time= 2.9min\n",
      "[CV] END ........rf__max_features=16, rf__min_samples_leaf=2; total time= 2.9min\n",
      "[CV] END ........rf__max_features=16, rf__min_samples_leaf=2; total time= 2.9min\n",
      "[CV] END ........rf__max_features=16, rf__min_samples_leaf=4; total time= 2.8min\n",
      "[CV] END ........rf__max_features=16, rf__min_samples_leaf=4; total time= 2.8min\n",
      "[CV] END ........rf__max_features=16, rf__min_samples_leaf=4; total time= 2.7min\n",
      "[CV] END ........rf__max_features=16, rf__min_samples_leaf=4; total time= 2.8min\n",
      "[CV] END ........rf__max_features=16, rf__min_samples_leaf=4; total time= 2.8min\n",
      "[CV] END ........rf__max_features=16, rf__min_samples_leaf=4; total time= 2.8min\n",
      "[CV] END ........rf__max_features=16, rf__min_samples_leaf=4; total time= 2.8min\n",
      "[CV] END ........rf__max_features=16, rf__min_samples_leaf=4; total time= 2.8min\n",
      "[CV] END ........rf__max_features=16, rf__min_samples_leaf=4; total time= 2.8min\n",
      "[CV] END ........rf__max_features=16, rf__min_samples_leaf=4; total time= 2.8min\n",
      "[CV] END ........rf__max_features=16, rf__min_samples_leaf=8; total time= 2.7min\n",
      "[CV] END ........rf__max_features=16, rf__min_samples_leaf=8; total time= 2.7min\n",
      "[CV] END ........rf__max_features=16, rf__min_samples_leaf=8; total time= 2.7min\n",
      "[CV] END ........rf__max_features=16, rf__min_samples_leaf=8; total time= 2.7min\n",
      "[CV] END ........rf__max_features=16, rf__min_samples_leaf=8; total time= 2.7min\n",
      "[CV] END ........rf__max_features=16, rf__min_samples_leaf=8; total time= 2.7min\n",
      "[CV] END ........rf__max_features=16, rf__min_samples_leaf=8; total time= 2.7min\n",
      "[CV] END ........rf__max_features=16, rf__min_samples_leaf=8; total time= 2.7min\n",
      "[CV] END ........rf__max_features=16, rf__min_samples_leaf=8; total time= 2.7min\n",
      "[CV] END ........rf__max_features=16, rf__min_samples_leaf=8; total time= 2.8min\n",
      "[CV] END .......rf__max_features=16, rf__min_samples_leaf=16; total time= 2.7min\n",
      "[CV] END .......rf__max_features=16, rf__min_samples_leaf=16; total time= 2.7min\n",
      "[CV] END .......rf__max_features=16, rf__min_samples_leaf=16; total time= 2.7min\n",
      "[CV] END .......rf__max_features=16, rf__min_samples_leaf=16; total time= 2.7min\n",
      "[CV] END .......rf__max_features=16, rf__min_samples_leaf=16; total time= 2.7min\n",
      "[CV] END .......rf__max_features=16, rf__min_samples_leaf=16; total time= 2.7min\n",
      "[CV] END .......rf__max_features=16, rf__min_samples_leaf=16; total time= 2.7min\n",
      "[CV] END .......rf__max_features=16, rf__min_samples_leaf=16; total time= 2.7min\n",
      "[CV] END .......rf__max_features=16, rf__min_samples_leaf=16; total time= 2.6min\n",
      "[CV] END .......rf__max_features=16, rf__min_samples_leaf=16; total time= 2.7min\n"
     ]
    },
    {
     "data": {
      "text/plain": [
       "Pipeline(steps=[('rf',\n",
       "                 RandomForestRegressor(criterion='absolute_error',\n",
       "                                       max_features=16, min_samples_leaf=8,\n",
       "                                       n_estimators=200, n_jobs=-1,\n",
       "                                       random_state=12))])"
      ]
     },
     "execution_count": 43,
     "metadata": {},
     "output_type": "execute_result"
    }
   ],
   "source": [
    "max_features = np.unique(np.array([n,3*n/4,n/2,n/3,n/4,np.sqrt(n)])\\\n",
    "                                  .round()\\\n",
    "                                  .astype(int))\n",
    "min_samples_leaf = 2**np.arange(5)\n",
    "\n",
    "parameters = {'rf__max_features':max_features,\n",
    "              'rf__min_samples_leaf':min_samples_leaf\n",
    "             }\n",
    "\n",
    "\n",
    "\n",
    "gcv_rf_mae = GridSearchCV(pipe_rf_mae,parameters,cv=10,scoring='neg_mean_absolute_error',verbose=2)\n",
    "gcv_rf_mae.fit(X_train,y_train)\n",
    "best_pipe_rf_mae = gcv_rf_mae.best_estimator_\n",
    "best_pipe_rf_mae.fit(X_train,y_train)\n"
   ]
  },
  {
   "cell_type": "code",
   "execution_count": 44,
   "id": "593177d6",
   "metadata": {},
   "outputs": [],
   "source": [
    "best_model_rf_mae = best_pipe_rf_mae['rf']"
   ]
  },
  {
   "cell_type": "code",
   "execution_count": 45,
   "id": "dfd4da3b",
   "metadata": {},
   "outputs": [
    {
     "data": {
      "text/plain": [
       "(-11.457939688056875,\n",
       " RandomForestRegressor(criterion='absolute_error', max_features=16,\n",
       "                       min_samples_leaf=8, n_estimators=200, n_jobs=-1,\n",
       "                       random_state=12))"
      ]
     },
     "execution_count": 45,
     "metadata": {},
     "output_type": "execute_result"
    }
   ],
   "source": [
    "gcv_rf_mae.best_score_,best_model_rf_mae"
   ]
  },
  {
   "cell_type": "code",
   "execution_count": 46,
   "id": "7fcb8246",
   "metadata": {},
   "outputs": [],
   "source": [
    "y_pred_rf_mae = best_model_rf_mae.predict(X_test)"
   ]
  },
  {
   "cell_type": "code",
   "execution_count": 47,
   "id": "a7192aab",
   "metadata": {},
   "outputs": [
    {
     "data": {
      "text/plain": [
       "11.934486637347767"
      ]
     },
     "execution_count": 47,
     "metadata": {},
     "output_type": "execute_result"
    }
   ],
   "source": [
    "mean_absolute_error(y_test,y_pred_rf_mae)"
   ]
  },
  {
   "cell_type": "code",
   "execution_count": 48,
   "id": "90441a28",
   "metadata": {},
   "outputs": [
    {
     "data": {
      "image/png": "[encoded data removed]",
      "text/plain": [
       "<Figure size 432x288 with 1 Axes>"
      ]
     },
     "metadata": {
      "needs_background": "light"
     },
     "output_type": "display_data"
    }
   ],
   "source": [
    "feature_imp = pd.DataFrame({'importance':best_model_rf_mae.feature_importances_},index = X_train.columns)\n",
    "feature_imp = feature_imp.sort_values(by='importance',ascending=False)\n",
    "sns.barplot(data = feature_imp,\n",
    "            x = 'importance',\n",
    "            y = feature_imp.index)\n",
    "plt.show()"
   ]
  },
  {
   "cell_type": "code",
   "execution_count": 49,
   "id": "ed955592",
   "metadata": {},
   "outputs": [
    {
     "name": "stderr",
     "output_type": "stream",
     "text": [
      "/opt/anaconda3/lib/python3.7/site-packages/seaborn/distributions.py:2551: FutureWarning: `distplot` is a deprecated function and will be removed in a future version. Please adapt your code to use either `displot` (a figure-level function with similar flexibility) or `histplot` (an axes-level function for histograms).\n",
      "  warnings.warn(msg, FutureWarning)\n",
      "/opt/anaconda3/lib/python3.7/site-packages/seaborn/distributions.py:2551: FutureWarning: `distplot` is a deprecated function and will be removed in a future version. Please adapt your code to use either `displot` (a figure-level function with similar flexibility) or `histplot` (an axes-level function for histograms).\n",
      "  warnings.warn(msg, FutureWarning)\n"
     ]
    },
    {
     "data": {
      "image/png": "[encoded data removed]",
      "text/plain": [
       "<Figure size 720x720 with 1 Axes>"
      ]
     },
     "metadata": {
      "needs_background": "light"
     },
     "output_type": "display_data"
    }
   ],
   "source": [
    "ax = plt.figure(figsize = (10,10))\n",
    "sns.distplot(x = y_test,bins = 30,label = 'y_test')\n",
    "sns.distplot(x = y_pred_rf_mae,bins = 30,label = 'y_pred')\n",
    "plt.legend()\n",
    "plt.show()"
   ]
  },
  {
   "cell_type": "code",
   "execution_count": 50,
   "id": "f4884658",
   "metadata": {},
   "outputs": [],
   "source": [
    "from sklearn.inspection import permutation_importance\n",
    "r = permutation_importance(best_model_rf_mae, X_test, y_test,\n",
    "                           n_repeats=100,\n",
    "                           random_state=0,scoring='neg_mean_absolute_error')"
   ]
  },
  {
   "cell_type": "code",
   "execution_count": 107,
   "id": "43f9ebff",
   "metadata": {},
   "outputs": [
    {
     "name": "stdout",
     "output_type": "stream",
     "text": [
      "POPULATION 3.092 +/- 0.150\n",
      "EP_NOVEH 2.618 +/- 0.115\n",
      "WHITE    1.501 +/- 0.100\n",
      "EP_PCI   1.488 +/- 0.104\n",
      "AFAM     1.470 +/- 0.109\n",
      "EP_AGE65 0.663 +/- 0.060\n",
      "HWAV_EALT 0.443 +/- 0.062\n",
      "WFIR_EALT 0.245 +/- 0.023\n",
      "EP_MOBILE 0.212 +/- 0.029\n",
      "HRCN_EALT 0.209 +/- 0.024\n",
      "HISPANIC 0.189 +/- 0.028\n",
      "EP_AGE17 0.134 +/- 0.014\n",
      "EP_UNEMP 0.122 +/- 0.020\n",
      "CFLD_EALT 0.075 +/- 0.016\n",
      "EP_CROWD 0.071 +/- 0.012\n",
      "RFLD_EALT 0.045 +/- 0.011\n"
     ]
    }
   ],
   "source": [
    "for i in r.importances_mean.argsort()[::-1]:\n",
    "    if r.importances_mean[i] - 2 * r.importances_std[i] > 0:\n",
    "         print(f\"{X_train.columns[i]:<8}\"\n",
    "               f\" {r.importances_mean[i]:.3f}\"\n",
    "               f\" +/- {r.importances_std[i]:.3f}\")\n",
    "    else:\n",
    "        print('abc')"
   ]
  }
 ],
 "metadata": {
  "kernelspec": {
   "display_name": "Python 3.7.6 64-bit ('base': conda)",
   "language": "python",
   "name": "python37664bitbaseconda15aae41925a8475e86b7bea0cce036d9"
  },
  "language_info": {
   "codemirror_mode": {
    "name": "ipython",
    "version": 3
   },
   "file_extension": ".py",
   "mimetype": "text/x-python",
   "name": "python",
   "nbconvert_exporter": "python",
   "pygments_lexer": "ipython3",
   "version": "3.7.10"
  },
  "toc": {
   "base_numbering": 1,
   "nav_menu": {},
   "number_sections": true,
   "sideBar": true,
   "skip_h1_title": false,
   "title_cell": "Table of Contents",
   "title_sidebar": "Contents",
   "toc_cell": false,
   "toc_position": {},
   "toc_section_display": true,
   "toc_window_display": false
  }
 },
 "nbformat": 4,
 "nbformat_minor": 5
}
