{
 "cells": [
  {
   "cell_type": "code",
   "execution_count": 42,
   "id": "9ea0793a",
   "metadata": {},
   "outputs": [],
   "source": [
    "import pandas as pd\n",
    "import numpy as np\n",
    "from sklearn.model_selection import cross_val_score, cross_validate, KFold\n",
    "from sklearn.linear_model import PoissonRegressor, LinearRegression\n",
    "from sklearn.pipeline import Pipeline\n",
    "from sklearn.preprocessing import StandardScaler\n",
    "import matplotlib.pyplot as plt\n",
    "from sklearn.ensemble import RandomForestRegressor"
   ]
  },
  {
   "cell_type": "code",
   "execution_count": 43,
   "id": "e05a8719",
   "metadata": {},
   "outputs": [],
   "source": [
    "train = pd.read_csv(\"../data/processed/sepher_model_data/train.csv\")\n",
    "train = train.sample(frac=1,random_state = 12)\n",
    "train = train[train['FIPS'].astype(str).apply(len)==11] #Remove when data fixed\n",
    "train.dropna(inplace=True)#Inpute missing is better\n",
    "X,y = train.drop(['FIPS','EVICTIONS'],axis=1),train['EVICTIONS']\n",
    "m,n = X.shape"
   ]
  },
  {
   "cell_type": "code",
   "execution_count": 45,
   "id": "449dd571",
   "metadata": {},
   "outputs": [],
   "source": [
    "pipe = Pipeline([('scaler', StandardScaler()), ('pr', PoissonRegressor(max_iter=1000))])"
   ]
  },
  {
   "cell_type": "code",
   "execution_count": 46,
   "id": "c1e05381",
   "metadata": {},
   "outputs": [],
   "source": [
    "pipe = Pipeline([('rf', RandomForestRegressor(n_estimators=200,\n",
    "                                                n_jobs=-1,\n",
    "                                                max_features = int(round(n/3)),\n",
    "                                                random_state = 12,\n",
    "                                                criterion = 'absolute_error'\n",
    "                                             )\n",
    "                 )\n",
    "                ])\n",
    "\n"
   ]
  },
  {
   "cell_type": "code",
   "execution_count": 47,
   "id": "e11296a8",
   "metadata": {},
   "outputs": [
    {
     "data": {
      "text/plain": [
       "-11.977979875055714"
      ]
     },
     "execution_count": 47,
     "metadata": {},
     "output_type": "execute_result"
    }
   ],
   "source": [
    "scores = cross_val_score(pipe,X,y,cv=10,scoring='neg_mean_absolute_error')\n",
    "scores.mean()"
   ]
  },
  {
   "cell_type": "code",
   "execution_count": 32,
   "id": "3d33e87e",
   "metadata": {},
   "outputs": [
    {
     "data": {
      "text/plain": [
       "{'fit_time': array([0.82744026, 0.79810619, 0.78579426, 0.74035406, 0.77246499,\n",
       "        0.77070189, 0.76202703, 0.86831903, 0.89976192, 0.90292192]),\n",
       " 'score_time': array([0.10731387, 0.10626006, 0.10793686, 0.10868406, 0.10874009,\n",
       "        0.10699797, 0.10767102, 0.10772991, 0.10602593, 0.109308  ]),\n",
       " 'estimator': [Pipeline(steps=[('rf',\n",
       "                   RandomForestRegressor(max_features=6, n_jobs=-1,\n",
       "                                         random_state=12))]),\n",
       "  Pipeline(steps=[('rf',\n",
       "                   RandomForestRegressor(max_features=6, n_jobs=-1,\n",
       "                                         random_state=12))]),\n",
       "  Pipeline(steps=[('rf',\n",
       "                   RandomForestRegressor(max_features=6, n_jobs=-1,\n",
       "                                         random_state=12))]),\n",
       "  Pipeline(steps=[('rf',\n",
       "                   RandomForestRegressor(max_features=6, n_jobs=-1,\n",
       "                                         random_state=12))]),\n",
       "  Pipeline(steps=[('rf',\n",
       "                   RandomForestRegressor(max_features=6, n_jobs=-1,\n",
       "                                         random_state=12))]),\n",
       "  Pipeline(steps=[('rf',\n",
       "                   RandomForestRegressor(max_features=6, n_jobs=-1,\n",
       "                                         random_state=12))]),\n",
       "  Pipeline(steps=[('rf',\n",
       "                   RandomForestRegressor(max_features=6, n_jobs=-1,\n",
       "                                         random_state=12))]),\n",
       "  Pipeline(steps=[('rf',\n",
       "                   RandomForestRegressor(max_features=6, n_jobs=-1,\n",
       "                                         random_state=12))]),\n",
       "  Pipeline(steps=[('rf',\n",
       "                   RandomForestRegressor(max_features=6, n_jobs=-1,\n",
       "                                         random_state=12))]),\n",
       "  Pipeline(steps=[('rf',\n",
       "                   RandomForestRegressor(max_features=6, n_jobs=-1,\n",
       "                                         random_state=12))])],\n",
       " 'test_score': array([-11.72003895, -11.23831384, -12.03025341, -12.47789474,\n",
       "        -12.90764133, -11.70025341, -11.89893762, -11.47639376,\n",
       "        -11.73748538, -12.03307992])}"
      ]
     },
     "execution_count": 32,
     "metadata": {},
     "output_type": "execute_result"
    }
   ],
   "source": [
    "scores"
   ]
  },
  {
   "cell_type": "code",
   "execution_count": 82,
   "id": "ec29f7a0",
   "metadata": {},
   "outputs": [
    {
     "data": {
      "text/plain": [
       "<AxesSubplot:>"
      ]
     },
     "execution_count": 82,
     "metadata": {},
     "output_type": "execute_result"
    },
    {
     "data": {
      "image/png": "[encoded data removed]",
      "text/plain": [
       "<Figure size 432x288 with 1 Axes>"
      ]
     },
     "metadata": {
      "needs_background": "light"
     },
     "output_type": "display_data"
    }
   ],
   "source": [
    "y.hist()"
   ]
  },
  {
   "cell_type": "code",
   "execution_count": 6,
   "id": "b052ace1",
   "metadata": {},
   "outputs": [
    {
     "data": {
      "text/plain": [
       "array([-13.49957157, -12.77131335, -13.35903021, -12.02695175,\n",
       "       -12.88664961, -13.26606481, -11.93976121, -12.42957359,\n",
       "       -12.84848928, -12.14000975])"
      ]
     },
     "execution_count": 6,
     "metadata": {},
     "output_type": "execute_result"
    }
   ],
   "source": [
    "scores"
   ]
  },
  {
   "cell_type": "code",
   "execution_count": null,
   "id": "82f703b8",
   "metadata": {},
   "outputs": [],
   "source": []
  }
 ],
 "metadata": {
  "kernelspec": {
   "display_name": "Python 3.7.6 64-bit ('base': conda)",
   "language": "python",
   "name": "python37664bitbaseconda15aae41925a8475e86b7bea0cce036d9"
  },
  "language_info": {
   "codemirror_mode": {
    "name": "ipython",
    "version": 3
   },
   "file_extension": ".py",
   "mimetype": "text/x-python",
   "name": "python",
   "nbconvert_exporter": "python",
   "pygments_lexer": "ipython3",
   "version": "3.7.10"
  },
  "toc": {
   "base_numbering": 1,
   "nav_menu": {},
   "number_sections": true,
   "sideBar": true,
   "skip_h1_title": false,
   "title_cell": "Table of Contents",
   "title_sidebar": "Contents",
   "toc_cell": false,
   "toc_position": {},
   "toc_section_display": true,
   "toc_window_display": false
  }
 },
 "nbformat": 4,
 "nbformat_minor": 5
}
